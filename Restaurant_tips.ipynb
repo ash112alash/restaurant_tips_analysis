{
 "cells": [
  {
   "cell_type": "code",
   "execution_count": 22,
   "id": "fab98755-d58c-4d39-8f12-ff9c287d8896",
   "metadata": {},
   "outputs": [
    {
     "name": "stdout",
     "output_type": "stream",
     "text": [
      "Dataset 1\n"
     ]
    },
    {
     "data": {
      "text/html": [
       "<div>\n",
       "<style scoped>\n",
       "    .dataframe tbody tr th:only-of-type {\n",
       "        vertical-align: middle;\n",
       "    }\n",
       "\n",
       "    .dataframe tbody tr th {\n",
       "        vertical-align: top;\n",
       "    }\n",
       "\n",
       "    .dataframe thead th {\n",
       "        text-align: right;\n",
       "    }\n",
       "</style>\n",
       "<table border=\"1\" class=\"dataframe\">\n",
       "  <thead>\n",
       "    <tr style=\"text-align: right;\">\n",
       "      <th></th>\n",
       "      <th>Bill</th>\n",
       "      <th>Tip</th>\n",
       "      <th>Credit</th>\n",
       "      <th>Guests</th>\n",
       "      <th>Day</th>\n",
       "      <th>Server</th>\n",
       "      <th>PctTip</th>\n",
       "    </tr>\n",
       "  </thead>\n",
       "  <tbody>\n",
       "    <tr>\n",
       "      <th>0</th>\n",
       "      <td>23.70</td>\n",
       "      <td>10.00</td>\n",
       "      <td>n</td>\n",
       "      <td>2</td>\n",
       "      <td>f</td>\n",
       "      <td>A</td>\n",
       "      <td>42.2</td>\n",
       "    </tr>\n",
       "    <tr>\n",
       "      <th>1</th>\n",
       "      <td>36.11</td>\n",
       "      <td>7.00</td>\n",
       "      <td>n</td>\n",
       "      <td>3</td>\n",
       "      <td>f</td>\n",
       "      <td>B</td>\n",
       "      <td>19.4</td>\n",
       "    </tr>\n",
       "    <tr>\n",
       "      <th>2</th>\n",
       "      <td>31.99</td>\n",
       "      <td>5.01</td>\n",
       "      <td>y</td>\n",
       "      <td>2</td>\n",
       "      <td>f</td>\n",
       "      <td>A</td>\n",
       "      <td>15.7</td>\n",
       "    </tr>\n",
       "    <tr>\n",
       "      <th>3</th>\n",
       "      <td>17.39</td>\n",
       "      <td>3.61</td>\n",
       "      <td>y</td>\n",
       "      <td>2</td>\n",
       "      <td>f</td>\n",
       "      <td>B</td>\n",
       "      <td>20.8</td>\n",
       "    </tr>\n",
       "    <tr>\n",
       "      <th>4</th>\n",
       "      <td>15.41</td>\n",
       "      <td>3.00</td>\n",
       "      <td>n</td>\n",
       "      <td>2</td>\n",
       "      <td>f</td>\n",
       "      <td>B</td>\n",
       "      <td>19.5</td>\n",
       "    </tr>\n",
       "  </tbody>\n",
       "</table>\n",
       "</div>"
      ],
      "text/plain": [
       "    Bill    Tip Credit  Guests Day Server  PctTip\n",
       "0  23.70  10.00      n       2   f      A    42.2\n",
       "1  36.11   7.00      n       3   f      B    19.4\n",
       "2  31.99   5.01      y       2   f      A    15.7\n",
       "3  17.39   3.61      y       2   f      B    20.8\n",
       "4  15.41   3.00      n       2   f      B    19.5"
      ]
     },
     "metadata": {},
     "output_type": "display_data"
    },
    {
     "name": "stdout",
     "output_type": "stream",
     "text": [
      "<class 'pandas.core.frame.DataFrame'>\n",
      "RangeIndex: 157 entries, 0 to 156\n",
      "Data columns (total 7 columns):\n",
      " #   Column  Non-Null Count  Dtype  \n",
      "---  ------  --------------  -----  \n",
      " 0   Bill    157 non-null    float64\n",
      " 1   Tip     157 non-null    float64\n",
      " 2   Credit  157 non-null    object \n",
      " 3   Guests  157 non-null    int64  \n",
      " 4   Day     157 non-null    object \n",
      " 5   Server  157 non-null    object \n",
      " 6   PctTip  157 non-null    float64\n",
      "dtypes: float64(3), int64(1), object(3)\n",
      "memory usage: 8.7+ KB\n"
     ]
    },
    {
     "data": {
      "text/plain": [
       "None"
      ]
     },
     "metadata": {},
     "output_type": "display_data"
    },
    {
     "name": "stdout",
     "output_type": "stream",
     "text": [
      "\n",
      " Dataset 2\n"
     ]
    },
    {
     "data": {
      "text/html": [
       "<div>\n",
       "<style scoped>\n",
       "    .dataframe tbody tr th:only-of-type {\n",
       "        vertical-align: middle;\n",
       "    }\n",
       "\n",
       "    .dataframe tbody tr th {\n",
       "        vertical-align: top;\n",
       "    }\n",
       "\n",
       "    .dataframe thead th {\n",
       "        text-align: right;\n",
       "    }\n",
       "</style>\n",
       "<table border=\"1\" class=\"dataframe\">\n",
       "  <thead>\n",
       "    <tr style=\"text-align: right;\">\n",
       "      <th></th>\n",
       "      <th>total_bill</th>\n",
       "      <th>tip</th>\n",
       "      <th>sex</th>\n",
       "      <th>smoker</th>\n",
       "      <th>day</th>\n",
       "      <th>time</th>\n",
       "      <th>size</th>\n",
       "    </tr>\n",
       "  </thead>\n",
       "  <tbody>\n",
       "    <tr>\n",
       "      <th>0</th>\n",
       "      <td>16.99</td>\n",
       "      <td>1.01</td>\n",
       "      <td>Female</td>\n",
       "      <td>No</td>\n",
       "      <td>Sun</td>\n",
       "      <td>Dinner</td>\n",
       "      <td>2</td>\n",
       "    </tr>\n",
       "    <tr>\n",
       "      <th>1</th>\n",
       "      <td>10.34</td>\n",
       "      <td>1.66</td>\n",
       "      <td>Male</td>\n",
       "      <td>No</td>\n",
       "      <td>Sun</td>\n",
       "      <td>Dinner</td>\n",
       "      <td>3</td>\n",
       "    </tr>\n",
       "    <tr>\n",
       "      <th>2</th>\n",
       "      <td>21.01</td>\n",
       "      <td>3.50</td>\n",
       "      <td>Male</td>\n",
       "      <td>No</td>\n",
       "      <td>Sun</td>\n",
       "      <td>Dinner</td>\n",
       "      <td>3</td>\n",
       "    </tr>\n",
       "    <tr>\n",
       "      <th>3</th>\n",
       "      <td>23.68</td>\n",
       "      <td>3.31</td>\n",
       "      <td>Male</td>\n",
       "      <td>No</td>\n",
       "      <td>Sun</td>\n",
       "      <td>Dinner</td>\n",
       "      <td>2</td>\n",
       "    </tr>\n",
       "    <tr>\n",
       "      <th>4</th>\n",
       "      <td>24.59</td>\n",
       "      <td>3.61</td>\n",
       "      <td>Female</td>\n",
       "      <td>No</td>\n",
       "      <td>Sun</td>\n",
       "      <td>Dinner</td>\n",
       "      <td>4</td>\n",
       "    </tr>\n",
       "  </tbody>\n",
       "</table>\n",
       "</div>"
      ],
      "text/plain": [
       "   total_bill   tip     sex smoker  day    time  size\n",
       "0       16.99  1.01  Female     No  Sun  Dinner     2\n",
       "1       10.34  1.66    Male     No  Sun  Dinner     3\n",
       "2       21.01  3.50    Male     No  Sun  Dinner     3\n",
       "3       23.68  3.31    Male     No  Sun  Dinner     2\n",
       "4       24.59  3.61  Female     No  Sun  Dinner     4"
      ]
     },
     "metadata": {},
     "output_type": "display_data"
    },
    {
     "name": "stdout",
     "output_type": "stream",
     "text": [
      "<class 'pandas.core.frame.DataFrame'>\n",
      "RangeIndex: 244 entries, 0 to 243\n",
      "Data columns (total 7 columns):\n",
      " #   Column      Non-Null Count  Dtype  \n",
      "---  ------      --------------  -----  \n",
      " 0   total_bill  244 non-null    float64\n",
      " 1   tip         244 non-null    float64\n",
      " 2   sex         244 non-null    object \n",
      " 3   smoker      244 non-null    object \n",
      " 4   day         244 non-null    object \n",
      " 5   time        244 non-null    object \n",
      " 6   size        244 non-null    int64  \n",
      "dtypes: float64(2), int64(1), object(4)\n",
      "memory usage: 13.5+ KB\n"
     ]
    },
    {
     "data": {
      "text/plain": [
       "None"
      ]
     },
     "metadata": {},
     "output_type": "display_data"
    },
    {
     "name": "stdout",
     "output_type": "stream",
     "text": [
      "\n",
      " \n",
      " \n",
      " Edited version of datasets \n",
      "\n",
      "Dataset 1\n",
      "Days Recorded: \n",
      " Wed     62\n",
      "Thur    36\n",
      "Fri     26\n",
      "Mon     20\n",
      "Tue     13\n",
      "Name: Day, dtype: int64\n"
     ]
    },
    {
     "data": {
      "text/html": [
       "<div>\n",
       "<style scoped>\n",
       "    .dataframe tbody tr th:only-of-type {\n",
       "        vertical-align: middle;\n",
       "    }\n",
       "\n",
       "    .dataframe tbody tr th {\n",
       "        vertical-align: top;\n",
       "    }\n",
       "\n",
       "    .dataframe thead th {\n",
       "        text-align: right;\n",
       "    }\n",
       "</style>\n",
       "<table border=\"1\" class=\"dataframe\">\n",
       "  <thead>\n",
       "    <tr style=\"text-align: right;\">\n",
       "      <th></th>\n",
       "      <th>Bill</th>\n",
       "      <th>Tip</th>\n",
       "      <th>Day</th>\n",
       "      <th>Guests</th>\n",
       "      <th>PctTip</th>\n",
       "      <th>PctTips_Guest</th>\n",
       "    </tr>\n",
       "  </thead>\n",
       "  <tbody>\n",
       "    <tr>\n",
       "      <th>156</th>\n",
       "      <td>17.12</td>\n",
       "      <td>2.5</td>\n",
       "      <td>Mon</td>\n",
       "      <td>2</td>\n",
       "      <td>14.6</td>\n",
       "      <td>7.3</td>\n",
       "    </tr>\n",
       "    <tr>\n",
       "      <th>137</th>\n",
       "      <td>6.69</td>\n",
       "      <td>1.0</td>\n",
       "      <td>Mon</td>\n",
       "      <td>1</td>\n",
       "      <td>14.9</td>\n",
       "      <td>14.9</td>\n",
       "    </tr>\n",
       "    <tr>\n",
       "      <th>134</th>\n",
       "      <td>16.48</td>\n",
       "      <td>3.0</td>\n",
       "      <td>Mon</td>\n",
       "      <td>2</td>\n",
       "      <td>18.2</td>\n",
       "      <td>9.1</td>\n",
       "    </tr>\n",
       "    <tr>\n",
       "      <th>155</th>\n",
       "      <td>51.68</td>\n",
       "      <td>10.0</td>\n",
       "      <td>Mon</td>\n",
       "      <td>6</td>\n",
       "      <td>19.3</td>\n",
       "      <td>3.2</td>\n",
       "    </tr>\n",
       "    <tr>\n",
       "      <th>106</th>\n",
       "      <td>18.83</td>\n",
       "      <td>2.8</td>\n",
       "      <td>Mon</td>\n",
       "      <td>2</td>\n",
       "      <td>14.9</td>\n",
       "      <td>7.4</td>\n",
       "    </tr>\n",
       "  </tbody>\n",
       "</table>\n",
       "</div>"
      ],
      "text/plain": [
       "      Bill   Tip  Day  Guests  PctTip  PctTips_Guest\n",
       "156  17.12   2.5  Mon       2    14.6            7.3\n",
       "137   6.69   1.0  Mon       1    14.9           14.9\n",
       "134  16.48   3.0  Mon       2    18.2            9.1\n",
       "155  51.68  10.0  Mon       6    19.3            3.2\n",
       "106  18.83   2.8  Mon       2    14.9            7.4"
      ]
     },
     "metadata": {},
     "output_type": "display_data"
    },
    {
     "name": "stdout",
     "output_type": "stream",
     "text": [
      "Day\n",
      "Mon     15.935000\n",
      "Tue     18.023077\n",
      "Wed     16.551613\n",
      "Thur    16.869444\n",
      "Fri     16.257692\n",
      "Name: PctTip, dtype: float64\n"
     ]
    },
    {
     "data": {
      "image/png": "[encoded data removed]",
      "text/plain": [
       "<Figure size 640x480 with 1 Axes>"
      ]
     },
     "metadata": {},
     "output_type": "display_data"
    },
    {
     "data": {
      "application/vnd.plotly.v1+json": {
       "config": {
        "plotlyServerURL": "https://plot.ly"
       },
       "data": [
        {
         "hovertemplate": "Day=Mon<br>Bill=%{x}<br>Tip=%{y}<br>Guests=%{marker.size}<extra></extra>",
         "legendgroup": "Mon",
         "marker": {
          "color": "#636efa",
          "size": [
           2,
           1,
           2,
           6,
           2,
           2,
           2,
           3,
           2,
           2,
           2,
           3,
           3,
           1,
           2,
           3,
           3,
           2,
           2,
           2
          ],
          "sizemode": "area",
          "sizeref": 0.0175,
          "symbol": "circle"
         },
         "mode": "markers",
         "name": "Mon",
         "orientation": "v",
         "showlegend": true,
         "type": "scatter",
         "x": [
          17.12,
          6.69,
          16.48,
          51.68,
          18.83,
          17.82,
          23.97,
          27.45,
          18.4,
          16.8,
          3.75,
          35.95,
          35.68,
          9.84,
          14.87,
          12.57,
          31.3,
          32.69,
          24.82,
          20.76
         ],
         "xaxis": "x",
         "y": [
          2.5,
          1,
          3,
          10,
          2.8,
          2.75,
          4,
          4,
          2.75,
          2.2,
          0.25,
          6.05,
          5,
          2.16,
          3.13,
          2,
          5.7,
          5,
          4.4,
          3
         ],
         "yaxis": "y"
        },
        {
         "hovertemplate": "<b>OLS trendline</b><br>Tip = 0.1795 * Bill + -0.341786<br>R<sup>2</sup>=0.940569<br><br>Day=Mon<br>Bill=%{x}<br>Tip=%{y} <b>(trend)</b><extra></extra>",
         "legendgroup": "Mon",
         "marker": {
          "color": "#636efa",
          "symbol": "circle"
         },
         "mode": "lines",
         "name": "Mon",
         "showlegend": false,
         "type": "scatter",
         "x": [
          3.75,
          6.69,
          9.84,
          12.57,
          14.87,
          16.48,
          16.8,
          17.12,
          17.82,
          18.4,
          18.83,
          20.76,
          23.97,
          24.82,
          27.45,
          31.3,
          32.69,
          35.68,
          35.95,
          51.68
         ],
         "xaxis": "x",
         "y": [
          0.3313374392609776,
          0.8590665163472315,
          1.424490527511075,
          1.9145246705197396,
          2.3273739485123874,
          2.6163684431072403,
          2.673808342654044,
          2.731248242200847,
          2.856898022459479,
          2.961007840388059,
          3.038192705404076,
          3.3846270995457326,
          3.9608210918746014,
          4.113395825045798,
          4.585479999446086,
          5.276553790868562,
          5.526058354524988,
          6.062762415915429,
          6.111227331158045,
          8.934757393255586
         ],
         "yaxis": "y"
        },
        {
         "hovertemplate": "Day=Tue<br>Bill=%{x}<br>Tip=%{y}<br>Guests=%{marker.size}<extra></extra>",
         "legendgroup": "Tue",
         "marker": {
          "color": "#EF553B",
          "size": [
           2,
           2,
           2,
           7,
           2,
           2,
           2,
           2,
           2,
           2,
           1,
           1,
           4
          ],
          "sizemode": "area",
          "sizeref": 0.0175,
          "symbol": "circle"
         },
         "mode": "markers",
         "name": "Tue",
         "orientation": "v",
         "showlegend": true,
         "type": "scatter",
         "x": [
          17.12,
          24.5,
          18.62,
          57.3,
          11.18,
          27.66,
          19.53,
          11.18,
          53.54,
          18.67,
          13.86,
          11.93,
          30.98
         ],
         "xaxis": "x",
         "y": [
          3.72,
          3.5,
          3.35,
          10,
          2,
          4.16,
          8,
          1.82,
          9,
          3.33,
          1.14,
          2,
          4.02
         ],
         "yaxis": "y"
        },
        {
         "hovertemplate": "<b>OLS trendline</b><br>Tip = 0.161981 * Bill + 0.372507<br>R<sup>2</sup>=0.735521<br><br>Day=Tue<br>Bill=%{x}<br>Tip=%{y} <b>(trend)</b><extra></extra>",
         "legendgroup": "Tue",
         "marker": {
          "color": "#EF553B",
          "symbol": "circle"
         },
         "mode": "lines",
         "name": "Tue",
         "showlegend": false,
         "type": "scatter",
         "x": [
          11.18,
          11.18,
          11.93,
          13.86,
          17.12,
          18.62,
          18.67,
          19.53,
          24.5,
          27.66,
          30.98,
          53.54,
          57.3
         ],
         "xaxis": "x",
         "y": [
          2.183457104359284,
          2.183457104359284,
          2.304943036723233,
          2.617566836006461,
          3.1456256886817586,
          3.388597553409656,
          3.3966966155672527,
          3.536000484677914,
          4.341047263143015,
          4.852907991503119,
          5.390685718767532,
          9.044982564275111,
          9.654032038526372
         ],
         "yaxis": "y"
        },
        {
         "hovertemplate": "Day=Wed<br>Bill=%{x}<br>Tip=%{y}<br>Guests=%{marker.size}<extra></extra>",
         "legendgroup": "Wed",
         "marker": {
          "color": "#00cc96",
          "size": [
           1,
           2,
           2,
           2,
           2,
           2,
           2,
           3,
           2,
           1,
           2,
           1,
           2,
           2,
           3,
           2,
           2,
           3,
           1,
           3,
           2,
           2,
           1,
           1,
           2,
           1,
           2,
           2,
           2,
           2,
           1,
           3,
           2,
           1,
           2,
           1,
           6,
           2,
           2,
           1,
           1,
           3,
           2,
           2,
           1,
           1,
           2,
           2,
           2,
           2,
           3,
           1,
           2,
           2,
           1,
           2,
           1,
           1,
           2,
           2,
           2,
           2
          ],
          "sizemode": "area",
          "sizeref": 0.0175,
          "symbol": "circle"
         },
         "mode": "markers",
         "name": "Wed",
         "orientation": "v",
         "showlegend": true,
         "type": "scatter",
         "x": [
          7.44,
          15.25,
          18.08,
          30.6,
          14.34,
          23.91,
          26.8,
          18.67,
          37.34,
          22.2,
          36.27,
          23,
          42.96,
          21.03,
          29,
          50.24,
          28.84,
          28.36,
          11.72,
          18.14,
          16.26,
          20.22,
          8.4,
          11.66,
          12.31,
          9.52,
          17.82,
          25.63,
          18.62,
          3.26,
          10.17,
          18.62,
          19.42,
          1.66,
          39.75,
          12.52,
          59.33,
          17.44,
          19.69,
          9.36,
          10.59,
          31.94,
          22.26,
          20.33,
          10.17,
          9.2,
          20.87,
          17.39,
          7.97,
          32.31,
          21.88,
          7.76,
          17.44,
          29.85,
          7.7,
          23.27,
          30.98,
          60.72,
          70.51,
          14.23,
          38.73,
          23.43
         ],
         "xaxis": "x",
         "y": [
          1.56,
          2.75,
          2,
          5,
          2,
          4,
          2.2,
          3,
          5.96,
          4,
          7,
          3.75,
          7.04,
          3,
          4,
          9.76,
          5.16,
          5.44,
          2.28,
          4,
          2.43,
          4.37,
          1.6,
          1.5,
          1.9,
          1,
          3.18,
          5,
          2.38,
          0.74,
          2,
          2.79,
          3,
          0.25,
          7.25,
          1.5,
          10,
          3.7,
          2.31,
          1.44,
          1.5,
          8.06,
          3.74,
          4,
          1.83,
          1.8,
          3.13,
          3.61,
          1.03,
          4.69,
          4,
          1,
          2,
          4.15,
          1,
          3.73,
          5.02,
          15,
          10.49,
          2.15,
          5.7,
          4
         ],
         "yaxis": "y"
        },
        {
         "hovertemplate": "<b>OLS trendline</b><br>Tip = 0.183974 * Bill + -0.338782<br>R<sup>2</sup>=0.884289<br><br>Day=Wed<br>Bill=%{x}<br>Tip=%{y} <b>(trend)</b><extra></extra>",
         "legendgroup": "Wed",
         "marker": {
          "color": "#00cc96",
          "symbol": "circle"
         },
         "mode": "lines",
         "name": "Wed",
         "showlegend": false,
         "type": "scatter",
         "x": [
          1.66,
          3.26,
          7.44,
          7.7,
          7.76,
          7.97,
          8.4,
          9.2,
          9.36,
          9.52,
          10.17,
          10.17,
          10.59,
          11.66,
          11.72,
          12.31,
          12.52,
          14.23,
          14.34,
          15.25,
          16.26,
          17.39,
          17.44,
          17.44,
          17.82,
          18.08,
          18.14,
          18.62,
          18.62,
          18.67,
          19.42,
          19.69,
          20.22,
          20.33,
          20.87,
          21.03,
          21.88,
          22.2,
          22.26,
          23,
          23.27,
          23.43,
          23.91,
          25.63,
          26.8,
          28.36,
          28.84,
          29,
          29.85,
          30.6,
          30.98,
          31.94,
          32.31,
          36.27,
          37.34,
          38.73,
          39.75,
          42.96,
          50.24,
          59.33,
          60.72,
          70.51
         ],
         "xaxis": "x",
         "y": [
          -0.03338425959029728,
          0.2609747992118154,
          1.029987840332335,
          1.0778211873876782,
          1.0888596520927574,
          1.1274942785605346,
          1.2066032756136025,
          1.3537828050146588,
          1.3832187108948701,
          1.4126546167750813,
          1.5322379844134397,
          1.5322379844134397,
          1.6095072373489943,
          1.8063598579229072,
          1.8173983226279866,
          1.9259432255612656,
          1.964577852029043,
          2.279174096123801,
          2.2994112814164462,
          2.466827996110148,
          2.652642151978982,
          2.860533237257974,
          2.86973195784554,
          2.86973195784554,
          2.9396422343110413,
          2.9874755813663842,
          2.998514046071464,
          3.086821763712098,
          3.086821763712098,
          3.096020484299664,
          3.2340012931131543,
          3.283674384286011,
          3.38118082251421,
          3.4014180078068557,
          3.500764190152569,
          3.53020009603278,
          3.6865783460214026,
          3.745450157781825,
          3.7564886224869047,
          3.8926296871828816,
          3.942302778355738,
          3.971738684235949,
          4.060046401876583,
          4.376482390088854,
          4.591732451837899,
          4.878732534169959,
          4.967040251810593,
          4.996476157690804,
          5.152854407679427,
          5.290835216492917,
          5.360745492958419,
          5.5373609282396865,
          5.605431460587675,
          6.333970131122904,
          6.530822751696817,
          6.786547184031152,
          6.974201084017499,
          7.5647589457392375,
          8.90409266328885,
          10.576420066108353,
          10.832144498442688,
          12.633253989488116
         ],
         "yaxis": "y"
        },
        {
         "hovertemplate": "Day=Thur<br>Bill=%{x}<br>Tip=%{y}<br>Guests=%{marker.size}<extra></extra>",
         "legendgroup": "Thur",
         "marker": {
          "color": "#ab63fa",
          "size": [
           5,
           3,
           2,
           2,
           3,
           2,
           2,
           2,
           2,
           1,
           1,
           2,
           5,
           3,
           4,
           2,
           2,
           2,
           1,
           2,
           2,
           2,
           4,
           2,
           1,
           2,
           2,
           3,
           1,
           2,
           3,
           2,
           2,
           2,
           2,
           2
          ],
          "sizemode": "area",
          "sizeref": 0.0175,
          "symbol": "circle"
         },
         "mode": "markers",
         "name": "Thur",
         "orientation": "v",
         "showlegend": true,
         "type": "scatter",
         "x": [
          55.59,
          24.34,
          31.35,
          18.62,
          29.53,
          22.68,
          36.86,
          15.62,
          25.09,
          13.11,
          9.31,
          29.05,
          41.94,
          27.82,
          49.59,
          39.8,
          22.47,
          13.38,
          26.16,
          29.64,
          25.95,
          17.71,
          28.09,
          23.38,
          28.36,
          12.54,
          18.73,
          35.9,
          9.58,
          18.14,
          31.14,
          15.73,
          16.85,
          16.53,
          34.94,
          8.29
         ],
         "xaxis": "x",
         "y": [
          10,
          4,
          4.5,
          3.11,
          4.47,
          3.55,
          6.14,
          2.81,
          5,
          2,
          1.25,
          5.91,
          7.06,
          4.71,
          10.41,
          6.3,
          4,
          2,
          4.53,
          6,
          4.05,
          2.3,
          5.11,
          4,
          5.2,
          2,
          2.27,
          5,
          1.42,
          2.75,
          5,
          5,
          3,
          2.47,
          6.96,
          1
         ],
         "yaxis": "y"
        },
        {
         "hovertemplate": "<b>OLS trendline</b><br>Tip = 0.18643 * Bill + -0.367159<br>R<sup>2</sup>=0.897295<br><br>Day=Thur<br>Bill=%{x}<br>Tip=%{y} <b>(trend)</b><extra></extra>",
         "legendgroup": "Thur",
         "marker": {
          "color": "#ab63fa",
          "symbol": "circle"
         },
         "mode": "lines",
         "name": "Thur",
         "showlegend": false,
         "type": "scatter",
         "x": [
          8.29,
          9.31,
          9.58,
          12.54,
          13.11,
          13.38,
          15.62,
          15.73,
          16.53,
          16.85,
          17.71,
          18.14,
          18.62,
          18.73,
          22.47,
          22.68,
          23.38,
          24.34,
          25.09,
          25.95,
          26.16,
          27.82,
          28.09,
          28.36,
          29.05,
          29.53,
          29.64,
          31.14,
          31.35,
          34.94,
          35.9,
          36.86,
          39.8,
          41.94,
          49.59,
          55.59
         ],
         "xaxis": "x",
         "y": [
          1.1783495318611354,
          1.368508616701909,
          1.4188448450421136,
          1.970679052031025,
          2.0769444229714575,
          2.127280651311662,
          2.5448849160600275,
          2.565392268346778,
          2.714536648614051,
          2.774194400720961,
          2.9345246095082795,
          3.014689713901939,
          3.1041763420623028,
          3.124683694349053,
          3.821933672098556,
          3.8610840719187154,
          3.9915854046525787,
          4.170558660973307,
          4.310381517473876,
          4.470711726261195,
          4.509862126081354,
          4.819336715135947,
          4.869672943476151,
          4.920009171816356,
          5.048646199796879,
          5.138132827957244,
          5.158640180243993,
          5.438285893245131,
          5.47743629306529,
          6.146721699514679,
          6.325694955835408,
          6.504668212156136,
          7.0527738096383645,
          7.451735026853321,
          8.877928163159124,
          9.996511015163675
         ],
         "yaxis": "y"
        },
        {
         "hovertemplate": "Day=Fri<br>Bill=%{x}<br>Tip=%{y}<br>Guests=%{marker.size}<extra></extra>",
         "legendgroup": "Fri",
         "marker": {
          "color": "#FFA15A",
          "size": [
           2,
           2,
           3,
           2,
           2,
           2,
           2,
           2,
           2,
           2,
           2,
           1,
           2,
           1,
           2,
           2,
           3,
           2,
           2,
           2,
           2,
           2,
           2,
           3,
           1,
           2
          ],
          "sizemode": "area",
          "sizeref": 0.0175,
          "symbol": "circle"
         },
         "mode": "markers",
         "name": "Fri",
         "orientation": "v",
         "showlegend": true,
         "type": "scatter",
         "x": [
          23.7,
          22.36,
          36.11,
          31.99,
          17.39,
          15.41,
          18.62,
          21.56,
          19.58,
          23.59,
          18.67,
          15.19,
          27.98,
          10.17,
          8.83,
          8.88,
          17.49,
          18.4,
          37.24,
          23.65,
          28.89,
          21.24,
          20.22,
          7.54,
          8.08,
          22.95
         ],
         "xaxis": "x",
         "y": [
          10,
          3,
          7,
          5.01,
          3.61,
          3,
          2.5,
          3.44,
          2.42,
          3,
          2,
          1.75,
          5.42,
          2.1,
          1.25,
          1.12,
          3,
          2.6,
          6.7,
          3.15,
          3.46,
          3.62,
          2,
          1.26,
          1,
          4.05
         ],
         "yaxis": "y"
        },
        {
         "hovertemplate": "<b>OLS trendline</b><br>Tip = 0.190858 * Bill + -0.495372<br>R<sup>2</sup>=0.551083<br><br>Day=Fri<br>Bill=%{x}<br>Tip=%{y} <b>(trend)</b><extra></extra>",
         "legendgroup": "Fri",
         "marker": {
          "color": "#FFA15A",
          "symbol": "circle"
         },
         "mode": "lines",
         "name": "Fri",
         "showlegend": false,
         "type": "scatter",
         "x": [
          7.54,
          8.08,
          8.83,
          8.88,
          10.17,
          15.19,
          15.41,
          17.39,
          17.49,
          18.4,
          18.62,
          18.67,
          19.58,
          20.22,
          21.24,
          21.56,
          22.36,
          22.95,
          23.59,
          23.65,
          23.7,
          27.98,
          28.89,
          31.99,
          36.11,
          37.24
         ],
         "xaxis": "x",
         "y": [
          0.9436961074883298,
          1.0467593082249729,
          1.1899026425814214,
          1.1994455315385184,
          1.44565206663161,
          2.4037581179241063,
          2.4457468293353313,
          2.823645232036356,
          2.8427310099505485,
          3.0164115889697065,
          3.058400300380932,
          3.0679431893380285,
          3.2416237683571856,
          3.3637727470080216,
          3.558447681732792,
          3.61952217105821,
          3.7722083943717557,
          3.884814484065495,
          4.006963462716332,
          4.018414929464847,
          4.027957818421944,
          4.8448291131494114,
          5.0185096921685695,
          5.610168807508557,
          6.3965028575733145,
          6.612172148003698
         ],
         "yaxis": "y"
        }
       ],
       "layout": {
        "autosize": true,
        "legend": {
         "itemsizing": "constant",
         "title": {
          "text": "Day"
         },
         "tracegroupgap": 0
        },
        "margin": {
         "t": 60
        },
        "template": {
         "data": {
          "bar": [
           {
            "error_x": {
             "color": "#2a3f5f"
            },
            "error_y": {
             "color": "#2a3f5f"
            },
            "marker": {
             "line": {
              "color": "#E5ECF6",
              "width": 0.5
             },
             "pattern": {
              "fillmode": "overlay",
              "size": 10,
              "solidity": 0.2
             }
            },
            "type": "bar"
           }
          ],
          "barpolar": [
           {
            "marker": {
             "line": {
              "color": "#E5ECF6",
              "width": 0.5
             },
             "pattern": {
              "fillmode": "overlay",
              "size": 10,
              "solidity": 0.2
             }
            },
            "type": "barpolar"
           }
          ],
          "carpet": [
           {
            "aaxis": {
             "endlinecolor": "#2a3f5f",
             "gridcolor": "white",
             "linecolor": "white",
             "minorgridcolor": "white",
             "startlinecolor": "#2a3f5f"
            },
            "baxis": {
             "endlinecolor": "#2a3f5f",
             "gridcolor": "white",
             "linecolor": "white",
             "minorgridcolor": "white",
             "startlinecolor": "#2a3f5f"
            },
            "type": "carpet"
           }
          ],
          "choropleth": [
           {
            "colorbar": {
             "outlinewidth": 0,
             "ticks": ""
            },
            "type": "choropleth"
           }
          ],
          "contour": [
           {
            "colorbar": {
             "outlinewidth": 0,
             "ticks": ""
            },
            "colorscale": [
             [
              0,
              "#0d0887"
             ],
             [
              0.1111111111111111,
              "#46039f"
             ],
             [
              0.2222222222222222,
              "#7201a8"
             ],
             [
              0.3333333333333333,
              "#9c179e"
             ],
             [
              0.4444444444444444,
              "#bd3786"
             ],
             [
              0.5555555555555556,
              "#d8576b"
             ],
             [
              0.6666666666666666,
              "#ed7953"
             ],
             [
              0.7777777777777778,
              "#fb9f3a"
             ],
             [
              0.8888888888888888,
              "#fdca26"
             ],
             [
              1,
              "#f0f921"
             ]
            ],
            "type": "contour"
           }
          ],
          "contourcarpet": [
           {
            "colorbar": {
             "outlinewidth": 0,
             "ticks": ""
            },
            "type": "contourcarpet"
           }
          ],
          "heatmap": [
           {
            "colorbar": {
             "outlinewidth": 0,
             "ticks": ""
            },
            "colorscale": [
             [
              0,
              "#0d0887"
             ],
             [
              0.1111111111111111,
              "#46039f"
             ],
             [
              0.2222222222222222,
              "#7201a8"
             ],
             [
              0.3333333333333333,
              "#9c179e"
             ],
             [
              0.4444444444444444,
              "#bd3786"
             ],
             [
              0.5555555555555556,
              "#d8576b"
             ],
             [
              0.6666666666666666,
              "#ed7953"
             ],
             [
              0.7777777777777778,
              "#fb9f3a"
             ],
             [
              0.8888888888888888,
              "#fdca26"
             ],
             [
              1,
              "#f0f921"
             ]
            ],
            "type": "heatmap"
           }
          ],
          "heatmapgl": [
           {
            "colorbar": {
             "outlinewidth": 0,
             "ticks": ""
            },
            "colorscale": [
             [
              0,
              "#0d0887"
             ],
             [
              0.1111111111111111,
              "#46039f"
             ],
             [
              0.2222222222222222,
              "#7201a8"
             ],
             [
              0.3333333333333333,
              "#9c179e"
             ],
             [
              0.4444444444444444,
              "#bd3786"
             ],
             [
              0.5555555555555556,
              "#d8576b"
             ],
             [
              0.6666666666666666,
              "#ed7953"
             ],
             [
              0.7777777777777778,
              "#fb9f3a"
             ],
             [
              0.8888888888888888,
              "#fdca26"
             ],
             [
              1,
              "#f0f921"
             ]
            ],
            "type": "heatmapgl"
           }
          ],
          "histogram": [
           {
            "marker": {
             "pattern": {
              "fillmode": "overlay",
              "size": 10,
              "solidity": 0.2
             }
            },
            "type": "histogram"
           }
          ],
          "histogram2d": [
           {
            "colorbar": {
             "outlinewidth": 0,
             "ticks": ""
            },
            "colorscale": [
             [
              0,
              "#0d0887"
             ],
             [
              0.1111111111111111,
              "#46039f"
             ],
             [
              0.2222222222222222,
              "#7201a8"
             ],
             [
              0.3333333333333333,
              "#9c179e"
             ],
             [
              0.4444444444444444,
              "#bd3786"
             ],
             [
              0.5555555555555556,
              "#d8576b"
             ],
             [
              0.6666666666666666,
              "#ed7953"
             ],
             [
              0.7777777777777778,
              "#fb9f3a"
             ],
             [
              0.8888888888888888,
              "#fdca26"
             ],
             [
              1,
              "#f0f921"
             ]
            ],
            "type": "histogram2d"
           }
          ],
          "histogram2dcontour": [
           {
            "colorbar": {
             "outlinewidth": 0,
             "ticks": ""
            },
            "colorscale": [
             [
              0,
              "#0d0887"
             ],
             [
              0.1111111111111111,
              "#46039f"
             ],
             [
              0.2222222222222222,
              "#7201a8"
             ],
             [
              0.3333333333333333,
              "#9c179e"
             ],
             [
              0.4444444444444444,
              "#bd3786"
             ],
             [
              0.5555555555555556,
              "#d8576b"
             ],
             [
              0.6666666666666666,
              "#ed7953"
             ],
             [
              0.7777777777777778,
              "#fb9f3a"
             ],
             [
              0.8888888888888888,
              "#fdca26"
             ],
             [
              1,
              "#f0f921"
             ]
            ],
            "type": "histogram2dcontour"
           }
          ],
          "mesh3d": [
           {
            "colorbar": {
             "outlinewidth": 0,
             "ticks": ""
            },
            "type": "mesh3d"
           }
          ],
          "parcoords": [
           {
            "line": {
             "colorbar": {
              "outlinewidth": 0,
              "ticks": ""
             }
            },
            "type": "parcoords"
           }
          ],
          "pie": [
           {
            "automargin": true,
            "type": "pie"
           }
          ],
          "scatter": [
           {
            "fillpattern": {
             "fillmode": "overlay",
             "size": 10,
             "solidity": 0.2
            },
            "type": "scatter"
           }
          ],
          "scatter3d": [
           {
            "line": {
             "colorbar": {
              "outlinewidth": 0,
              "ticks": ""
             }
            },
            "marker": {
             "colorbar": {
              "outlinewidth": 0,
              "ticks": ""
             }
            },
            "type": "scatter3d"
           }
          ],
          "scattercarpet": [
           {
            "marker": {
             "colorbar": {
              "outlinewidth": 0,
              "ticks": ""
             }
            },
            "type": "scattercarpet"
           }
          ],
          "scattergeo": [
           {
            "marker": {
             "colorbar": {
              "outlinewidth": 0,
              "ticks": ""
             }
            },
            "type": "scattergeo"
           }
          ],
          "scattergl": [
           {
            "marker": {
             "colorbar": {
              "outlinewidth": 0,
              "ticks": ""
             }
            },
            "type": "scattergl"
           }
          ],
          "scattermapbox": [
           {
            "marker": {
             "colorbar": {
              "outlinewidth": 0,
              "ticks": ""
             }
            },
            "type": "scattermapbox"
           }
          ],
          "scatterpolar": [
           {
            "marker": {
             "colorbar": {
              "outlinewidth": 0,
              "ticks": ""
             }
            },
            "type": "scatterpolar"
           }
          ],
          "scatterpolargl": [
           {
            "marker": {
             "colorbar": {
              "outlinewidth": 0,
              "ticks": ""
             }
            },
            "type": "scatterpolargl"
           }
          ],
          "scatterternary": [
           {
            "marker": {
             "colorbar": {
              "outlinewidth": 0,
              "ticks": ""
             }
            },
            "type": "scatterternary"
           }
          ],
          "surface": [
           {
            "colorbar": {
             "outlinewidth": 0,
             "ticks": ""
            },
            "colorscale": [
             [
              0,
              "#0d0887"
             ],
             [
              0.1111111111111111,
              "#46039f"
             ],
             [
              0.2222222222222222,
              "#7201a8"
             ],
             [
              0.3333333333333333,
              "#9c179e"
             ],
             [
              0.4444444444444444,
              "#bd3786"
             ],
             [
              0.5555555555555556,
              "#d8576b"
             ],
             [
              0.6666666666666666,
              "#ed7953"
             ],
             [
              0.7777777777777778,
              "#fb9f3a"
             ],
             [
              0.8888888888888888,
              "#fdca26"
             ],
             [
              1,
              "#f0f921"
             ]
            ],
            "type": "surface"
           }
          ],
          "table": [
           {
            "cells": {
             "fill": {
              "color": "#EBF0F8"
             },
             "line": {
              "color": "white"
             }
            },
            "header": {
             "fill": {
              "color": "#C8D4E3"
             },
             "line": {
              "color": "white"
             }
            },
            "type": "table"
           }
          ]
         },
         "layout": {
          "annotationdefaults": {
           "arrowcolor": "#2a3f5f",
           "arrowhead": 0,
           "arrowwidth": 1
          },
          "autotypenumbers": "strict",
          "coloraxis": {
           "colorbar": {
            "outlinewidth": 0,
            "ticks": ""
           }
          },
          "colorscale": {
           "diverging": [
            [
             0,
             "#8e0152"
            ],
            [
             0.1,
             "#c51b7d"
            ],
            [
             0.2,
             "#de77ae"
            ],
            [
             0.3,
             "#f1b6da"
            ],
            [
             0.4,
             "#fde0ef"
            ],
            [
             0.5,
             "#f7f7f7"
            ],
            [
             0.6,
             "#e6f5d0"
            ],
            [
             0.7,
             "#b8e186"
            ],
            [
             0.8,
             "#7fbc41"
            ],
            [
             0.9,
             "#4d9221"
            ],
            [
             1,
             "#276419"
            ]
           ],
           "sequential": [
            [
             0,
             "#0d0887"
            ],
            [
             0.1111111111111111,
             "#46039f"
            ],
            [
             0.2222222222222222,
             "#7201a8"
            ],
            [
             0.3333333333333333,
             "#9c179e"
            ],
            [
             0.4444444444444444,
             "#bd3786"
            ],
            [
             0.5555555555555556,
             "#d8576b"
            ],
            [
             0.6666666666666666,
             "#ed7953"
            ],
            [
             0.7777777777777778,
             "#fb9f3a"
            ],
            [
             0.8888888888888888,
             "#fdca26"
            ],
            [
             1,
             "#f0f921"
            ]
           ],
           "sequentialminus": [
            [
             0,
             "#0d0887"
            ],
            [
             0.1111111111111111,
             "#46039f"
            ],
            [
             0.2222222222222222,
             "#7201a8"
            ],
            [
             0.3333333333333333,
             "#9c179e"
            ],
            [
             0.4444444444444444,
             "#bd3786"
            ],
            [
             0.5555555555555556,
             "#d8576b"
            ],
            [
             0.6666666666666666,
             "#ed7953"
            ],
            [
             0.7777777777777778,
             "#fb9f3a"
            ],
            [
             0.8888888888888888,
             "#fdca26"
            ],
            [
             1,
             "#f0f921"
            ]
           ]
          },
          "colorway": [
           "#636efa",
           "#EF553B",
           "#00cc96",
           "#ab63fa",
           "#FFA15A",
           "#19d3f3",
           "#FF6692",
           "#B6E880",
           "#FF97FF",
           "#FECB52"
          ],
          "font": {
           "color": "#2a3f5f"
          },
          "geo": {
           "bgcolor": "white",
           "lakecolor": "white",
           "landcolor": "#E5ECF6",
           "showlakes": true,
           "showland": true,
           "subunitcolor": "white"
          },
          "hoverlabel": {
           "align": "left"
          },
          "hovermode": "closest",
          "mapbox": {
           "style": "light"
          },
          "paper_bgcolor": "white",
          "plot_bgcolor": "#E5ECF6",
          "polar": {
           "angularaxis": {
            "gridcolor": "white",
            "linecolor": "white",
            "ticks": ""
           },
           "bgcolor": "#E5ECF6",
           "radialaxis": {
            "gridcolor": "white",
            "linecolor": "white",
            "ticks": ""
           }
          },
          "scene": {
           "xaxis": {
            "backgroundcolor": "#E5ECF6",
            "gridcolor": "white",
            "gridwidth": 2,
            "linecolor": "white",
            "showbackground": true,
            "ticks": "",
            "zerolinecolor": "white"
           },
           "yaxis": {
            "backgroundcolor": "#E5ECF6",
            "gridcolor": "white",
            "gridwidth": 2,
            "linecolor": "white",
            "showbackground": true,
            "ticks": "",
            "zerolinecolor": "white"
           },
           "zaxis": {
            "backgroundcolor": "#E5ECF6",
            "gridcolor": "white",
            "gridwidth": 2,
            "linecolor": "white",
            "showbackground": true,
            "ticks": "",
            "zerolinecolor": "white"
           }
          },
          "shapedefaults": {
           "line": {
            "color": "#2a3f5f"
           }
          },
          "ternary": {
           "aaxis": {
            "gridcolor": "white",
            "linecolor": "white",
            "ticks": ""
           },
           "baxis": {
            "gridcolor": "white",
            "linecolor": "white",
            "ticks": ""
           },
           "bgcolor": "#E5ECF6",
           "caxis": {
            "gridcolor": "white",
            "linecolor": "white",
            "ticks": ""
           }
          },
          "title": {
           "x": 0.05
          },
          "xaxis": {
           "automargin": true,
           "gridcolor": "white",
           "linecolor": "white",
           "ticks": "",
           "title": {
            "standoff": 15
           },
           "zerolinecolor": "white",
           "zerolinewidth": 2
          },
          "yaxis": {
           "automargin": true,
           "gridcolor": "white",
           "linecolor": "white",
           "ticks": "",
           "title": {
            "standoff": 15
           },
           "zerolinecolor": "white",
           "zerolinewidth": 2
          }
         }
        },
        "xaxis": {
         "anchor": "y",
         "autorange": true,
         "domain": [
          0,
          1
         ],
         "range": [
          -2.8861610445558767,
          75.31954931171371
         ],
         "title": {
          "text": "Bill"
         },
         "type": "linear"
        },
        "yaxis": {
         "anchor": "x",
         "autorange": true,
         "domain": [
          0,
          1
         ],
         "range": [
          -1.312927686022635,
          16.364029814346388
         ],
         "title": {
          "text": "Tip"
         },
         "type": "linear"
        }
       }
      },
      "image/png": "[encoded data removed]",
      "text/html": [
       "<div>                            <div id=\"bd78978c-25ef-4ea5-9f70-33542ecc1b15\" class=\"plotly-graph-div\" style=\"height:525px; width:100%;\"></div>            <script type=\"text/javascript\">                require([\"plotly\"], function(Plotly) {                    window.PLOTLYENV=window.PLOTLYENV || {};                                    if (document.getElementById(\"bd78978c-25ef-4ea5-9f70-33542ecc1b15\")) {                    Plotly.newPlot(                        \"bd78978c-25ef-4ea5-9f70-33542ecc1b15\",                        [{\"hovertemplate\":\"Day=Mon<br>Bill=%{x}<br>Tip=%{y}<br>Guests=%{marker.size}<extra></extra>\",\"legendgroup\":\"Mon\",\"marker\":{\"color\":\"#636efa\",\"size\":[2,1,2,6,2,2,2,3,2,2,2,3,3,1,2,3,3,2,2,2],\"sizemode\":\"area\",\"sizeref\":0.0175,\"symbol\":\"circle\"},\"mode\":\"markers\",\"name\":\"Mon\",\"orientation\":\"v\",\"showlegend\":true,\"x\":[17.12,6.69,16.48,51.68,18.83,17.82,23.97,27.45,18.4,16.8,3.75,35.95,35.68,9.84,14.87,12.57,31.3,32.69,24.82,20.76],\"xaxis\":\"x\",\"y\":[2.5,1.0,3.0,10.0,2.8,2.75,4.0,4.0,2.75,2.2,0.25,6.05,5.0,2.16,3.13,2.0,5.7,5.0,4.4,3.0],\"yaxis\":\"y\",\"type\":\"scatter\"},{\"hovertemplate\":\"<b>OLS trendline</b><br>Tip = 0.1795 * Bill + -0.341786<br>R<sup>2</sup>=0.940569<br><br>Day=Mon<br>Bill=%{x}<br>Tip=%{y} <b>(trend)</b><extra></extra>\",\"legendgroup\":\"Mon\",\"marker\":{\"color\":\"#636efa\",\"symbol\":\"circle\"},\"mode\":\"lines\",\"name\":\"Mon\",\"showlegend\":false,\"x\":[3.75,6.69,9.84,12.57,14.87,16.48,16.8,17.12,17.82,18.4,18.83,20.76,23.97,24.82,27.45,31.3,32.69,35.68,35.95,51.68],\"xaxis\":\"x\",\"y\":[0.3313374392609776,0.8590665163472315,1.424490527511075,1.9145246705197396,2.3273739485123874,2.6163684431072403,2.673808342654044,2.731248242200847,2.856898022459479,2.961007840388059,3.038192705404076,3.3846270995457326,3.9608210918746014,4.113395825045798,4.585479999446086,5.276553790868562,5.526058354524988,6.062762415915429,6.111227331158045,8.934757393255586],\"yaxis\":\"y\",\"type\":\"scatter\"},{\"hovertemplate\":\"Day=Tue<br>Bill=%{x}<br>Tip=%{y}<br>Guests=%{marker.size}<extra></extra>\",\"legendgroup\":\"Tue\",\"marker\":{\"color\":\"#EF553B\",\"size\":[2,2,2,7,2,2,2,2,2,2,1,1,4],\"sizemode\":\"area\",\"sizeref\":0.0175,\"symbol\":\"circle\"},\"mode\":\"markers\",\"name\":\"Tue\",\"orientation\":\"v\",\"showlegend\":true,\"x\":[17.12,24.5,18.62,57.3,11.18,27.66,19.53,11.18,53.54,18.67,13.86,11.93,30.98],\"xaxis\":\"x\",\"y\":[3.72,3.5,3.35,10.0,2.0,4.16,8.0,1.82,9.0,3.33,1.14,2.0,4.02],\"yaxis\":\"y\",\"type\":\"scatter\"},{\"hovertemplate\":\"<b>OLS trendline</b><br>Tip = 0.161981 * Bill + 0.372507<br>R<sup>2</sup>=0.735521<br><br>Day=Tue<br>Bill=%{x}<br>Tip=%{y} <b>(trend)</b><extra></extra>\",\"legendgroup\":\"Tue\",\"marker\":{\"color\":\"#EF553B\",\"symbol\":\"circle\"},\"mode\":\"lines\",\"name\":\"Tue\",\"showlegend\":false,\"x\":[11.18,11.18,11.93,13.86,17.12,18.62,18.67,19.53,24.5,27.66,30.98,53.54,57.3],\"xaxis\":\"x\",\"y\":[2.183457104359284,2.183457104359284,2.304943036723233,2.617566836006461,3.1456256886817586,3.388597553409656,3.3966966155672527,3.536000484677914,4.341047263143015,4.852907991503119,5.390685718767532,9.044982564275111,9.654032038526372],\"yaxis\":\"y\",\"type\":\"scatter\"},{\"hovertemplate\":\"Day=Wed<br>Bill=%{x}<br>Tip=%{y}<br>Guests=%{marker.size}<extra></extra>\",\"legendgroup\":\"Wed\",\"marker\":{\"color\":\"#00cc96\",\"size\":[1,2,2,2,2,2,2,3,2,1,2,1,2,2,3,2,2,3,1,3,2,2,1,1,2,1,2,2,2,2,1,3,2,1,2,1,6,2,2,1,1,3,2,2,1,1,2,2,2,2,3,1,2,2,1,2,1,1,2,2,2,2],\"sizemode\":\"area\",\"sizeref\":0.0175,\"symbol\":\"circle\"},\"mode\":\"markers\",\"name\":\"Wed\",\"orientation\":\"v\",\"showlegend\":true,\"x\":[7.44,15.25,18.08,30.6,14.34,23.91,26.8,18.67,37.34,22.2,36.27,23.0,42.96,21.03,29.0,50.24,28.84,28.36,11.72,18.14,16.26,20.22,8.4,11.66,12.31,9.52,17.82,25.63,18.62,3.26,10.17,18.62,19.42,1.66,39.75,12.52,59.33,17.44,19.69,9.36,10.59,31.94,22.26,20.33,10.17,9.2,20.87,17.39,7.97,32.31,21.88,7.76,17.44,29.85,7.7,23.27,30.98,60.72,70.51,14.23,38.73,23.43],\"xaxis\":\"x\",\"y\":[1.56,2.75,2.0,5.0,2.0,4.0,2.2,3.0,5.96,4.0,7.0,3.75,7.04,3.0,4.0,9.76,5.16,5.44,2.28,4.0,2.43,4.37,1.6,1.5,1.9,1.0,3.18,5.0,2.38,0.74,2.0,2.79,3.0,0.25,7.25,1.5,10.0,3.7,2.31,1.44,1.5,8.06,3.74,4.0,1.83,1.8,3.13,3.61,1.03,4.69,4.0,1.0,2.0,4.15,1.0,3.73,5.02,15.0,10.49,2.15,5.7,4.0],\"yaxis\":\"y\",\"type\":\"scatter\"},{\"hovertemplate\":\"<b>OLS trendline</b><br>Tip = 0.183974 * Bill + -0.338782<br>R<sup>2</sup>=0.884289<br><br>Day=Wed<br>Bill=%{x}<br>Tip=%{y} <b>(trend)</b><extra></extra>\",\"legendgroup\":\"Wed\",\"marker\":{\"color\":\"#00cc96\",\"symbol\":\"circle\"},\"mode\":\"lines\",\"name\":\"Wed\",\"showlegend\":false,\"x\":[1.66,3.26,7.44,7.7,7.76,7.97,8.4,9.2,9.36,9.52,10.17,10.17,10.59,11.66,11.72,12.31,12.52,14.23,14.34,15.25,16.26,17.39,17.44,17.44,17.82,18.08,18.14,18.62,18.62,18.67,19.42,19.69,20.22,20.33,20.87,21.03,21.88,22.2,22.26,23.0,23.27,23.43,23.91,25.63,26.8,28.36,28.84,29.0,29.85,30.6,30.98,31.94,32.31,36.27,37.34,38.73,39.75,42.96,50.24,59.33,60.72,70.51],\"xaxis\":\"x\",\"y\":[-0.03338425959029728,0.2609747992118154,1.029987840332335,1.0778211873876782,1.0888596520927574,1.1274942785605346,1.2066032756136025,1.3537828050146588,1.3832187108948701,1.4126546167750813,1.5322379844134397,1.5322379844134397,1.6095072373489943,1.8063598579229072,1.8173983226279866,1.9259432255612656,1.964577852029043,2.279174096123801,2.2994112814164462,2.466827996110148,2.652642151978982,2.860533237257974,2.86973195784554,2.86973195784554,2.9396422343110413,2.9874755813663842,2.998514046071464,3.086821763712098,3.086821763712098,3.096020484299664,3.2340012931131543,3.283674384286011,3.38118082251421,3.4014180078068557,3.500764190152569,3.53020009603278,3.6865783460214026,3.745450157781825,3.7564886224869047,3.8926296871828816,3.942302778355738,3.971738684235949,4.060046401876583,4.376482390088854,4.591732451837899,4.878732534169959,4.967040251810593,4.996476157690804,5.152854407679427,5.290835216492917,5.360745492958419,5.5373609282396865,5.605431460587675,6.333970131122904,6.530822751696817,6.786547184031152,6.974201084017499,7.5647589457392375,8.90409266328885,10.576420066108353,10.832144498442688,12.633253989488116],\"yaxis\":\"y\",\"type\":\"scatter\"},{\"hovertemplate\":\"Day=Thur<br>Bill=%{x}<br>Tip=%{y}<br>Guests=%{marker.size}<extra></extra>\",\"legendgroup\":\"Thur\",\"marker\":{\"color\":\"#ab63fa\",\"size\":[5,3,2,2,3,2,2,2,2,1,1,2,5,3,4,2,2,2,1,2,2,2,4,2,1,2,2,3,1,2,3,2,2,2,2,2],\"sizemode\":\"area\",\"sizeref\":0.0175,\"symbol\":\"circle\"},\"mode\":\"markers\",\"name\":\"Thur\",\"orientation\":\"v\",\"showlegend\":true,\"x\":[55.59,24.34,31.35,18.62,29.53,22.68,36.86,15.62,25.09,13.11,9.31,29.05,41.94,27.82,49.59,39.8,22.47,13.38,26.16,29.64,25.95,17.71,28.09,23.38,28.36,12.54,18.73,35.9,9.58,18.14,31.14,15.73,16.85,16.53,34.94,8.29],\"xaxis\":\"x\",\"y\":[10.0,4.0,4.5,3.11,4.47,3.55,6.14,2.81,5.0,2.0,1.25,5.91,7.06,4.71,10.41,6.3,4.0,2.0,4.53,6.0,4.05,2.3,5.11,4.0,5.2,2.0,2.27,5.0,1.42,2.75,5.0,5.0,3.0,2.47,6.96,1.0],\"yaxis\":\"y\",\"type\":\"scatter\"},{\"hovertemplate\":\"<b>OLS trendline</b><br>Tip = 0.18643 * Bill + -0.367159<br>R<sup>2</sup>=0.897295<br><br>Day=Thur<br>Bill=%{x}<br>Tip=%{y} <b>(trend)</b><extra></extra>\",\"legendgroup\":\"Thur\",\"marker\":{\"color\":\"#ab63fa\",\"symbol\":\"circle\"},\"mode\":\"lines\",\"name\":\"Thur\",\"showlegend\":false,\"x\":[8.29,9.31,9.58,12.54,13.11,13.38,15.62,15.73,16.53,16.85,17.71,18.14,18.62,18.73,22.47,22.68,23.38,24.34,25.09,25.95,26.16,27.82,28.09,28.36,29.05,29.53,29.64,31.14,31.35,34.94,35.9,36.86,39.8,41.94,49.59,55.59],\"xaxis\":\"x\",\"y\":[1.1783495318611354,1.368508616701909,1.4188448450421136,1.970679052031025,2.0769444229714575,2.127280651311662,2.5448849160600275,2.565392268346778,2.714536648614051,2.774194400720961,2.9345246095082795,3.014689713901939,3.1041763420623028,3.124683694349053,3.821933672098556,3.8610840719187154,3.9915854046525787,4.170558660973307,4.310381517473876,4.470711726261195,4.509862126081354,4.819336715135947,4.869672943476151,4.920009171816356,5.048646199796879,5.138132827957244,5.158640180243993,5.438285893245131,5.47743629306529,6.146721699514679,6.325694955835408,6.504668212156136,7.0527738096383645,7.451735026853321,8.877928163159124,9.996511015163675],\"yaxis\":\"y\",\"type\":\"scatter\"},{\"hovertemplate\":\"Day=Fri<br>Bill=%{x}<br>Tip=%{y}<br>Guests=%{marker.size}<extra></extra>\",\"legendgroup\":\"Fri\",\"marker\":{\"color\":\"#FFA15A\",\"size\":[2,2,3,2,2,2,2,2,2,2,2,1,2,1,2,2,3,2,2,2,2,2,2,3,1,2],\"sizemode\":\"area\",\"sizeref\":0.0175,\"symbol\":\"circle\"},\"mode\":\"markers\",\"name\":\"Fri\",\"orientation\":\"v\",\"showlegend\":true,\"x\":[23.7,22.36,36.11,31.99,17.39,15.41,18.62,21.56,19.58,23.59,18.67,15.19,27.98,10.17,8.83,8.88,17.49,18.4,37.24,23.65,28.89,21.24,20.22,7.54,8.08,22.95],\"xaxis\":\"x\",\"y\":[10.0,3.0,7.0,5.01,3.61,3.0,2.5,3.44,2.42,3.0,2.0,1.75,5.42,2.1,1.25,1.12,3.0,2.6,6.7,3.15,3.46,3.62,2.0,1.26,1.0,4.05],\"yaxis\":\"y\",\"type\":\"scatter\"},{\"hovertemplate\":\"<b>OLS trendline</b><br>Tip = 0.190858 * Bill + -0.495372<br>R<sup>2</sup>=0.551083<br><br>Day=Fri<br>Bill=%{x}<br>Tip=%{y} <b>(trend)</b><extra></extra>\",\"legendgroup\":\"Fri\",\"marker\":{\"color\":\"#FFA15A\",\"symbol\":\"circle\"},\"mode\":\"lines\",\"name\":\"Fri\",\"showlegend\":false,\"x\":[7.54,8.08,8.83,8.88,10.17,15.19,15.41,17.39,17.49,18.4,18.62,18.67,19.58,20.22,21.24,21.56,22.36,22.95,23.59,23.65,23.7,27.98,28.89,31.99,36.11,37.24],\"xaxis\":\"x\",\"y\":[0.9436961074883298,1.0467593082249729,1.1899026425814214,1.1994455315385184,1.44565206663161,2.4037581179241063,2.4457468293353313,2.823645232036356,2.8427310099505485,3.0164115889697065,3.058400300380932,3.0679431893380285,3.2416237683571856,3.3637727470080216,3.558447681732792,3.61952217105821,3.7722083943717557,3.884814484065495,4.006963462716332,4.018414929464847,4.027957818421944,4.8448291131494114,5.0185096921685695,5.610168807508557,6.3965028575733145,6.612172148003698],\"yaxis\":\"y\",\"type\":\"scatter\"}],                        {\"template\":{\"data\":{\"histogram2dcontour\":[{\"type\":\"histogram2dcontour\",\"colorbar\":{\"outlinewidth\":0,\"ticks\":\"\"},\"colorscale\":[[0.0,\"#0d0887\"],[0.1111111111111111,\"#46039f\"],[0.2222222222222222,\"#7201a8\"],[0.3333333333333333,\"#9c179e\"],[0.4444444444444444,\"#bd3786\"],[0.5555555555555556,\"#d8576b\"],[0.6666666666666666,\"#ed7953\"],[0.7777777777777778,\"#fb9f3a\"],[0.8888888888888888,\"#fdca26\"],[1.0,\"#f0f921\"]]}],\"choropleth\":[{\"type\":\"choropleth\",\"colorbar\":{\"outlinewidth\":0,\"ticks\":\"\"}}],\"histogram2d\":[{\"type\":\"histogram2d\",\"colorbar\":{\"outlinewidth\":0,\"ticks\":\"\"},\"colorscale\":[[0.0,\"#0d0887\"],[0.1111111111111111,\"#46039f\"],[0.2222222222222222,\"#7201a8\"],[0.3333333333333333,\"#9c179e\"],[0.4444444444444444,\"#bd3786\"],[0.5555555555555556,\"#d8576b\"],[0.6666666666666666,\"#ed7953\"],[0.7777777777777778,\"#fb9f3a\"],[0.8888888888888888,\"#fdca26\"],[1.0,\"#f0f921\"]]}],\"heatmap\":[{\"type\":\"heatmap\",\"colorbar\":{\"outlinewidth\":0,\"ticks\":\"\"},\"colorscale\":[[0.0,\"#0d0887\"],[0.1111111111111111,\"#46039f\"],[0.2222222222222222,\"#7201a8\"],[0.3333333333333333,\"#9c179e\"],[0.4444444444444444,\"#bd3786\"],[0.5555555555555556,\"#d8576b\"],[0.6666666666666666,\"#ed7953\"],[0.7777777777777778,\"#fb9f3a\"],[0.8888888888888888,\"#fdca26\"],[1.0,\"#f0f921\"]]}],\"heatmapgl\":[{\"type\":\"heatmapgl\",\"colorbar\":{\"outlinewidth\":0,\"ticks\":\"\"},\"colorscale\":[[0.0,\"#0d0887\"],[0.1111111111111111,\"#46039f\"],[0.2222222222222222,\"#7201a8\"],[0.3333333333333333,\"#9c179e\"],[0.4444444444444444,\"#bd3786\"],[0.5555555555555556,\"#d8576b\"],[0.6666666666666666,\"#ed7953\"],[0.7777777777777778,\"#fb9f3a\"],[0.8888888888888888,\"#fdca26\"],[1.0,\"#f0f921\"]]}],\"contourcarpet\":[{\"type\":\"contourcarpet\",\"colorbar\":{\"outlinewidth\":0,\"ticks\":\"\"}}],\"contour\":[{\"type\":\"contour\",\"colorbar\":{\"outlinewidth\":0,\"ticks\":\"\"},\"colorscale\":[[0.0,\"#0d0887\"],[0.1111111111111111,\"#46039f\"],[0.2222222222222222,\"#7201a8\"],[0.3333333333333333,\"#9c179e\"],[0.4444444444444444,\"#bd3786\"],[0.5555555555555556,\"#d8576b\"],[0.6666666666666666,\"#ed7953\"],[0.7777777777777778,\"#fb9f3a\"],[0.8888888888888888,\"#fdca26\"],[1.0,\"#f0f921\"]]}],\"surface\":[{\"type\":\"surface\",\"colorbar\":{\"outlinewidth\":0,\"ticks\":\"\"},\"colorscale\":[[0.0,\"#0d0887\"],[0.1111111111111111,\"#46039f\"],[0.2222222222222222,\"#7201a8\"],[0.3333333333333333,\"#9c179e\"],[0.4444444444444444,\"#bd3786\"],[0.5555555555555556,\"#d8576b\"],[0.6666666666666666,\"#ed7953\"],[0.7777777777777778,\"#fb9f3a\"],[0.8888888888888888,\"#fdca26\"],[1.0,\"#f0f921\"]]}],\"mesh3d\":[{\"type\":\"mesh3d\",\"colorbar\":{\"outlinewidth\":0,\"ticks\":\"\"}}],\"scatter\":[{\"fillpattern\":{\"fillmode\":\"overlay\",\"size\":10,\"solidity\":0.2},\"type\":\"scatter\"}],\"parcoords\":[{\"type\":\"parcoords\",\"line\":{\"colorbar\":{\"outlinewidth\":0,\"ticks\":\"\"}}}],\"scatterpolargl\":[{\"type\":\"scatterpolargl\",\"marker\":{\"colorbar\":{\"outlinewidth\":0,\"ticks\":\"\"}}}],\"bar\":[{\"error_x\":{\"color\":\"#2a3f5f\"},\"error_y\":{\"color\":\"#2a3f5f\"},\"marker\":{\"line\":{\"color\":\"#E5ECF6\",\"width\":0.5},\"pattern\":{\"fillmode\":\"overlay\",\"size\":10,\"solidity\":0.2}},\"type\":\"bar\"}],\"scattergeo\":[{\"type\":\"scattergeo\",\"marker\":{\"colorbar\":{\"outlinewidth\":0,\"ticks\":\"\"}}}],\"scatterpolar\":[{\"type\":\"scatterpolar\",\"marker\":{\"colorbar\":{\"outlinewidth\":0,\"ticks\":\"\"}}}],\"histogram\":[{\"marker\":{\"pattern\":{\"fillmode\":\"overlay\",\"size\":10,\"solidity\":0.2}},\"type\":\"histogram\"}],\"scattergl\":[{\"type\":\"scattergl\",\"marker\":{\"colorbar\":{\"outlinewidth\":0,\"ticks\":\"\"}}}],\"scatter3d\":[{\"type\":\"scatter3d\",\"line\":{\"colorbar\":{\"outlinewidth\":0,\"ticks\":\"\"}},\"marker\":{\"colorbar\":{\"outlinewidth\":0,\"ticks\":\"\"}}}],\"scattermapbox\":[{\"type\":\"scattermapbox\",\"marker\":{\"colorbar\":{\"outlinewidth\":0,\"ticks\":\"\"}}}],\"scatterternary\":[{\"type\":\"scatterternary\",\"marker\":{\"colorbar\":{\"outlinewidth\":0,\"ticks\":\"\"}}}],\"scattercarpet\":[{\"type\":\"scattercarpet\",\"marker\":{\"colorbar\":{\"outlinewidth\":0,\"ticks\":\"\"}}}],\"carpet\":[{\"aaxis\":{\"endlinecolor\":\"#2a3f5f\",\"gridcolor\":\"white\",\"linecolor\":\"white\",\"minorgridcolor\":\"white\",\"startlinecolor\":\"#2a3f5f\"},\"baxis\":{\"endlinecolor\":\"#2a3f5f\",\"gridcolor\":\"white\",\"linecolor\":\"white\",\"minorgridcolor\":\"white\",\"startlinecolor\":\"#2a3f5f\"},\"type\":\"carpet\"}],\"table\":[{\"cells\":{\"fill\":{\"color\":\"#EBF0F8\"},\"line\":{\"color\":\"white\"}},\"header\":{\"fill\":{\"color\":\"#C8D4E3\"},\"line\":{\"color\":\"white\"}},\"type\":\"table\"}],\"barpolar\":[{\"marker\":{\"line\":{\"color\":\"#E5ECF6\",\"width\":0.5},\"pattern\":{\"fillmode\":\"overlay\",\"size\":10,\"solidity\":0.2}},\"type\":\"barpolar\"}],\"pie\":[{\"automargin\":true,\"type\":\"pie\"}]},\"layout\":{\"autotypenumbers\":\"strict\",\"colorway\":[\"#636efa\",\"#EF553B\",\"#00cc96\",\"#ab63fa\",\"#FFA15A\",\"#19d3f3\",\"#FF6692\",\"#B6E880\",\"#FF97FF\",\"#FECB52\"],\"font\":{\"color\":\"#2a3f5f\"},\"hovermode\":\"closest\",\"hoverlabel\":{\"align\":\"left\"},\"paper_bgcolor\":\"white\",\"plot_bgcolor\":\"#E5ECF6\",\"polar\":{\"bgcolor\":\"#E5ECF6\",\"angularaxis\":{\"gridcolor\":\"white\",\"linecolor\":\"white\",\"ticks\":\"\"},\"radialaxis\":{\"gridcolor\":\"white\",\"linecolor\":\"white\",\"ticks\":\"\"}},\"ternary\":{\"bgcolor\":\"#E5ECF6\",\"aaxis\":{\"gridcolor\":\"white\",\"linecolor\":\"white\",\"ticks\":\"\"},\"baxis\":{\"gridcolor\":\"white\",\"linecolor\":\"white\",\"ticks\":\"\"},\"caxis\":{\"gridcolor\":\"white\",\"linecolor\":\"white\",\"ticks\":\"\"}},\"coloraxis\":{\"colorbar\":{\"outlinewidth\":0,\"ticks\":\"\"}},\"colorscale\":{\"sequential\":[[0.0,\"#0d0887\"],[0.1111111111111111,\"#46039f\"],[0.2222222222222222,\"#7201a8\"],[0.3333333333333333,\"#9c179e\"],[0.4444444444444444,\"#bd3786\"],[0.5555555555555556,\"#d8576b\"],[0.6666666666666666,\"#ed7953\"],[0.7777777777777778,\"#fb9f3a\"],[0.8888888888888888,\"#fdca26\"],[1.0,\"#f0f921\"]],\"sequentialminus\":[[0.0,\"#0d0887\"],[0.1111111111111111,\"#46039f\"],[0.2222222222222222,\"#7201a8\"],[0.3333333333333333,\"#9c179e\"],[0.4444444444444444,\"#bd3786\"],[0.5555555555555556,\"#d8576b\"],[0.6666666666666666,\"#ed7953\"],[0.7777777777777778,\"#fb9f3a\"],[0.8888888888888888,\"#fdca26\"],[1.0,\"#f0f921\"]],\"diverging\":[[0,\"#8e0152\"],[0.1,\"#c51b7d\"],[0.2,\"#de77ae\"],[0.3,\"#f1b6da\"],[0.4,\"#fde0ef\"],[0.5,\"#f7f7f7\"],[0.6,\"#e6f5d0\"],[0.7,\"#b8e186\"],[0.8,\"#7fbc41\"],[0.9,\"#4d9221\"],[1,\"#276419\"]]},\"xaxis\":{\"gridcolor\":\"white\",\"linecolor\":\"white\",\"ticks\":\"\",\"title\":{\"standoff\":15},\"zerolinecolor\":\"white\",\"automargin\":true,\"zerolinewidth\":2},\"yaxis\":{\"gridcolor\":\"white\",\"linecolor\":\"white\",\"ticks\":\"\",\"title\":{\"standoff\":15},\"zerolinecolor\":\"white\",\"automargin\":true,\"zerolinewidth\":2},\"scene\":{\"xaxis\":{\"backgroundcolor\":\"#E5ECF6\",\"gridcolor\":\"white\",\"linecolor\":\"white\",\"showbackground\":true,\"ticks\":\"\",\"zerolinecolor\":\"white\",\"gridwidth\":2},\"yaxis\":{\"backgroundcolor\":\"#E5ECF6\",\"gridcolor\":\"white\",\"linecolor\":\"white\",\"showbackground\":true,\"ticks\":\"\",\"zerolinecolor\":\"white\",\"gridwidth\":2},\"zaxis\":{\"backgroundcolor\":\"#E5ECF6\",\"gridcolor\":\"white\",\"linecolor\":\"white\",\"showbackground\":true,\"ticks\":\"\",\"zerolinecolor\":\"white\",\"gridwidth\":2}},\"shapedefaults\":{\"line\":{\"color\":\"#2a3f5f\"}},\"annotationdefaults\":{\"arrowcolor\":\"#2a3f5f\",\"arrowhead\":0,\"arrowwidth\":1},\"geo\":{\"bgcolor\":\"white\",\"landcolor\":\"#E5ECF6\",\"subunitcolor\":\"white\",\"showland\":true,\"showlakes\":true,\"lakecolor\":\"white\"},\"title\":{\"x\":0.05},\"mapbox\":{\"style\":\"light\"}}},\"xaxis\":{\"anchor\":\"y\",\"domain\":[0.0,1.0],\"title\":{\"text\":\"Bill\"}},\"yaxis\":{\"anchor\":\"x\",\"domain\":[0.0,1.0],\"title\":{\"text\":\"Tip\"}},\"legend\":{\"title\":{\"text\":\"Day\"},\"tracegroupgap\":0,\"itemsizing\":\"constant\"},\"margin\":{\"t\":60}},                        {\"responsive\": true}                    ).then(function(){\n",
       "                            \n",
       "var gd = document.getElementById('bd78978c-25ef-4ea5-9f70-33542ecc1b15');\n",
       "var x = new MutationObserver(function (mutations, observer) {{\n",
       "        var display = window.getComputedStyle(gd).display;\n",
       "        if (!display || display === 'none') {{\n",
       "            console.log([gd, 'removed!']);\n",
       "            Plotly.purge(gd);\n",
       "            observer.disconnect();\n",
       "        }}\n",
       "}});\n",
       "\n",
       "// Listen for the removal of the full notebook cells\n",
       "var notebookContainer = gd.closest('#notebook-container');\n",
       "if (notebookContainer) {{\n",
       "    x.observe(notebookContainer, {childList: true});\n",
       "}}\n",
       "\n",
       "// Listen for the clearing of the current output cell\n",
       "var outputEl = gd.closest('.output');\n",
       "if (outputEl) {{\n",
       "    x.observe(outputEl, {childList: true});\n",
       "}}\n",
       "\n",
       "                        })                };                });            </script>        </div>"
      ]
     },
     "metadata": {},
     "output_type": "display_data"
    },
    {
     "data": {
      "application/vnd.plotly.v1+json": {
       "config": {
        "plotlyServerURL": "https://plot.ly"
       },
       "data": [
        {
         "hovertemplate": "Day=Mon<br>Bill=%{x}<br>Tip=%{y}<br>PctTips_Guest=%{marker.size}<extra></extra>",
         "legendgroup": "Mon",
         "marker": {
          "color": "#636efa",
          "size": [
           7.3,
           14.9,
           9.1,
           3.2,
           7.4,
           7.7,
           8.4,
           4.9,
           7.4,
           6.6,
           3.4,
           5.6,
           4.7,
           22,
           10.5,
           5.3,
           6.1,
           7.6,
           8.8,
           7.2
          ],
          "sizemode": "area",
          "sizeref": 0.06175,
          "symbol": "circle"
         },
         "mode": "markers",
         "name": "Mon",
         "orientation": "v",
         "showlegend": true,
         "type": "scatter",
         "x": [
          17.12,
          6.69,
          16.48,
          51.68,
          18.83,
          17.82,
          23.97,
          27.45,
          18.4,
          16.8,
          3.75,
          35.95,
          35.68,
          9.84,
          14.87,
          12.57,
          31.3,
          32.69,
          24.82,
          20.76
         ],
         "xaxis": "x",
         "y": [
          2.5,
          1,
          3,
          10,
          2.8,
          2.75,
          4,
          4,
          2.75,
          2.2,
          0.25,
          6.05,
          5,
          2.16,
          3.13,
          2,
          5.7,
          5,
          4.4,
          3
         ],
         "yaxis": "y"
        },
        {
         "hovertemplate": "<b>OLS trendline</b><br>Tip = 0.1795 * Bill + -0.341786<br>R<sup>2</sup>=0.940569<br><br>Day=Mon<br>Bill=%{x}<br>Tip=%{y} <b>(trend)</b><extra></extra>",
         "legendgroup": "Mon",
         "marker": {
          "color": "#636efa",
          "symbol": "circle"
         },
         "mode": "lines",
         "name": "Mon",
         "showlegend": false,
         "type": "scatter",
         "x": [
          3.75,
          6.69,
          9.84,
          12.57,
          14.87,
          16.48,
          16.8,
          17.12,
          17.82,
          18.4,
          18.83,
          20.76,
          23.97,
          24.82,
          27.45,
          31.3,
          32.69,
          35.68,
          35.95,
          51.68
         ],
         "xaxis": "x",
         "y": [
          0.3313374392609776,
          0.8590665163472315,
          1.424490527511075,
          1.9145246705197396,
          2.3273739485123874,
          2.6163684431072403,
          2.673808342654044,
          2.731248242200847,
          2.856898022459479,
          2.961007840388059,
          3.038192705404076,
          3.3846270995457326,
          3.9608210918746014,
          4.113395825045798,
          4.585479999446086,
          5.276553790868562,
          5.526058354524988,
          6.062762415915429,
          6.111227331158045,
          8.934757393255586
         ],
         "yaxis": "y"
        },
        {
         "hovertemplate": "Day=Tue<br>Bill=%{x}<br>Tip=%{y}<br>PctTips_Guest=%{marker.size}<extra></extra>",
         "legendgroup": "Tue",
         "marker": {
          "color": "#EF553B",
          "size": [
           10.8,
           7.2,
           9,
           2.5,
           9,
           7.5,
           20.5,
           8.2,
           8.4,
           8.9,
           8.2,
           16.8,
           3.2
          ],
          "sizemode": "area",
          "sizeref": 0.06175,
          "symbol": "circle"
         },
         "mode": "markers",
         "name": "Tue",
         "orientation": "v",
         "showlegend": true,
         "type": "scatter",
         "x": [
          17.12,
          24.5,
          18.62,
          57.3,
          11.18,
          27.66,
          19.53,
          11.18,
          53.54,
          18.67,
          13.86,
          11.93,
          30.98
         ],
         "xaxis": "x",
         "y": [
          3.72,
          3.5,
          3.35,
          10,
          2,
          4.16,
          8,
          1.82,
          9,
          3.33,
          1.14,
          2,
          4.02
         ],
         "yaxis": "y"
        },
        {
         "hovertemplate": "<b>OLS trendline</b><br>Tip = 0.161981 * Bill + 0.372507<br>R<sup>2</sup>=0.735521<br><br>Day=Tue<br>Bill=%{x}<br>Tip=%{y} <b>(trend)</b><extra></extra>",
         "legendgroup": "Tue",
         "marker": {
          "color": "#EF553B",
          "symbol": "circle"
         },
         "mode": "lines",
         "name": "Tue",
         "showlegend": false,
         "type": "scatter",
         "x": [
          11.18,
          11.18,
          11.93,
          13.86,
          17.12,
          18.62,
          18.67,
          19.53,
          24.5,
          27.66,
          30.98,
          53.54,
          57.3
         ],
         "xaxis": "x",
         "y": [
          2.183457104359284,
          2.183457104359284,
          2.304943036723233,
          2.617566836006461,
          3.1456256886817586,
          3.388597553409656,
          3.3966966155672527,
          3.536000484677914,
          4.341047263143015,
          4.852907991503119,
          5.390685718767532,
          9.044982564275111,
          9.654032038526372
         ],
         "yaxis": "y"
        },
        {
         "hovertemplate": "Day=Wed<br>Bill=%{x}<br>Tip=%{y}<br>PctTips_Guest=%{marker.size}<extra></extra>",
         "legendgroup": "Wed",
         "marker": {
          "color": "#00cc96",
          "size": [
           21,
           9,
           5.6,
           8.2,
           7,
           8.4,
           4.1,
           5.4,
           8,
           18,
           9.6,
           16.3,
           8.2,
           7.2,
           4.6,
           9.7,
           9,
           6.4,
           19.5,
           7.4,
           7.4,
           10.8,
           19,
           12.9,
           7.7,
           10.5,
           8.9,
           9.8,
           6.4,
           11.4,
           19.7,
           5,
           7.7,
           15.1,
           9.1,
           12,
           2.8,
           10.6,
           5.8,
           15.4,
           14.2,
           8.4,
           8.4,
           9.8,
           18,
           19.6,
           7.5,
           10.4,
           6.4,
           7.2,
           6.1,
           12.9,
           5.8,
           7,
           13,
           8,
           16.2,
           24.7,
           7.4,
           7.6,
           7.4,
           8.6
          ],
          "sizemode": "area",
          "sizeref": 0.06175,
          "symbol": "circle"
         },
         "mode": "markers",
         "name": "Wed",
         "orientation": "v",
         "showlegend": true,
         "type": "scatter",
         "x": [
          7.44,
          15.25,
          18.08,
          30.6,
          14.34,
          23.91,
          26.8,
          18.67,
          37.34,
          22.2,
          36.27,
          23,
          42.96,
          21.03,
          29,
          50.24,
          28.84,
          28.36,
          11.72,
          18.14,
          16.26,
          20.22,
          8.4,
          11.66,
          12.31,
          9.52,
          17.82,
          25.63,
          18.62,
          3.26,
          10.17,
          18.62,
          19.42,
          1.66,
          39.75,
          12.52,
          59.33,
          17.44,
          19.69,
          9.36,
          10.59,
          31.94,
          22.26,
          20.33,
          10.17,
          9.2,
          20.87,
          17.39,
          7.97,
          32.31,
          21.88,
          7.76,
          17.44,
          29.85,
          7.7,
          23.27,
          30.98,
          60.72,
          70.51,
          14.23,
          38.73,
          23.43
         ],
         "xaxis": "x",
         "y": [
          1.56,
          2.75,
          2,
          5,
          2,
          4,
          2.2,
          3,
          5.96,
          4,
          7,
          3.75,
          7.04,
          3,
          4,
          9.76,
          5.16,
          5.44,
          2.28,
          4,
          2.43,
          4.37,
          1.6,
          1.5,
          1.9,
          1,
          3.18,
          5,
          2.38,
          0.74,
          2,
          2.79,
          3,
          0.25,
          7.25,
          1.5,
          10,
          3.7,
          2.31,
          1.44,
          1.5,
          8.06,
          3.74,
          4,
          1.83,
          1.8,
          3.13,
          3.61,
          1.03,
          4.69,
          4,
          1,
          2,
          4.15,
          1,
          3.73,
          5.02,
          15,
          10.49,
          2.15,
          5.7,
          4
         ],
         "yaxis": "y"
        },
        {
         "hovertemplate": "<b>OLS trendline</b><br>Tip = 0.183974 * Bill + -0.338782<br>R<sup>2</sup>=0.884289<br><br>Day=Wed<br>Bill=%{x}<br>Tip=%{y} <b>(trend)</b><extra></extra>",
         "legendgroup": "Wed",
         "marker": {
          "color": "#00cc96",
          "symbol": "circle"
         },
         "mode": "lines",
         "name": "Wed",
         "showlegend": false,
         "type": "scatter",
         "x": [
          1.66,
          3.26,
          7.44,
          7.7,
          7.76,
          7.97,
          8.4,
          9.2,
          9.36,
          9.52,
          10.17,
          10.17,
          10.59,
          11.66,
          11.72,
          12.31,
          12.52,
          14.23,
          14.34,
          15.25,
          16.26,
          17.39,
          17.44,
          17.44,
          17.82,
          18.08,
          18.14,
          18.62,
          18.62,
          18.67,
          19.42,
          19.69,
          20.22,
          20.33,
          20.87,
          21.03,
          21.88,
          22.2,
          22.26,
          23,
          23.27,
          23.43,
          23.91,
          25.63,
          26.8,
          28.36,
          28.84,
          29,
          29.85,
          30.6,
          30.98,
          31.94,
          32.31,
          36.27,
          37.34,
          38.73,
          39.75,
          42.96,
          50.24,
          59.33,
          60.72,
          70.51
         ],
         "xaxis": "x",
         "y": [
          -0.03338425959029728,
          0.2609747992118154,
          1.029987840332335,
          1.0778211873876782,
          1.0888596520927574,
          1.1274942785605346,
          1.2066032756136025,
          1.3537828050146588,
          1.3832187108948701,
          1.4126546167750813,
          1.5322379844134397,
          1.5322379844134397,
          1.6095072373489943,
          1.8063598579229072,
          1.8173983226279866,
          1.9259432255612656,
          1.964577852029043,
          2.279174096123801,
          2.2994112814164462,
          2.466827996110148,
          2.652642151978982,
          2.860533237257974,
          2.86973195784554,
          2.86973195784554,
          2.9396422343110413,
          2.9874755813663842,
          2.998514046071464,
          3.086821763712098,
          3.086821763712098,
          3.096020484299664,
          3.2340012931131543,
          3.283674384286011,
          3.38118082251421,
          3.4014180078068557,
          3.500764190152569,
          3.53020009603278,
          3.6865783460214026,
          3.745450157781825,
          3.7564886224869047,
          3.8926296871828816,
          3.942302778355738,
          3.971738684235949,
          4.060046401876583,
          4.376482390088854,
          4.591732451837899,
          4.878732534169959,
          4.967040251810593,
          4.996476157690804,
          5.152854407679427,
          5.290835216492917,
          5.360745492958419,
          5.5373609282396865,
          5.605431460587675,
          6.333970131122904,
          6.530822751696817,
          6.786547184031152,
          6.974201084017499,
          7.5647589457392375,
          8.90409266328885,
          10.576420066108353,
          10.832144498442688,
          12.633253989488116
         ],
         "yaxis": "y"
        },
        {
         "hovertemplate": "Day=Thur<br>Bill=%{x}<br>Tip=%{y}<br>PctTips_Guest=%{marker.size}<extra></extra>",
         "legendgroup": "Thur",
         "marker": {
          "color": "#ab63fa",
          "size": [
           3.6,
           5.5,
           7.2,
           8.4,
           5,
           7.8,
           8.4,
           9,
           10,
           15.3,
           13.4,
           10.2,
           3.4,
           5.6,
           5.2,
           7.9,
           8.9,
           7.4,
           17.3,
           10.1,
           7.8,
           6.5,
           4.6,
           8.6,
           18.3,
           8,
           6,
           4.6,
           14.8,
           7.6,
           5.4,
           15.9,
           8.9,
           7.4,
           10,
           6
          ],
          "sizemode": "area",
          "sizeref": 0.06175,
          "symbol": "circle"
         },
         "mode": "markers",
         "name": "Thur",
         "orientation": "v",
         "showlegend": true,
         "type": "scatter",
         "x": [
          55.59,
          24.34,
          31.35,
          18.62,
          29.53,
          22.68,
          36.86,
          15.62,
          25.09,
          13.11,
          9.31,
          29.05,
          41.94,
          27.82,
          49.59,
          39.8,
          22.47,
          13.38,
          26.16,
          29.64,
          25.95,
          17.71,
          28.09,
          23.38,
          28.36,
          12.54,
          18.73,
          35.9,
          9.58,
          18.14,
          31.14,
          15.73,
          16.85,
          16.53,
          34.94,
          8.29
         ],
         "xaxis": "x",
         "y": [
          10,
          4,
          4.5,
          3.11,
          4.47,
          3.55,
          6.14,
          2.81,
          5,
          2,
          1.25,
          5.91,
          7.06,
          4.71,
          10.41,
          6.3,
          4,
          2,
          4.53,
          6,
          4.05,
          2.3,
          5.11,
          4,
          5.2,
          2,
          2.27,
          5,
          1.42,
          2.75,
          5,
          5,
          3,
          2.47,
          6.96,
          1
         ],
         "yaxis": "y"
        },
        {
         "hovertemplate": "<b>OLS trendline</b><br>Tip = 0.18643 * Bill + -0.367159<br>R<sup>2</sup>=0.897295<br><br>Day=Thur<br>Bill=%{x}<br>Tip=%{y} <b>(trend)</b><extra></extra>",
         "legendgroup": "Thur",
         "marker": {
          "color": "#ab63fa",
          "symbol": "circle"
         },
         "mode": "lines",
         "name": "Thur",
         "showlegend": false,
         "type": "scatter",
         "x": [
          8.29,
          9.31,
          9.58,
          12.54,
          13.11,
          13.38,
          15.62,
          15.73,
          16.53,
          16.85,
          17.71,
          18.14,
          18.62,
          18.73,
          22.47,
          22.68,
          23.38,
          24.34,
          25.09,
          25.95,
          26.16,
          27.82,
          28.09,
          28.36,
          29.05,
          29.53,
          29.64,
          31.14,
          31.35,
          34.94,
          35.9,
          36.86,
          39.8,
          41.94,
          49.59,
          55.59
         ],
         "xaxis": "x",
         "y": [
          1.1783495318611354,
          1.368508616701909,
          1.4188448450421136,
          1.970679052031025,
          2.0769444229714575,
          2.127280651311662,
          2.5448849160600275,
          2.565392268346778,
          2.714536648614051,
          2.774194400720961,
          2.9345246095082795,
          3.014689713901939,
          3.1041763420623028,
          3.124683694349053,
          3.821933672098556,
          3.8610840719187154,
          3.9915854046525787,
          4.170558660973307,
          4.310381517473876,
          4.470711726261195,
          4.509862126081354,
          4.819336715135947,
          4.869672943476151,
          4.920009171816356,
          5.048646199796879,
          5.138132827957244,
          5.158640180243993,
          5.438285893245131,
          5.47743629306529,
          6.146721699514679,
          6.325694955835408,
          6.504668212156136,
          7.0527738096383645,
          7.451735026853321,
          8.877928163159124,
          9.996511015163675
         ],
         "yaxis": "y"
        },
        {
         "hovertemplate": "Day=Fri<br>Bill=%{x}<br>Tip=%{y}<br>PctTips_Guest=%{marker.size}<extra></extra>",
         "legendgroup": "Fri",
         "marker": {
          "color": "#FFA15A",
          "size": [
           21.1,
           6.7,
           6.5,
           7.8,
           10.4,
           9.8,
           6.7,
           8,
           6.2,
           6.4,
           5.4,
           11.5,
           9.7,
           20.6,
           7.1,
           6.3,
           5.7,
           7,
           9,
           6.6,
           6,
           8.5,
           5,
           5.6,
           12.4,
           8.8
          ],
          "sizemode": "area",
          "sizeref": 0.06175,
          "symbol": "circle"
         },
         "mode": "markers",
         "name": "Fri",
         "orientation": "v",
         "showlegend": true,
         "type": "scatter",
         "x": [
          23.7,
          22.36,
          36.11,
          31.99,
          17.39,
          15.41,
          18.62,
          21.56,
          19.58,
          23.59,
          18.67,
          15.19,
          27.98,
          10.17,
          8.83,
          8.88,
          17.49,
          18.4,
          37.24,
          23.65,
          28.89,
          21.24,
          20.22,
          7.54,
          8.08,
          22.95
         ],
         "xaxis": "x",
         "y": [
          10,
          3,
          7,
          5.01,
          3.61,
          3,
          2.5,
          3.44,
          2.42,
          3,
          2,
          1.75,
          5.42,
          2.1,
          1.25,
          1.12,
          3,
          2.6,
          6.7,
          3.15,
          3.46,
          3.62,
          2,
          1.26,
          1,
          4.05
         ],
         "yaxis": "y"
        },
        {
         "hovertemplate": "<b>OLS trendline</b><br>Tip = 0.190858 * Bill + -0.495372<br>R<sup>2</sup>=0.551083<br><br>Day=Fri<br>Bill=%{x}<br>Tip=%{y} <b>(trend)</b><extra></extra>",
         "legendgroup": "Fri",
         "marker": {
          "color": "#FFA15A",
          "symbol": "circle"
         },
         "mode": "lines",
         "name": "Fri",
         "showlegend": false,
         "type": "scatter",
         "x": [
          7.54,
          8.08,
          8.83,
          8.88,
          10.17,
          15.19,
          15.41,
          17.39,
          17.49,
          18.4,
          18.62,
          18.67,
          19.58,
          20.22,
          21.24,
          21.56,
          22.36,
          22.95,
          23.59,
          23.65,
          23.7,
          27.98,
          28.89,
          31.99,
          36.11,
          37.24
         ],
         "xaxis": "x",
         "y": [
          0.9436961074883298,
          1.0467593082249729,
          1.1899026425814214,
          1.1994455315385184,
          1.44565206663161,
          2.4037581179241063,
          2.4457468293353313,
          2.823645232036356,
          2.8427310099505485,
          3.0164115889697065,
          3.058400300380932,
          3.0679431893380285,
          3.2416237683571856,
          3.3637727470080216,
          3.558447681732792,
          3.61952217105821,
          3.7722083943717557,
          3.884814484065495,
          4.006963462716332,
          4.018414929464847,
          4.027957818421944,
          4.8448291131494114,
          5.0185096921685695,
          5.610168807508557,
          6.3965028575733145,
          6.612172148003698
         ],
         "yaxis": "y"
        }
       ],
       "layout": {
        "autosize": true,
        "legend": {
         "itemsizing": "constant",
         "title": {
          "text": "Day"
         },
         "tracegroupgap": 0
        },
        "margin": {
         "t": 60
        },
        "template": {
         "data": {
          "bar": [
           {
            "error_x": {
             "color": "#2a3f5f"
            },
            "error_y": {
             "color": "#2a3f5f"
            },
            "marker": {
             "line": {
              "color": "#E5ECF6",
              "width": 0.5
             },
             "pattern": {
              "fillmode": "overlay",
              "size": 10,
              "solidity": 0.2
             }
            },
            "type": "bar"
           }
          ],
          "barpolar": [
           {
            "marker": {
             "line": {
              "color": "#E5ECF6",
              "width": 0.5
             },
             "pattern": {
              "fillmode": "overlay",
              "size": 10,
              "solidity": 0.2
             }
            },
            "type": "barpolar"
           }
          ],
          "carpet": [
           {
            "aaxis": {
             "endlinecolor": "#2a3f5f",
             "gridcolor": "white",
             "linecolor": "white",
             "minorgridcolor": "white",
             "startlinecolor": "#2a3f5f"
            },
            "baxis": {
             "endlinecolor": "#2a3f5f",
             "gridcolor": "white",
             "linecolor": "white",
             "minorgridcolor": "white",
             "startlinecolor": "#2a3f5f"
            },
            "type": "carpet"
           }
          ],
          "choropleth": [
           {
            "colorbar": {
             "outlinewidth": 0,
             "ticks": ""
            },
            "type": "choropleth"
           }
          ],
          "contour": [
           {
            "colorbar": {
             "outlinewidth": 0,
             "ticks": ""
            },
            "colorscale": [
             [
              0,
              "#0d0887"
             ],
             [
              0.1111111111111111,
              "#46039f"
             ],
             [
              0.2222222222222222,
              "#7201a8"
             ],
             [
              0.3333333333333333,
              "#9c179e"
             ],
             [
              0.4444444444444444,
              "#bd3786"
             ],
             [
              0.5555555555555556,
              "#d8576b"
             ],
             [
              0.6666666666666666,
              "#ed7953"
             ],
             [
              0.7777777777777778,
              "#fb9f3a"
             ],
             [
              0.8888888888888888,
              "#fdca26"
             ],
             [
              1,
              "#f0f921"
             ]
            ],
            "type": "contour"
           }
          ],
          "contourcarpet": [
           {
            "colorbar": {
             "outlinewidth": 0,
             "ticks": ""
            },
            "type": "contourcarpet"
           }
          ],
          "heatmap": [
           {
            "colorbar": {
             "outlinewidth": 0,
             "ticks": ""
            },
            "colorscale": [
             [
              0,
              "#0d0887"
             ],
             [
              0.1111111111111111,
              "#46039f"
             ],
             [
              0.2222222222222222,
              "#7201a8"
             ],
             [
              0.3333333333333333,
              "#9c179e"
             ],
             [
              0.4444444444444444,
              "#bd3786"
             ],
             [
              0.5555555555555556,
              "#d8576b"
             ],
             [
              0.6666666666666666,
              "#ed7953"
             ],
             [
              0.7777777777777778,
              "#fb9f3a"
             ],
             [
              0.8888888888888888,
              "#fdca26"
             ],
             [
              1,
              "#f0f921"
             ]
            ],
            "type": "heatmap"
           }
          ],
          "heatmapgl": [
           {
            "colorbar": {
             "outlinewidth": 0,
             "ticks": ""
            },
            "colorscale": [
             [
              0,
              "#0d0887"
             ],
             [
              0.1111111111111111,
              "#46039f"
             ],
             [
              0.2222222222222222,
              "#7201a8"
             ],
             [
              0.3333333333333333,
              "#9c179e"
             ],
             [
              0.4444444444444444,
              "#bd3786"
             ],
             [
              0.5555555555555556,
              "#d8576b"
             ],
             [
              0.6666666666666666,
              "#ed7953"
             ],
             [
              0.7777777777777778,
              "#fb9f3a"
             ],
             [
              0.8888888888888888,
              "#fdca26"
             ],
             [
              1,
              "#f0f921"
             ]
            ],
            "type": "heatmapgl"
           }
          ],
          "histogram": [
           {
            "marker": {
             "pattern": {
              "fillmode": "overlay",
              "size": 10,
              "solidity": 0.2
             }
            },
            "type": "histogram"
           }
          ],
          "histogram2d": [
           {
            "colorbar": {
             "outlinewidth": 0,
             "ticks": ""
            },
            "colorscale": [
             [
              0,
              "#0d0887"
             ],
             [
              0.1111111111111111,
              "#46039f"
             ],
             [
              0.2222222222222222,
              "#7201a8"
             ],
             [
              0.3333333333333333,
              "#9c179e"
             ],
             [
              0.4444444444444444,
              "#bd3786"
             ],
             [
              0.5555555555555556,
              "#d8576b"
             ],
             [
              0.6666666666666666,
              "#ed7953"
             ],
             [
              0.7777777777777778,
              "#fb9f3a"
             ],
             [
              0.8888888888888888,
              "#fdca26"
             ],
             [
              1,
              "#f0f921"
             ]
            ],
            "type": "histogram2d"
           }
          ],
          "histogram2dcontour": [
           {
            "colorbar": {
             "outlinewidth": 0,
             "ticks": ""
            },
            "colorscale": [
             [
              0,
              "#0d0887"
             ],
             [
              0.1111111111111111,
              "#46039f"
             ],
             [
              0.2222222222222222,
              "#7201a8"
             ],
             [
              0.3333333333333333,
              "#9c179e"
             ],
             [
              0.4444444444444444,
              "#bd3786"
             ],
             [
              0.5555555555555556,
              "#d8576b"
             ],
             [
              0.6666666666666666,
              "#ed7953"
             ],
             [
              0.7777777777777778,
              "#fb9f3a"
             ],
             [
              0.8888888888888888,
              "#fdca26"
             ],
             [
              1,
              "#f0f921"
             ]
            ],
            "type": "histogram2dcontour"
           }
          ],
          "mesh3d": [
           {
            "colorbar": {
             "outlinewidth": 0,
             "ticks": ""
            },
            "type": "mesh3d"
           }
          ],
          "parcoords": [
           {
            "line": {
             "colorbar": {
              "outlinewidth": 0,
              "ticks": ""
             }
            },
            "type": "parcoords"
           }
          ],
          "pie": [
           {
            "automargin": true,
            "type": "pie"
           }
          ],
          "scatter": [
           {
            "fillpattern": {
             "fillmode": "overlay",
             "size": 10,
             "solidity": 0.2
            },
            "type": "scatter"
           }
          ],
          "scatter3d": [
           {
            "line": {
             "colorbar": {
              "outlinewidth": 0,
              "ticks": ""
             }
            },
            "marker": {
             "colorbar": {
              "outlinewidth": 0,
              "ticks": ""
             }
            },
            "type": "scatter3d"
           }
          ],
          "scattercarpet": [
           {
            "marker": {
             "colorbar": {
              "outlinewidth": 0,
              "ticks": ""
             }
            },
            "type": "scattercarpet"
           }
          ],
          "scattergeo": [
           {
            "marker": {
             "colorbar": {
              "outlinewidth": 0,
              "ticks": ""
             }
            },
            "type": "scattergeo"
           }
          ],
          "scattergl": [
           {
            "marker": {
             "colorbar": {
              "outlinewidth": 0,
              "ticks": ""
             }
            },
            "type": "scattergl"
           }
          ],
          "scattermapbox": [
           {
            "marker": {
             "colorbar": {
              "outlinewidth": 0,
              "ticks": ""
             }
            },
            "type": "scattermapbox"
           }
          ],
          "scatterpolar": [
           {
            "marker": {
             "colorbar": {
              "outlinewidth": 0,
              "ticks": ""
             }
            },
            "type": "scatterpolar"
           }
          ],
          "scatterpolargl": [
           {
            "marker": {
             "colorbar": {
              "outlinewidth": 0,
              "ticks": ""
             }
            },
            "type": "scatterpolargl"
           }
          ],
          "scatterternary": [
           {
            "marker": {
             "colorbar": {
              "outlinewidth": 0,
              "ticks": ""
             }
            },
            "type": "scatterternary"
           }
          ],
          "surface": [
           {
            "colorbar": {
             "outlinewidth": 0,
             "ticks": ""
            },
            "colorscale": [
             [
              0,
              "#0d0887"
             ],
             [
              0.1111111111111111,
              "#46039f"
             ],
             [
              0.2222222222222222,
              "#7201a8"
             ],
             [
              0.3333333333333333,
              "#9c179e"
             ],
             [
              0.4444444444444444,
              "#bd3786"
             ],
             [
              0.5555555555555556,
              "#d8576b"
             ],
             [
              0.6666666666666666,
              "#ed7953"
             ],
             [
              0.7777777777777778,
              "#fb9f3a"
             ],
             [
              0.8888888888888888,
              "#fdca26"
             ],
             [
              1,
              "#f0f921"
             ]
            ],
            "type": "surface"
           }
          ],
          "table": [
           {
            "cells": {
             "fill": {
              "color": "#EBF0F8"
             },
             "line": {
              "color": "white"
             }
            },
            "header": {
             "fill": {
              "color": "#C8D4E3"
             },
             "line": {
              "color": "white"
             }
            },
            "type": "table"
           }
          ]
         },
         "layout": {
          "annotationdefaults": {
           "arrowcolor": "#2a3f5f",
           "arrowhead": 0,
           "arrowwidth": 1
          },
          "autotypenumbers": "strict",
          "coloraxis": {
           "colorbar": {
            "outlinewidth": 0,
            "ticks": ""
           }
          },
          "colorscale": {
           "diverging": [
            [
             0,
             "#8e0152"
            ],
            [
             0.1,
             "#c51b7d"
            ],
            [
             0.2,
             "#de77ae"
            ],
            [
             0.3,
             "#f1b6da"
            ],
            [
             0.4,
             "#fde0ef"
            ],
            [
             0.5,
             "#f7f7f7"
            ],
            [
             0.6,
             "#e6f5d0"
            ],
            [
             0.7,
             "#b8e186"
            ],
            [
             0.8,
             "#7fbc41"
            ],
            [
             0.9,
             "#4d9221"
            ],
            [
             1,
             "#276419"
            ]
           ],
           "sequential": [
            [
             0,
             "#0d0887"
            ],
            [
             0.1111111111111111,
             "#46039f"
            ],
            [
             0.2222222222222222,
             "#7201a8"
            ],
            [
             0.3333333333333333,
             "#9c179e"
            ],
            [
             0.4444444444444444,
             "#bd3786"
            ],
            [
             0.5555555555555556,
             "#d8576b"
            ],
            [
             0.6666666666666666,
             "#ed7953"
            ],
            [
             0.7777777777777778,
             "#fb9f3a"
            ],
            [
             0.8888888888888888,
             "#fdca26"
            ],
            [
             1,
             "#f0f921"
            ]
           ],
           "sequentialminus": [
            [
             0,
             "#0d0887"
            ],
            [
             0.1111111111111111,
             "#46039f"
            ],
            [
             0.2222222222222222,
             "#7201a8"
            ],
            [
             0.3333333333333333,
             "#9c179e"
            ],
            [
             0.4444444444444444,
             "#bd3786"
            ],
            [
             0.5555555555555556,
             "#d8576b"
            ],
            [
             0.6666666666666666,
             "#ed7953"
            ],
            [
             0.7777777777777778,
             "#fb9f3a"
            ],
            [
             0.8888888888888888,
             "#fdca26"
            ],
            [
             1,
             "#f0f921"
            ]
           ]
          },
          "colorway": [
           "#636efa",
           "#EF553B",
           "#00cc96",
           "#ab63fa",
           "#FFA15A",
           "#19d3f3",
           "#FF6692",
           "#B6E880",
           "#FF97FF",
           "#FECB52"
          ],
          "font": {
           "color": "#2a3f5f"
          },
          "geo": {
           "bgcolor": "white",
           "lakecolor": "white",
           "landcolor": "#E5ECF6",
           "showlakes": true,
           "showland": true,
           "subunitcolor": "white"
          },
          "hoverlabel": {
           "align": "left"
          },
          "hovermode": "closest",
          "mapbox": {
           "style": "light"
          },
          "paper_bgcolor": "white",
          "plot_bgcolor": "#E5ECF6",
          "polar": {
           "angularaxis": {
            "gridcolor": "white",
            "linecolor": "white",
            "ticks": ""
           },
           "bgcolor": "#E5ECF6",
           "radialaxis": {
            "gridcolor": "white",
            "linecolor": "white",
            "ticks": ""
           }
          },
          "scene": {
           "xaxis": {
            "backgroundcolor": "#E5ECF6",
            "gridcolor": "white",
            "gridwidth": 2,
            "linecolor": "white",
            "showbackground": true,
            "ticks": "",
            "zerolinecolor": "white"
           },
           "yaxis": {
            "backgroundcolor": "#E5ECF6",
            "gridcolor": "white",
            "gridwidth": 2,
            "linecolor": "white",
            "showbackground": true,
            "ticks": "",
            "zerolinecolor": "white"
           },
           "zaxis": {
            "backgroundcolor": "#E5ECF6",
            "gridcolor": "white",
            "gridwidth": 2,
            "linecolor": "white",
            "showbackground": true,
            "ticks": "",
            "zerolinecolor": "white"
           }
          },
          "shapedefaults": {
           "line": {
            "color": "#2a3f5f"
           }
          },
          "ternary": {
           "aaxis": {
            "gridcolor": "white",
            "linecolor": "white",
            "ticks": ""
           },
           "baxis": {
            "gridcolor": "white",
            "linecolor": "white",
            "ticks": ""
           },
           "bgcolor": "#E5ECF6",
           "caxis": {
            "gridcolor": "white",
            "linecolor": "white",
            "ticks": ""
           }
          },
          "title": {
           "x": 0.05
          },
          "xaxis": {
           "automargin": true,
           "gridcolor": "white",
           "linecolor": "white",
           "ticks": "",
           "title": {
            "standoff": 15
           },
           "zerolinecolor": "white",
           "zerolinewidth": 2
          },
          "yaxis": {
           "automargin": true,
           "gridcolor": "white",
           "linecolor": "white",
           "ticks": "",
           "title": {
            "standoff": 15
           },
           "zerolinecolor": "white",
           "zerolinewidth": 2
          }
         }
        },
        "xaxis": {
         "anchor": "y",
         "autorange": true,
         "domain": [
          0,
          1
         ],
         "range": [
          -3.6194577566027375,
          75.39083772360762
         ],
         "title": {
          "text": "Bill"
         },
         "type": "linear"
        },
        "yaxis": {
         "anchor": "x",
         "autorange": true,
         "domain": [
          0,
          1
         ],
         "range": [
          -1.7791263648221132,
          17.328665589339703
         ],
         "title": {
          "text": "Tip"
         },
         "type": "linear"
        }
       }
      },
      "image/png": "[encoded data removed]",
      "text/html": [
       "<div>                            <div id=\"0398d187-8358-409c-b8a0-cc68b61a47bf\" class=\"plotly-graph-div\" style=\"height:525px; width:100%;\"></div>            <script type=\"text/javascript\">                require([\"plotly\"], function(Plotly) {                    window.PLOTLYENV=window.PLOTLYENV || {};                                    if (document.getElementById(\"0398d187-8358-409c-b8a0-cc68b61a47bf\")) {                    Plotly.newPlot(                        \"0398d187-8358-409c-b8a0-cc68b61a47bf\",                        [{\"hovertemplate\":\"Day=Mon<br>Bill=%{x}<br>Tip=%{y}<br>PctTips_Guest=%{marker.size}<extra></extra>\",\"legendgroup\":\"Mon\",\"marker\":{\"color\":\"#636efa\",\"size\":[7.3,14.9,9.1,3.2,7.4,7.7,8.4,4.9,7.4,6.6,3.4,5.6,4.7,22.0,10.5,5.3,6.1,7.6,8.8,7.2],\"sizemode\":\"area\",\"sizeref\":0.06175,\"symbol\":\"circle\"},\"mode\":\"markers\",\"name\":\"Mon\",\"orientation\":\"v\",\"showlegend\":true,\"x\":[17.12,6.69,16.48,51.68,18.83,17.82,23.97,27.45,18.4,16.8,3.75,35.95,35.68,9.84,14.87,12.57,31.3,32.69,24.82,20.76],\"xaxis\":\"x\",\"y\":[2.5,1.0,3.0,10.0,2.8,2.75,4.0,4.0,2.75,2.2,0.25,6.05,5.0,2.16,3.13,2.0,5.7,5.0,4.4,3.0],\"yaxis\":\"y\",\"type\":\"scatter\"},{\"hovertemplate\":\"<b>OLS trendline</b><br>Tip = 0.1795 * Bill + -0.341786<br>R<sup>2</sup>=0.940569<br><br>Day=Mon<br>Bill=%{x}<br>Tip=%{y} <b>(trend)</b><extra></extra>\",\"legendgroup\":\"Mon\",\"marker\":{\"color\":\"#636efa\",\"symbol\":\"circle\"},\"mode\":\"lines\",\"name\":\"Mon\",\"showlegend\":false,\"x\":[3.75,6.69,9.84,12.57,14.87,16.48,16.8,17.12,17.82,18.4,18.83,20.76,23.97,24.82,27.45,31.3,32.69,35.68,35.95,51.68],\"xaxis\":\"x\",\"y\":[0.3313374392609776,0.8590665163472315,1.424490527511075,1.9145246705197396,2.3273739485123874,2.6163684431072403,2.673808342654044,2.731248242200847,2.856898022459479,2.961007840388059,3.038192705404076,3.3846270995457326,3.9608210918746014,4.113395825045798,4.585479999446086,5.276553790868562,5.526058354524988,6.062762415915429,6.111227331158045,8.934757393255586],\"yaxis\":\"y\",\"type\":\"scatter\"},{\"hovertemplate\":\"Day=Tue<br>Bill=%{x}<br>Tip=%{y}<br>PctTips_Guest=%{marker.size}<extra></extra>\",\"legendgroup\":\"Tue\",\"marker\":{\"color\":\"#EF553B\",\"size\":[10.8,7.2,9.0,2.5,9.0,7.5,20.5,8.2,8.4,8.9,8.2,16.8,3.2],\"sizemode\":\"area\",\"sizeref\":0.06175,\"symbol\":\"circle\"},\"mode\":\"markers\",\"name\":\"Tue\",\"orientation\":\"v\",\"showlegend\":true,\"x\":[17.12,24.5,18.62,57.3,11.18,27.66,19.53,11.18,53.54,18.67,13.86,11.93,30.98],\"xaxis\":\"x\",\"y\":[3.72,3.5,3.35,10.0,2.0,4.16,8.0,1.82,9.0,3.33,1.14,2.0,4.02],\"yaxis\":\"y\",\"type\":\"scatter\"},{\"hovertemplate\":\"<b>OLS trendline</b><br>Tip = 0.161981 * Bill + 0.372507<br>R<sup>2</sup>=0.735521<br><br>Day=Tue<br>Bill=%{x}<br>Tip=%{y} <b>(trend)</b><extra></extra>\",\"legendgroup\":\"Tue\",\"marker\":{\"color\":\"#EF553B\",\"symbol\":\"circle\"},\"mode\":\"lines\",\"name\":\"Tue\",\"showlegend\":false,\"x\":[11.18,11.18,11.93,13.86,17.12,18.62,18.67,19.53,24.5,27.66,30.98,53.54,57.3],\"xaxis\":\"x\",\"y\":[2.183457104359284,2.183457104359284,2.304943036723233,2.617566836006461,3.1456256886817586,3.388597553409656,3.3966966155672527,3.536000484677914,4.341047263143015,4.852907991503119,5.390685718767532,9.044982564275111,9.654032038526372],\"yaxis\":\"y\",\"type\":\"scatter\"},{\"hovertemplate\":\"Day=Wed<br>Bill=%{x}<br>Tip=%{y}<br>PctTips_Guest=%{marker.size}<extra></extra>\",\"legendgroup\":\"Wed\",\"marker\":{\"color\":\"#00cc96\",\"size\":[21.0,9.0,5.6,8.2,7.0,8.4,4.1,5.4,8.0,18.0,9.6,16.3,8.2,7.2,4.6,9.7,9.0,6.4,19.5,7.4,7.4,10.8,19.0,12.9,7.7,10.5,8.9,9.8,6.4,11.4,19.7,5.0,7.7,15.1,9.1,12.0,2.8,10.6,5.8,15.4,14.2,8.4,8.4,9.8,18.0,19.6,7.5,10.4,6.4,7.2,6.1,12.9,5.8,7.0,13.0,8.0,16.2,24.7,7.4,7.6,7.4,8.6],\"sizemode\":\"area\",\"sizeref\":0.06175,\"symbol\":\"circle\"},\"mode\":\"markers\",\"name\":\"Wed\",\"orientation\":\"v\",\"showlegend\":true,\"x\":[7.44,15.25,18.08,30.6,14.34,23.91,26.8,18.67,37.34,22.2,36.27,23.0,42.96,21.03,29.0,50.24,28.84,28.36,11.72,18.14,16.26,20.22,8.4,11.66,12.31,9.52,17.82,25.63,18.62,3.26,10.17,18.62,19.42,1.66,39.75,12.52,59.33,17.44,19.69,9.36,10.59,31.94,22.26,20.33,10.17,9.2,20.87,17.39,7.97,32.31,21.88,7.76,17.44,29.85,7.7,23.27,30.98,60.72,70.51,14.23,38.73,23.43],\"xaxis\":\"x\",\"y\":[1.56,2.75,2.0,5.0,2.0,4.0,2.2,3.0,5.96,4.0,7.0,3.75,7.04,3.0,4.0,9.76,5.16,5.44,2.28,4.0,2.43,4.37,1.6,1.5,1.9,1.0,3.18,5.0,2.38,0.74,2.0,2.79,3.0,0.25,7.25,1.5,10.0,3.7,2.31,1.44,1.5,8.06,3.74,4.0,1.83,1.8,3.13,3.61,1.03,4.69,4.0,1.0,2.0,4.15,1.0,3.73,5.02,15.0,10.49,2.15,5.7,4.0],\"yaxis\":\"y\",\"type\":\"scatter\"},{\"hovertemplate\":\"<b>OLS trendline</b><br>Tip = 0.183974 * Bill + -0.338782<br>R<sup>2</sup>=0.884289<br><br>Day=Wed<br>Bill=%{x}<br>Tip=%{y} <b>(trend)</b><extra></extra>\",\"legendgroup\":\"Wed\",\"marker\":{\"color\":\"#00cc96\",\"symbol\":\"circle\"},\"mode\":\"lines\",\"name\":\"Wed\",\"showlegend\":false,\"x\":[1.66,3.26,7.44,7.7,7.76,7.97,8.4,9.2,9.36,9.52,10.17,10.17,10.59,11.66,11.72,12.31,12.52,14.23,14.34,15.25,16.26,17.39,17.44,17.44,17.82,18.08,18.14,18.62,18.62,18.67,19.42,19.69,20.22,20.33,20.87,21.03,21.88,22.2,22.26,23.0,23.27,23.43,23.91,25.63,26.8,28.36,28.84,29.0,29.85,30.6,30.98,31.94,32.31,36.27,37.34,38.73,39.75,42.96,50.24,59.33,60.72,70.51],\"xaxis\":\"x\",\"y\":[-0.03338425959029728,0.2609747992118154,1.029987840332335,1.0778211873876782,1.0888596520927574,1.1274942785605346,1.2066032756136025,1.3537828050146588,1.3832187108948701,1.4126546167750813,1.5322379844134397,1.5322379844134397,1.6095072373489943,1.8063598579229072,1.8173983226279866,1.9259432255612656,1.964577852029043,2.279174096123801,2.2994112814164462,2.466827996110148,2.652642151978982,2.860533237257974,2.86973195784554,2.86973195784554,2.9396422343110413,2.9874755813663842,2.998514046071464,3.086821763712098,3.086821763712098,3.096020484299664,3.2340012931131543,3.283674384286011,3.38118082251421,3.4014180078068557,3.500764190152569,3.53020009603278,3.6865783460214026,3.745450157781825,3.7564886224869047,3.8926296871828816,3.942302778355738,3.971738684235949,4.060046401876583,4.376482390088854,4.591732451837899,4.878732534169959,4.967040251810593,4.996476157690804,5.152854407679427,5.290835216492917,5.360745492958419,5.5373609282396865,5.605431460587675,6.333970131122904,6.530822751696817,6.786547184031152,6.974201084017499,7.5647589457392375,8.90409266328885,10.576420066108353,10.832144498442688,12.633253989488116],\"yaxis\":\"y\",\"type\":\"scatter\"},{\"hovertemplate\":\"Day=Thur<br>Bill=%{x}<br>Tip=%{y}<br>PctTips_Guest=%{marker.size}<extra></extra>\",\"legendgroup\":\"Thur\",\"marker\":{\"color\":\"#ab63fa\",\"size\":[3.6,5.5,7.2,8.4,5.0,7.8,8.4,9.0,10.0,15.3,13.4,10.2,3.4,5.6,5.2,7.9,8.9,7.4,17.3,10.1,7.8,6.5,4.6,8.6,18.3,8.0,6.0,4.6,14.8,7.6,5.4,15.9,8.9,7.4,10.0,6.0],\"sizemode\":\"area\",\"sizeref\":0.06175,\"symbol\":\"circle\"},\"mode\":\"markers\",\"name\":\"Thur\",\"orientation\":\"v\",\"showlegend\":true,\"x\":[55.59,24.34,31.35,18.62,29.53,22.68,36.86,15.62,25.09,13.11,9.31,29.05,41.94,27.82,49.59,39.8,22.47,13.38,26.16,29.64,25.95,17.71,28.09,23.38,28.36,12.54,18.73,35.9,9.58,18.14,31.14,15.73,16.85,16.53,34.94,8.29],\"xaxis\":\"x\",\"y\":[10.0,4.0,4.5,3.11,4.47,3.55,6.14,2.81,5.0,2.0,1.25,5.91,7.06,4.71,10.41,6.3,4.0,2.0,4.53,6.0,4.05,2.3,5.11,4.0,5.2,2.0,2.27,5.0,1.42,2.75,5.0,5.0,3.0,2.47,6.96,1.0],\"yaxis\":\"y\",\"type\":\"scatter\"},{\"hovertemplate\":\"<b>OLS trendline</b><br>Tip = 0.18643 * Bill + -0.367159<br>R<sup>2</sup>=0.897295<br><br>Day=Thur<br>Bill=%{x}<br>Tip=%{y} <b>(trend)</b><extra></extra>\",\"legendgroup\":\"Thur\",\"marker\":{\"color\":\"#ab63fa\",\"symbol\":\"circle\"},\"mode\":\"lines\",\"name\":\"Thur\",\"showlegend\":false,\"x\":[8.29,9.31,9.58,12.54,13.11,13.38,15.62,15.73,16.53,16.85,17.71,18.14,18.62,18.73,22.47,22.68,23.38,24.34,25.09,25.95,26.16,27.82,28.09,28.36,29.05,29.53,29.64,31.14,31.35,34.94,35.9,36.86,39.8,41.94,49.59,55.59],\"xaxis\":\"x\",\"y\":[1.1783495318611354,1.368508616701909,1.4188448450421136,1.970679052031025,2.0769444229714575,2.127280651311662,2.5448849160600275,2.565392268346778,2.714536648614051,2.774194400720961,2.9345246095082795,3.014689713901939,3.1041763420623028,3.124683694349053,3.821933672098556,3.8610840719187154,3.9915854046525787,4.170558660973307,4.310381517473876,4.470711726261195,4.509862126081354,4.819336715135947,4.869672943476151,4.920009171816356,5.048646199796879,5.138132827957244,5.158640180243993,5.438285893245131,5.47743629306529,6.146721699514679,6.325694955835408,6.504668212156136,7.0527738096383645,7.451735026853321,8.877928163159124,9.996511015163675],\"yaxis\":\"y\",\"type\":\"scatter\"},{\"hovertemplate\":\"Day=Fri<br>Bill=%{x}<br>Tip=%{y}<br>PctTips_Guest=%{marker.size}<extra></extra>\",\"legendgroup\":\"Fri\",\"marker\":{\"color\":\"#FFA15A\",\"size\":[21.1,6.7,6.5,7.8,10.4,9.8,6.7,8.0,6.2,6.4,5.4,11.5,9.7,20.6,7.1,6.3,5.7,7.0,9.0,6.6,6.0,8.5,5.0,5.6,12.4,8.8],\"sizemode\":\"area\",\"sizeref\":0.06175,\"symbol\":\"circle\"},\"mode\":\"markers\",\"name\":\"Fri\",\"orientation\":\"v\",\"showlegend\":true,\"x\":[23.7,22.36,36.11,31.99,17.39,15.41,18.62,21.56,19.58,23.59,18.67,15.19,27.98,10.17,8.83,8.88,17.49,18.4,37.24,23.65,28.89,21.24,20.22,7.54,8.08,22.95],\"xaxis\":\"x\",\"y\":[10.0,3.0,7.0,5.01,3.61,3.0,2.5,3.44,2.42,3.0,2.0,1.75,5.42,2.1,1.25,1.12,3.0,2.6,6.7,3.15,3.46,3.62,2.0,1.26,1.0,4.05],\"yaxis\":\"y\",\"type\":\"scatter\"},{\"hovertemplate\":\"<b>OLS trendline</b><br>Tip = 0.190858 * Bill + -0.495372<br>R<sup>2</sup>=0.551083<br><br>Day=Fri<br>Bill=%{x}<br>Tip=%{y} <b>(trend)</b><extra></extra>\",\"legendgroup\":\"Fri\",\"marker\":{\"color\":\"#FFA15A\",\"symbol\":\"circle\"},\"mode\":\"lines\",\"name\":\"Fri\",\"showlegend\":false,\"x\":[7.54,8.08,8.83,8.88,10.17,15.19,15.41,17.39,17.49,18.4,18.62,18.67,19.58,20.22,21.24,21.56,22.36,22.95,23.59,23.65,23.7,27.98,28.89,31.99,36.11,37.24],\"xaxis\":\"x\",\"y\":[0.9436961074883298,1.0467593082249729,1.1899026425814214,1.1994455315385184,1.44565206663161,2.4037581179241063,2.4457468293353313,2.823645232036356,2.8427310099505485,3.0164115889697065,3.058400300380932,3.0679431893380285,3.2416237683571856,3.3637727470080216,3.558447681732792,3.61952217105821,3.7722083943717557,3.884814484065495,4.006963462716332,4.018414929464847,4.027957818421944,4.8448291131494114,5.0185096921685695,5.610168807508557,6.3965028575733145,6.612172148003698],\"yaxis\":\"y\",\"type\":\"scatter\"}],                        {\"template\":{\"data\":{\"histogram2dcontour\":[{\"type\":\"histogram2dcontour\",\"colorbar\":{\"outlinewidth\":0,\"ticks\":\"\"},\"colorscale\":[[0.0,\"#0d0887\"],[0.1111111111111111,\"#46039f\"],[0.2222222222222222,\"#7201a8\"],[0.3333333333333333,\"#9c179e\"],[0.4444444444444444,\"#bd3786\"],[0.5555555555555556,\"#d8576b\"],[0.6666666666666666,\"#ed7953\"],[0.7777777777777778,\"#fb9f3a\"],[0.8888888888888888,\"#fdca26\"],[1.0,\"#f0f921\"]]}],\"choropleth\":[{\"type\":\"choropleth\",\"colorbar\":{\"outlinewidth\":0,\"ticks\":\"\"}}],\"histogram2d\":[{\"type\":\"histogram2d\",\"colorbar\":{\"outlinewidth\":0,\"ticks\":\"\"},\"colorscale\":[[0.0,\"#0d0887\"],[0.1111111111111111,\"#46039f\"],[0.2222222222222222,\"#7201a8\"],[0.3333333333333333,\"#9c179e\"],[0.4444444444444444,\"#bd3786\"],[0.5555555555555556,\"#d8576b\"],[0.6666666666666666,\"#ed7953\"],[0.7777777777777778,\"#fb9f3a\"],[0.8888888888888888,\"#fdca26\"],[1.0,\"#f0f921\"]]}],\"heatmap\":[{\"type\":\"heatmap\",\"colorbar\":{\"outlinewidth\":0,\"ticks\":\"\"},\"colorscale\":[[0.0,\"#0d0887\"],[0.1111111111111111,\"#46039f\"],[0.2222222222222222,\"#7201a8\"],[0.3333333333333333,\"#9c179e\"],[0.4444444444444444,\"#bd3786\"],[0.5555555555555556,\"#d8576b\"],[0.6666666666666666,\"#ed7953\"],[0.7777777777777778,\"#fb9f3a\"],[0.8888888888888888,\"#fdca26\"],[1.0,\"#f0f921\"]]}],\"heatmapgl\":[{\"type\":\"heatmapgl\",\"colorbar\":{\"outlinewidth\":0,\"ticks\":\"\"},\"colorscale\":[[0.0,\"#0d0887\"],[0.1111111111111111,\"#46039f\"],[0.2222222222222222,\"#7201a8\"],[0.3333333333333333,\"#9c179e\"],[0.4444444444444444,\"#bd3786\"],[0.5555555555555556,\"#d8576b\"],[0.6666666666666666,\"#ed7953\"],[0.7777777777777778,\"#fb9f3a\"],[0.8888888888888888,\"#fdca26\"],[1.0,\"#f0f921\"]]}],\"contourcarpet\":[{\"type\":\"contourcarpet\",\"colorbar\":{\"outlinewidth\":0,\"ticks\":\"\"}}],\"contour\":[{\"type\":\"contour\",\"colorbar\":{\"outlinewidth\":0,\"ticks\":\"\"},\"colorscale\":[[0.0,\"#0d0887\"],[0.1111111111111111,\"#46039f\"],[0.2222222222222222,\"#7201a8\"],[0.3333333333333333,\"#9c179e\"],[0.4444444444444444,\"#bd3786\"],[0.5555555555555556,\"#d8576b\"],[0.6666666666666666,\"#ed7953\"],[0.7777777777777778,\"#fb9f3a\"],[0.8888888888888888,\"#fdca26\"],[1.0,\"#f0f921\"]]}],\"surface\":[{\"type\":\"surface\",\"colorbar\":{\"outlinewidth\":0,\"ticks\":\"\"},\"colorscale\":[[0.0,\"#0d0887\"],[0.1111111111111111,\"#46039f\"],[0.2222222222222222,\"#7201a8\"],[0.3333333333333333,\"#9c179e\"],[0.4444444444444444,\"#bd3786\"],[0.5555555555555556,\"#d8576b\"],[0.6666666666666666,\"#ed7953\"],[0.7777777777777778,\"#fb9f3a\"],[0.8888888888888888,\"#fdca26\"],[1.0,\"#f0f921\"]]}],\"mesh3d\":[{\"type\":\"mesh3d\",\"colorbar\":{\"outlinewidth\":0,\"ticks\":\"\"}}],\"scatter\":[{\"fillpattern\":{\"fillmode\":\"overlay\",\"size\":10,\"solidity\":0.2},\"type\":\"scatter\"}],\"parcoords\":[{\"type\":\"parcoords\",\"line\":{\"colorbar\":{\"outlinewidth\":0,\"ticks\":\"\"}}}],\"scatterpolargl\":[{\"type\":\"scatterpolargl\",\"marker\":{\"colorbar\":{\"outlinewidth\":0,\"ticks\":\"\"}}}],\"bar\":[{\"error_x\":{\"color\":\"#2a3f5f\"},\"error_y\":{\"color\":\"#2a3f5f\"},\"marker\":{\"line\":{\"color\":\"#E5ECF6\",\"width\":0.5},\"pattern\":{\"fillmode\":\"overlay\",\"size\":10,\"solidity\":0.2}},\"type\":\"bar\"}],\"scattergeo\":[{\"type\":\"scattergeo\",\"marker\":{\"colorbar\":{\"outlinewidth\":0,\"ticks\":\"\"}}}],\"scatterpolar\":[{\"type\":\"scatterpolar\",\"marker\":{\"colorbar\":{\"outlinewidth\":0,\"ticks\":\"\"}}}],\"histogram\":[{\"marker\":{\"pattern\":{\"fillmode\":\"overlay\",\"size\":10,\"solidity\":0.2}},\"type\":\"histogram\"}],\"scattergl\":[{\"type\":\"scattergl\",\"marker\":{\"colorbar\":{\"outlinewidth\":0,\"ticks\":\"\"}}}],\"scatter3d\":[{\"type\":\"scatter3d\",\"line\":{\"colorbar\":{\"outlinewidth\":0,\"ticks\":\"\"}},\"marker\":{\"colorbar\":{\"outlinewidth\":0,\"ticks\":\"\"}}}],\"scattermapbox\":[{\"type\":\"scattermapbox\",\"marker\":{\"colorbar\":{\"outlinewidth\":0,\"ticks\":\"\"}}}],\"scatterternary\":[{\"type\":\"scatterternary\",\"marker\":{\"colorbar\":{\"outlinewidth\":0,\"ticks\":\"\"}}}],\"scattercarpet\":[{\"type\":\"scattercarpet\",\"marker\":{\"colorbar\":{\"outlinewidth\":0,\"ticks\":\"\"}}}],\"carpet\":[{\"aaxis\":{\"endlinecolor\":\"#2a3f5f\",\"gridcolor\":\"white\",\"linecolor\":\"white\",\"minorgridcolor\":\"white\",\"startlinecolor\":\"#2a3f5f\"},\"baxis\":{\"endlinecolor\":\"#2a3f5f\",\"gridcolor\":\"white\",\"linecolor\":\"white\",\"minorgridcolor\":\"white\",\"startlinecolor\":\"#2a3f5f\"},\"type\":\"carpet\"}],\"table\":[{\"cells\":{\"fill\":{\"color\":\"#EBF0F8\"},\"line\":{\"color\":\"white\"}},\"header\":{\"fill\":{\"color\":\"#C8D4E3\"},\"line\":{\"color\":\"white\"}},\"type\":\"table\"}],\"barpolar\":[{\"marker\":{\"line\":{\"color\":\"#E5ECF6\",\"width\":0.5},\"pattern\":{\"fillmode\":\"overlay\",\"size\":10,\"solidity\":0.2}},\"type\":\"barpolar\"}],\"pie\":[{\"automargin\":true,\"type\":\"pie\"}]},\"layout\":{\"autotypenumbers\":\"strict\",\"colorway\":[\"#636efa\",\"#EF553B\",\"#00cc96\",\"#ab63fa\",\"#FFA15A\",\"#19d3f3\",\"#FF6692\",\"#B6E880\",\"#FF97FF\",\"#FECB52\"],\"font\":{\"color\":\"#2a3f5f\"},\"hovermode\":\"closest\",\"hoverlabel\":{\"align\":\"left\"},\"paper_bgcolor\":\"white\",\"plot_bgcolor\":\"#E5ECF6\",\"polar\":{\"bgcolor\":\"#E5ECF6\",\"angularaxis\":{\"gridcolor\":\"white\",\"linecolor\":\"white\",\"ticks\":\"\"},\"radialaxis\":{\"gridcolor\":\"white\",\"linecolor\":\"white\",\"ticks\":\"\"}},\"ternary\":{\"bgcolor\":\"#E5ECF6\",\"aaxis\":{\"gridcolor\":\"white\",\"linecolor\":\"white\",\"ticks\":\"\"},\"baxis\":{\"gridcolor\":\"white\",\"linecolor\":\"white\",\"ticks\":\"\"},\"caxis\":{\"gridcolor\":\"white\",\"linecolor\":\"white\",\"ticks\":\"\"}},\"coloraxis\":{\"colorbar\":{\"outlinewidth\":0,\"ticks\":\"\"}},\"colorscale\":{\"sequential\":[[0.0,\"#0d0887\"],[0.1111111111111111,\"#46039f\"],[0.2222222222222222,\"#7201a8\"],[0.3333333333333333,\"#9c179e\"],[0.4444444444444444,\"#bd3786\"],[0.5555555555555556,\"#d8576b\"],[0.6666666666666666,\"#ed7953\"],[0.7777777777777778,\"#fb9f3a\"],[0.8888888888888888,\"#fdca26\"],[1.0,\"#f0f921\"]],\"sequentialminus\":[[0.0,\"#0d0887\"],[0.1111111111111111,\"#46039f\"],[0.2222222222222222,\"#7201a8\"],[0.3333333333333333,\"#9c179e\"],[0.4444444444444444,\"#bd3786\"],[0.5555555555555556,\"#d8576b\"],[0.6666666666666666,\"#ed7953\"],[0.7777777777777778,\"#fb9f3a\"],[0.8888888888888888,\"#fdca26\"],[1.0,\"#f0f921\"]],\"diverging\":[[0,\"#8e0152\"],[0.1,\"#c51b7d\"],[0.2,\"#de77ae\"],[0.3,\"#f1b6da\"],[0.4,\"#fde0ef\"],[0.5,\"#f7f7f7\"],[0.6,\"#e6f5d0\"],[0.7,\"#b8e186\"],[0.8,\"#7fbc41\"],[0.9,\"#4d9221\"],[1,\"#276419\"]]},\"xaxis\":{\"gridcolor\":\"white\",\"linecolor\":\"white\",\"ticks\":\"\",\"title\":{\"standoff\":15},\"zerolinecolor\":\"white\",\"automargin\":true,\"zerolinewidth\":2},\"yaxis\":{\"gridcolor\":\"white\",\"linecolor\":\"white\",\"ticks\":\"\",\"title\":{\"standoff\":15},\"zerolinecolor\":\"white\",\"automargin\":true,\"zerolinewidth\":2},\"scene\":{\"xaxis\":{\"backgroundcolor\":\"#E5ECF6\",\"gridcolor\":\"white\",\"linecolor\":\"white\",\"showbackground\":true,\"ticks\":\"\",\"zerolinecolor\":\"white\",\"gridwidth\":2},\"yaxis\":{\"backgroundcolor\":\"#E5ECF6\",\"gridcolor\":\"white\",\"linecolor\":\"white\",\"showbackground\":true,\"ticks\":\"\",\"zerolinecolor\":\"white\",\"gridwidth\":2},\"zaxis\":{\"backgroundcolor\":\"#E5ECF6\",\"gridcolor\":\"white\",\"linecolor\":\"white\",\"showbackground\":true,\"ticks\":\"\",\"zerolinecolor\":\"white\",\"gridwidth\":2}},\"shapedefaults\":{\"line\":{\"color\":\"#2a3f5f\"}},\"annotationdefaults\":{\"arrowcolor\":\"#2a3f5f\",\"arrowhead\":0,\"arrowwidth\":1},\"geo\":{\"bgcolor\":\"white\",\"landcolor\":\"#E5ECF6\",\"subunitcolor\":\"white\",\"showland\":true,\"showlakes\":true,\"lakecolor\":\"white\"},\"title\":{\"x\":0.05},\"mapbox\":{\"style\":\"light\"}}},\"xaxis\":{\"anchor\":\"y\",\"domain\":[0.0,1.0],\"title\":{\"text\":\"Bill\"}},\"yaxis\":{\"anchor\":\"x\",\"domain\":[0.0,1.0],\"title\":{\"text\":\"Tip\"}},\"legend\":{\"title\":{\"text\":\"Day\"},\"tracegroupgap\":0,\"itemsizing\":\"constant\"},\"margin\":{\"t\":60}},                        {\"responsive\": true}                    ).then(function(){\n",
       "                            \n",
       "var gd = document.getElementById('0398d187-8358-409c-b8a0-cc68b61a47bf');\n",
       "var x = new MutationObserver(function (mutations, observer) {{\n",
       "        var display = window.getComputedStyle(gd).display;\n",
       "        if (!display || display === 'none') {{\n",
       "            console.log([gd, 'removed!']);\n",
       "            Plotly.purge(gd);\n",
       "            observer.disconnect();\n",
       "        }}\n",
       "}});\n",
       "\n",
       "// Listen for the removal of the full notebook cells\n",
       "var notebookContainer = gd.closest('#notebook-container');\n",
       "if (notebookContainer) {{\n",
       "    x.observe(notebookContainer, {childList: true});\n",
       "}}\n",
       "\n",
       "// Listen for the clearing of the current output cell\n",
       "var outputEl = gd.closest('.output');\n",
       "if (outputEl) {{\n",
       "    x.observe(outputEl, {childList: true});\n",
       "}}\n",
       "\n",
       "                        })                };                });            </script>        </div>"
      ]
     },
     "metadata": {},
     "output_type": "display_data"
    },
    {
     "name": "stdout",
     "output_type": "stream",
     "text": [
      "The average percentage tips per person is: 9.22484076433121\n",
      "count    157.000000\n",
      "mean       9.224841\n",
      "std        4.413378\n",
      "min        2.500000\n",
      "25%        6.400000\n",
      "50%        8.000000\n",
      "75%       10.200000\n",
      "max       24.700000\n",
      "Name: PctTips_Guest, dtype: float64\n",
      "\n",
      " \n",
      " Dataset 2\n",
      "Days Recorded : \n",
      " Sat     87\n",
      "Sun     76\n",
      "Thur    62\n",
      "Fri     19\n",
      "Name: Day, dtype: int64\n"
     ]
    },
    {
     "data": {
      "text/html": [
       "<div>\n",
       "<style scoped>\n",
       "    .dataframe tbody tr th:only-of-type {\n",
       "        vertical-align: middle;\n",
       "    }\n",
       "\n",
       "    .dataframe tbody tr th {\n",
       "        vertical-align: top;\n",
       "    }\n",
       "\n",
       "    .dataframe thead th {\n",
       "        text-align: right;\n",
       "    }\n",
       "</style>\n",
       "<table border=\"1\" class=\"dataframe\">\n",
       "  <thead>\n",
       "    <tr style=\"text-align: right;\">\n",
       "      <th></th>\n",
       "      <th>Bill</th>\n",
       "      <th>Tip</th>\n",
       "      <th>Day</th>\n",
       "      <th>Guests</th>\n",
       "      <th>PctTip</th>\n",
       "      <th>PctTips_Guest</th>\n",
       "    </tr>\n",
       "  </thead>\n",
       "  <tbody>\n",
       "    <tr>\n",
       "      <th>121</th>\n",
       "      <td>13.42</td>\n",
       "      <td>1.68</td>\n",
       "      <td>Thur</td>\n",
       "      <td>2</td>\n",
       "      <td>12.5</td>\n",
       "      <td>6.2</td>\n",
       "    </tr>\n",
       "    <tr>\n",
       "      <th>133</th>\n",
       "      <td>12.26</td>\n",
       "      <td>2.00</td>\n",
       "      <td>Thur</td>\n",
       "      <td>2</td>\n",
       "      <td>16.3</td>\n",
       "      <td>8.2</td>\n",
       "    </tr>\n",
       "    <tr>\n",
       "      <th>132</th>\n",
       "      <td>11.17</td>\n",
       "      <td>1.50</td>\n",
       "      <td>Thur</td>\n",
       "      <td>2</td>\n",
       "      <td>13.4</td>\n",
       "      <td>6.7</td>\n",
       "    </tr>\n",
       "    <tr>\n",
       "      <th>131</th>\n",
       "      <td>20.27</td>\n",
       "      <td>2.83</td>\n",
       "      <td>Thur</td>\n",
       "      <td>2</td>\n",
       "      <td>14.0</td>\n",
       "      <td>7.0</td>\n",
       "    </tr>\n",
       "    <tr>\n",
       "      <th>130</th>\n",
       "      <td>19.08</td>\n",
       "      <td>1.50</td>\n",
       "      <td>Thur</td>\n",
       "      <td>2</td>\n",
       "      <td>7.9</td>\n",
       "      <td>4.0</td>\n",
       "    </tr>\n",
       "  </tbody>\n",
       "</table>\n",
       "</div>"
      ],
      "text/plain": [
       "      Bill   Tip   Day  Guests  PctTip  PctTips_Guest\n",
       "121  13.42  1.68  Thur       2    12.5            6.2\n",
       "133  12.26  2.00  Thur       2    16.3            8.2\n",
       "132  11.17  1.50  Thur       2    13.4            6.7\n",
       "131  20.27  2.83  Thur       2    14.0            7.0\n",
       "130  19.08  1.50  Thur       2     7.9            4.0"
      ]
     },
     "metadata": {},
     "output_type": "display_data"
    },
    {
     "name": "stdout",
     "output_type": "stream",
     "text": [
      "Day\n",
      "Thur    16.127419\n",
      "Fri     17.000000\n",
      "Sat     15.314943\n",
      "Sun     16.692105\n",
      "Name: PctTip, dtype: float64\n"
     ]
    },
    {
     "data": {
      "image/png": "[encoded data removed]",
      "text/plain": [
       "<Figure size 640x480 with 1 Axes>"
      ]
     },
     "metadata": {},
     "output_type": "display_data"
    },
    {
     "data": {
      "application/vnd.plotly.v1+json": {
       "config": {
        "plotlyServerURL": "https://plot.ly"
       },
       "data": [
        {
         "hovertemplate": "Day=Thur<br>Bill=%{x}<br>Tip=%{y}<br>Guests=%{marker.size}<extra></extra>",
         "legendgroup": "Thur",
         "marker": {
          "color": "#636efa",
          "size": [
           2,
           2,
           2,
           2,
           2,
           3,
           2,
           2,
           2,
           6,
           2,
           2,
           2,
           2,
           4,
           2,
           2,
           2,
           2,
           2,
           2,
           4,
           2,
           2,
           1,
           2,
           2,
           2,
           2,
           2,
           2,
           2,
           3,
           4,
           2,
           2,
           2,
           3,
           2,
           2,
           4,
           2,
           2,
           2,
           2,
           2,
           2,
           2,
           2,
           2,
           3,
           2,
           2,
           6,
           5,
           6,
           2,
           2,
           2,
           2,
           4,
           2
          ],
          "sizemode": "area",
          "sizeref": 0.015,
          "symbol": "circle"
         },
         "mode": "markers",
         "name": "Thur",
         "orientation": "v",
         "showlegend": true,
         "type": "scatter",
         "x": [
          13.42,
          12.26,
          11.17,
          20.27,
          19.08,
          22.82,
          11.38,
          14.52,
          8.52,
          29.8,
          12.48,
          15.95,
          14.26,
          11.69,
          24.08,
          12.43,
          10.65,
          21.16,
          24.71,
          18.28,
          13.03,
          34.83,
          15.98,
          32.68,
          10.07,
          16.66,
          19.44,
          17.29,
          18.26,
          22.76,
          8.51,
          14.15,
          16.47,
          20.53,
          16.4,
          13,
          12.74,
          18.71,
          13.51,
          13,
          43.11,
          10.34,
          7.56,
          16.58,
          15.48,
          28.44,
          19.81,
          7.51,
          9.78,
          11.87,
          18.64,
          8.35,
          16.43,
          27.05,
          41.19,
          34.3,
          17.47,
          13.16,
          16,
          10.33,
          27.2,
          18.78
         ],
         "xaxis": "x",
         "y": [
          1.68,
          2,
          1.5,
          2.83,
          1.5,
          2.18,
          2,
          2,
          1.48,
          4.2,
          2.52,
          2,
          2.5,
          2.31,
          2.92,
          1.8,
          1.5,
          3,
          5.85,
          4,
          2,
          5.17,
          2.03,
          5,
          1.83,
          3.4,
          3,
          2.71,
          3.25,
          3,
          1.25,
          2,
          3.23,
          4,
          2.5,
          2,
          2.01,
          4,
          2,
          2,
          5,
          2,
          1.44,
          4,
          2.02,
          2.56,
          4.19,
          2,
          1.73,
          1.63,
          1.36,
          1.5,
          2.3,
          5,
          5,
          6.7,
          3.5,
          2.75,
          2,
          2,
          4,
          3
         ],
         "yaxis": "y"
        },
        {
         "hovertemplate": "<b>OLS trendline</b><br>Tip = 0.127764 * Bill + 0.512242<br>R<sup>2</sup>=0.660004<br><br>Day=Thur<br>Bill=%{x}<br>Tip=%{y} <b>(trend)</b><extra></extra>",
         "legendgroup": "Thur",
         "marker": {
          "color": "#636efa",
          "symbol": "circle"
         },
         "mode": "lines",
         "name": "Thur",
         "showlegend": false,
         "type": "scatter",
         "x": [
          7.51,
          7.56,
          8.35,
          8.51,
          8.52,
          9.78,
          10.07,
          10.33,
          10.34,
          10.65,
          11.17,
          11.38,
          11.69,
          11.87,
          12.26,
          12.43,
          12.48,
          12.74,
          13,
          13,
          13.03,
          13.16,
          13.42,
          13.51,
          14.15,
          14.26,
          14.52,
          15.48,
          15.95,
          15.98,
          16,
          16.4,
          16.43,
          16.47,
          16.58,
          16.66,
          17.29,
          17.47,
          18.26,
          18.28,
          18.64,
          18.71,
          18.78,
          19.08,
          19.44,
          19.81,
          20.27,
          20.53,
          21.16,
          22.76,
          22.82,
          24.08,
          24.71,
          27.05,
          27.2,
          28.44,
          29.8,
          32.68,
          34.3,
          34.83,
          41.19,
          43.11
         ],
         "xaxis": "x",
         "y": [
          1.4717459505375865,
          1.4781341282315084,
          1.5790673357954743,
          1.5995095044160244,
          1.600787139954809,
          1.7617692178416409,
          1.7988206484663878,
          1.832039172474782,
          1.8333168080135662,
          1.872923509715882,
          1.9393605577326696,
          1.9661909040471417,
          2.0057976057494575,
          2.028795045447576,
          2.078622831460167,
          2.1003426356195014,
          2.1067308133134235,
          2.1399493373218172,
          2.1731678613302114,
          2.1731678613302114,
          2.177000767946564,
          2.1936100299507615,
          2.2268285539591552,
          2.2383272738082147,
          2.320095948290415,
          2.3341499392170433,
          2.367368463225437,
          2.4900214749487377,
          2.550070345271603,
          2.5539032518879563,
          2.5564585229655252,
          2.6075639445169,
          2.6113968511332537,
          2.616507393288391,
          2.630561384215019,
          2.6407824685252943,
          2.72127350746871,
          2.744270947166829,
          2.845204154730795,
          2.847759425808364,
          2.8937543052046015,
          2.9026977539760925,
          2.911641202747583,
          2.9499702689111142,
          2.995965148307352,
          3.043237663242374,
          3.1020088980264555,
          3.1352274220348497,
          3.2157184609782656,
          3.4201401471837665,
          3.4278059604164723,
          3.588788038303304,
          3.6692790772467205,
          3.9682457933222652,
          3.987410326404031,
          4.145837133213295,
          4.31959556648797,
          4.6875546016578715,
          4.89453155894094,
          4.962246242496513,
          5.7748224451633785,
          6.02012846860998
         ],
         "yaxis": "y"
        },
        {
         "hovertemplate": "Day=Fri<br>Bill=%{x}<br>Tip=%{y}<br>Guests=%{marker.size}<extra></extra>",
         "legendgroup": "Fri",
         "marker": {
          "color": "#EF553B",
          "size": [
           1,
           2,
           2,
           2,
           2,
           2,
           4,
           2,
           2,
           2,
           2,
           2,
           2,
           3,
           2,
           2,
           2,
           2,
           2
          ],
          "sizemode": "area",
          "sizeref": 0.015,
          "symbol": "circle"
         },
         "mode": "markers",
         "name": "Fri",
         "orientation": "v",
         "showlegend": true,
         "type": "scatter",
         "x": [
          8.58,
          28.97,
          16.27,
          5.75,
          16.32,
          22.75,
          40.17,
          13.42,
          27.28,
          21.01,
          12.46,
          11.35,
          15.38,
          15.98,
          10.09,
          12.03,
          12.16,
          22.49,
          13.42
         ],
         "xaxis": "x",
         "y": [
          1.92,
          3,
          2.5,
          1,
          4.3,
          3.25,
          4.73,
          3.48,
          4,
          3,
          1.5,
          2.5,
          3,
          3,
          2,
          1.5,
          2.2,
          3.5,
          1.58
         ],
         "yaxis": "y"
        },
        {
         "hovertemplate": "<b>OLS trendline</b><br>Tip = 0.0947944 * Bill + 1.10886<br>R<sup>2</sup>=0.595882<br><br>Day=Fri<br>Bill=%{x}<br>Tip=%{y} <b>(trend)</b><extra></extra>",
         "legendgroup": "Fri",
         "marker": {
          "color": "#EF553B",
          "symbol": "circle"
         },
         "mode": "lines",
         "name": "Fri",
         "showlegend": false,
         "type": "scatter",
         "x": [
          5.75,
          8.58,
          10.09,
          11.35,
          12.03,
          12.16,
          12.46,
          13.42,
          13.42,
          15.38,
          15.98,
          16.27,
          16.32,
          21.01,
          22.49,
          22.75,
          27.28,
          28.97,
          40.17
         ],
         "xaxis": "x",
         "y": [
          1.6539304698505815,
          1.9221987551117836,
          2.0653383702158172,
          2.18477937354766,
          2.2492395975680193,
          2.2615628756895587,
          2.290001209816188,
          2.3810038790214016,
          2.3810038790214016,
          2.566800995315379,
          2.6236776635686376,
          2.651168053224379,
          2.655907775578817,
          3.1004937324251207,
          3.240789514116491,
          3.26543607035957,
          3.6948549156716712,
          3.855057531251683,
          4.9167553386458405
         ],
         "yaxis": "y"
        },
        {
         "hovertemplate": "Day=Sat<br>Bill=%{x}<br>Tip=%{y}<br>Guests=%{marker.size}<extra></extra>",
         "legendgroup": "Sat",
         "marker": {
          "color": "#00cc96",
          "size": [
           2,
           2,
           2,
           2,
           2,
           4,
           2,
           4,
           2,
           3,
           3,
           3,
           3,
           3,
           3,
           3,
           2,
           4,
           2,
           2,
           3,
           4,
           2,
           5,
           3,
           2,
           2,
           2,
           4,
           2,
           2,
           3,
           2,
           4,
           4,
           3,
           2,
           2,
           4,
           2,
           2,
           2,
           4,
           2,
           4,
           2,
           2,
           4,
           2,
           2,
           2,
           2,
           2,
           2,
           3,
           2,
           2,
           2,
           1,
           2,
           3,
           3,
           4,
           2,
           3,
           2,
           2,
           2,
           2,
           4,
           3,
           3,
           2,
           1,
           2,
           2,
           2,
           2,
           2,
           2,
           2,
           2,
           3,
           2,
           2,
           2,
           2
          ],
          "sizemode": "area",
          "sizeref": 0.015,
          "symbol": "circle"
         },
         "mode": "markers",
         "name": "Sat",
         "orientation": "v",
         "showlegend": true,
         "type": "scatter",
         "x": [
          13.37,
          12.69,
          21.7,
          19.65,
          9.55,
          18.35,
          15.06,
          20.69,
          17.78,
          24.06,
          16.31,
          16.93,
          18.69,
          31.27,
          16.04,
          50.81,
          15.81,
          17.81,
          10.63,
          7.74,
          26.59,
          30.14,
          13.81,
          28.15,
          20.65,
          17.92,
          20.29,
          15.77,
          39.42,
          11.59,
          19.82,
          28.17,
          13.27,
          48.33,
          25.89,
          30.06,
          12.76,
          24.27,
          38.73,
          12.9,
          10.59,
          11.02,
          20.45,
          22.67,
          38.01,
          26.41,
          11.24,
          48.27,
          20.29,
          17.82,
          10.51,
          14.73,
          27.18,
          25.28,
          17.07,
          12.02,
          15.01,
          20.23,
          3.07,
          16.45,
          20.08,
          17.59,
          18.29,
          26.86,
          29.03,
          17.92,
          32.83,
          13.28,
          22.12,
          24.01,
          35.83,
          15.69,
          11.61,
          7.25,
          14,
          14.31,
          10.77,
          25.21,
          12.6,
          10.07,
          15.53,
          18.24,
          44.3,
          20.92,
          15.36,
          20.49,
          22.42
         ],
         "xaxis": "x",
         "y": [
          2,
          2,
          4.3,
          3,
          1.45,
          2.5,
          3,
          2.45,
          3.27,
          3.6,
          2,
          3.07,
          2.31,
          5,
          2.24,
          10,
          3.16,
          2.34,
          2,
          1.44,
          3.41,
          3.09,
          2,
          3,
          3.35,
          4.08,
          2.75,
          2.23,
          7.58,
          1.5,
          3.18,
          6.5,
          2.5,
          9,
          5.16,
          2,
          2.23,
          2.03,
          3,
          1.1,
          1.61,
          1.98,
          3,
          2,
          3,
          1.5,
          1.76,
          6.73,
          3.21,
          1.75,
          1.25,
          2.2,
          2,
          5,
          3,
          1.97,
          2.09,
          2.01,
          1,
          2.47,
          3.15,
          2.64,
          3.76,
          3.14,
          5.92,
          3.08,
          1.17,
          2.72,
          2.88,
          2,
          4.67,
          3,
          3.39,
          1,
          3,
          4,
          1.47,
          4.29,
          1,
          1.25,
          3,
          3.76,
          2.5,
          4.08,
          1.64,
          4.06,
          3.48
         ],
         "yaxis": "y"
        },
        {
         "hovertemplate": "<b>OLS trendline</b><br>Tip = 0.121053 * Bill + 0.518611<br>R<sup>2</sup>=0.495098<br><br>Day=Sat<br>Bill=%{x}<br>Tip=%{y} <b>(trend)</b><extra></extra>",
         "legendgroup": "Sat",
         "marker": {
          "color": "#00cc96",
          "symbol": "circle"
         },
         "mode": "lines",
         "name": "Sat",
         "showlegend": false,
         "type": "scatter",
         "x": [
          3.07,
          7.25,
          7.74,
          9.55,
          10.07,
          10.51,
          10.59,
          10.63,
          10.77,
          11.02,
          11.24,
          11.59,
          11.61,
          12.02,
          12.6,
          12.69,
          12.76,
          12.9,
          13.27,
          13.28,
          13.37,
          13.81,
          14,
          14.31,
          14.73,
          15.01,
          15.06,
          15.36,
          15.53,
          15.69,
          15.77,
          15.81,
          16.04,
          16.31,
          16.45,
          16.93,
          17.07,
          17.59,
          17.78,
          17.81,
          17.82,
          17.92,
          17.92,
          18.24,
          18.29,
          18.35,
          18.69,
          19.65,
          19.82,
          20.08,
          20.23,
          20.29,
          20.29,
          20.45,
          20.49,
          20.65,
          20.69,
          20.92,
          21.7,
          22.12,
          22.42,
          22.67,
          24.01,
          24.06,
          24.27,
          25.21,
          25.28,
          25.89,
          26.41,
          26.59,
          26.86,
          27.18,
          28.15,
          28.17,
          29.03,
          30.06,
          30.14,
          31.27,
          32.83,
          35.83,
          38.01,
          38.73,
          39.42,
          44.3,
          48.27,
          48.33,
          50.81
         ],
         "xaxis": "x",
         "y": [
          0.8902441135096938,
          1.396246075834475,
          1.455562095341447,
          1.6746682082141393,
          1.7376158207521506,
          1.7908791852073906,
          1.8005634332901614,
          1.805405557331547,
          1.822352991476396,
          1.8526162667350552,
          1.8792479489626754,
          1.921616534324798,
          1.9240375963454905,
          1.9736693677696917,
          2.043880166369781,
          2.0547749454628983,
          2.063248662535323,
          2.0801960966801722,
          2.124985744062988,
          2.126196275073334,
          2.137091054166451,
          2.1903544186216917,
          2.2133545078182726,
          2.25088096913901,
          2.3017232715735574,
          2.3356181398632554,
          2.3416707949149873,
          2.3779867252253784,
          2.3985657524012662,
          2.4179342485668083,
          2.427618496649579,
          2.4324606206909647,
          2.4603028339289312,
          2.492987171208283,
          2.509934605353132,
          2.5680400938497576,
          2.584987527994607,
          2.647935140532618,
          2.670935229729199,
          2.6745668227602377,
          2.6757773537705845,
          2.6878826638740483,
          2.6878826638740483,
          2.7266196562051315,
          2.7326723112568634,
          2.739935497318942,
          2.7810935516707183,
          2.897304528663969,
          2.9178835558398575,
          2.949357362108863,
          2.9675153272640586,
          2.974778513326137,
          2.974778513326137,
          2.9941470094916784,
          2.998989133533064,
          3.0183576296986057,
          3.0231997537399917,
          3.0510419669779583,
          3.1454633857849745,
          3.196305688219522,
          3.232621618529913,
          3.262884893788572,
          3.4250960491749853,
          3.431148704226717,
          3.4565698554439908,
          3.570359770416549,
          3.578833487488974,
          3.652675879120102,
          3.7156234916581132,
          3.737413049844348,
          3.7700973871236996,
          3.808834379454783,
          3.926255887458381,
          3.928676949479074,
          4.032782616368862,
          4.157467310434537,
          4.1671515585173085,
          4.303941562686448,
          4.49278440030048,
          4.855943703404391,
          5.119839463659899,
          5.206997696404836,
          5.290524336118737,
          5.881263469167763,
          6.361844280275271,
          6.369107466337349,
          6.669319156903248
         ],
         "yaxis": "y"
        },
        {
         "hovertemplate": "Day=Sun<br>Bill=%{x}<br>Tip=%{y}<br>Guests=%{marker.size}<extra></extra>",
         "legendgroup": "Sun",
         "marker": {
          "color": "#ab63fa",
          "size": [
           3,
           2,
           2,
           4,
           2,
           4,
           2,
           2,
           2,
           2,
           4,
           2,
           4,
           3,
           4,
           3,
           3,
           2,
           5,
           3,
           5,
           2,
           3,
           3,
           3,
           2,
           2,
           2,
           4,
           2,
           2,
           4,
           2,
           4,
           3,
           2,
           3,
           3,
           2,
           2,
           2,
           4,
           2,
           4,
           2,
           2,
           4,
           4,
           5,
           2,
           4,
           3,
           2,
           4,
           2,
           2,
           2,
           2,
           2,
           2,
           2,
           2,
           4,
           2,
           3,
           2,
           2,
           3,
           2,
           4,
           4,
           2,
           4,
           6,
           3,
           2
          ],
          "sizemode": "area",
          "sizeref": 0.015,
          "symbol": "circle"
         },
         "mode": "markers",
         "name": "Sun",
         "orientation": "v",
         "showlegend": true,
         "type": "scatter",
         "x": [
          23.1,
          15.69,
          21.58,
          35.26,
          14.83,
          18.43,
          15.42,
          10.27,
          23.68,
          15.04,
          26.88,
          8.77,
          25.29,
          18.15,
          24.59,
          21.01,
          10.34,
          14.78,
          30.46,
          17.26,
          20.69,
          14.07,
          10.33,
          16.29,
          16.97,
          17.46,
          13.94,
          9.68,
          30.4,
          18.29,
          22.23,
          32.4,
          13.13,
          29.93,
          25.71,
          23.95,
          38.07,
          28.55,
          18.04,
          12.54,
          10.29,
          34.81,
          9.94,
          25.56,
          19.49,
          17.31,
          24.55,
          19.77,
          29.85,
          40.55,
          23.17,
          45.35,
          23.33,
          34.65,
          34.63,
          9.6,
          14.48,
          17.89,
          32.9,
          16.82,
          31.85,
          7.25,
          31.71,
          20.76,
          24.52,
          17.51,
          13.81,
          16.21,
          12.66,
          21.5,
          16.49,
          13.39,
          25,
          48.17,
          20.9,
          16.99
         ],
         "xaxis": "x",
         "y": [
          4,
          1.5,
          3.92,
          5,
          3.02,
          3,
          1.57,
          1.71,
          3.31,
          1.96,
          3.12,
          2,
          4.71,
          3.5,
          3.61,
          3.5,
          1.66,
          3.23,
          2,
          2.74,
          5,
          2.5,
          1.67,
          3.71,
          3.5,
          2.54,
          3.06,
          1.32,
          5.6,
          3,
          5,
          6,
          2,
          5.07,
          4,
          2.55,
          4,
          2.05,
          3,
          2.5,
          2.6,
          5.2,
          1.56,
          4.34,
          3.51,
          3.5,
          2,
          2,
          5.14,
          3,
          6.5,
          3.5,
          5.65,
          3.68,
          3.55,
          4,
          2,
          2,
          3.11,
          4,
          3.18,
          5.15,
          4.5,
          2.24,
          3.48,
          3,
          2,
          2,
          2.5,
          3.5,
          2,
          2.61,
          3.75,
          5,
          3.5,
          1.01
         ],
         "yaxis": "y"
        },
        {
         "hovertemplate": "<b>OLS trendline</b><br>Tip = 0.0701535 * Bill + 1.75314<br>R<sup>2</sup>=0.251756<br><br>Day=Sun<br>Bill=%{x}<br>Tip=%{y} <b>(trend)</b><extra></extra>",
         "legendgroup": "Sun",
         "marker": {
          "color": "#ab63fa",
          "symbol": "circle"
         },
         "mode": "lines",
         "name": "Sun",
         "showlegend": false,
         "type": "scatter",
         "x": [
          7.25,
          8.77,
          9.6,
          9.68,
          9.94,
          10.27,
          10.29,
          10.33,
          10.34,
          12.54,
          12.66,
          13.13,
          13.39,
          13.81,
          13.94,
          14.07,
          14.48,
          14.78,
          14.83,
          15.04,
          15.42,
          15.69,
          16.21,
          16.29,
          16.49,
          16.82,
          16.97,
          16.99,
          17.26,
          17.31,
          17.46,
          17.51,
          17.89,
          18.04,
          18.15,
          18.29,
          18.43,
          19.49,
          19.77,
          20.69,
          20.76,
          20.9,
          21.01,
          21.5,
          21.58,
          22.23,
          23.1,
          23.17,
          23.33,
          23.68,
          23.95,
          24.52,
          24.55,
          24.59,
          25,
          25.29,
          25.56,
          25.71,
          26.88,
          28.55,
          29.85,
          29.93,
          30.4,
          30.46,
          31.71,
          31.85,
          32.4,
          32.9,
          34.63,
          34.65,
          34.81,
          35.26,
          38.07,
          40.55,
          45.35,
          48.17
         ],
         "xaxis": "x",
         "y": [
          2.2617575891083836,
          2.368390955249292,
          2.426618385444656,
          2.4322306678731245,
          2.4504705857656486,
          2.4736212507830824,
          2.4750243213901997,
          2.477830462604434,
          2.4785319979079925,
          2.6328697646908856,
          2.641288188333589,
          2.6742603476008435,
          2.6925002654933667,
          2.7219647482428284,
          2.73108470718909,
          2.740204666135352,
          2.768967613581255,
          2.790013672688013,
          2.7935213492058057,
          2.8082535905805366,
          2.8349119321157636,
          2.853853385311846,
          2.8903332210968937,
          2.895945503525362,
          2.9099762095965342,
          2.9331268746139685,
          2.943649904167347,
          2.9450529747744643,
          2.963994427970547,
          2.96750210448834,
          2.9780251340417188,
          2.981532810559512,
          3.0081911520947386,
          3.018714181648118,
          3.0264310699872627,
          3.036252564237083,
          3.0460740584869033,
          3.120436800664115,
          3.1400797891637566,
          3.2046210370911483,
          3.2095317842160584,
          3.2193532784658787,
          3.2270701668050235,
          3.2614453966793953,
          3.2670576791078636,
          3.312657473839173,
          3.373691045248772,
          3.378601792373682,
          3.3898263572306195,
          3.414380092855171,
          3.433321546051253,
          3.4733090583540935,
          3.4754136642647695,
          3.4782198054790037,
          3.5069827529249062,
          3.527327276728106,
          3.546268729924188,
          3.5567917594775675,
          3.6388713899939242,
          3.756027785688211,
          3.8472273751508297,
          3.8528396575792985,
          3.885811816846553,
          3.8900210286679044,
          3.97771294161273,
          3.9875344358625506,
          4.0261188775582735,
          4.0611956427362035,
          4.182561250251842,
          4.183964320858959,
          4.195188885715897,
          4.226757974376035,
          4.423889394676003,
          4.597870149958537,
          4.934607095666666,
          5.132440051270192
         ],
         "yaxis": "y"
        }
       ],
       "layout": {
        "autosize": true,
        "legend": {
         "itemsizing": "constant",
         "title": {
          "text": "Day"
         },
         "tracegroupgap": 0
        },
        "margin": {
         "t": 60
        },
        "template": {
         "data": {
          "bar": [
           {
            "error_x": {
             "color": "#2a3f5f"
            },
            "error_y": {
             "color": "#2a3f5f"
            },
            "marker": {
             "line": {
              "color": "#E5ECF6",
              "width": 0.5
             },
             "pattern": {
              "fillmode": "overlay",
              "size": 10,
              "solidity": 0.2
             }
            },
            "type": "bar"
           }
          ],
          "barpolar": [
           {
            "marker": {
             "line": {
              "color": "#E5ECF6",
              "width": 0.5
             },
             "pattern": {
              "fillmode": "overlay",
              "size": 10,
              "solidity": 0.2
             }
            },
            "type": "barpolar"
           }
          ],
          "carpet": [
           {
            "aaxis": {
             "endlinecolor": "#2a3f5f",
             "gridcolor": "white",
             "linecolor": "white",
             "minorgridcolor": "white",
             "startlinecolor": "#2a3f5f"
            },
            "baxis": {
             "endlinecolor": "#2a3f5f",
             "gridcolor": "white",
             "linecolor": "white",
             "minorgridcolor": "white",
             "startlinecolor": "#2a3f5f"
            },
            "type": "carpet"
           }
          ],
          "choropleth": [
           {
            "colorbar": {
             "outlinewidth": 0,
             "ticks": ""
            },
            "type": "choropleth"
           }
          ],
          "contour": [
           {
            "colorbar": {
             "outlinewidth": 0,
             "ticks": ""
            },
            "colorscale": [
             [
              0,
              "#0d0887"
             ],
             [
              0.1111111111111111,
              "#46039f"
             ],
             [
              0.2222222222222222,
              "#7201a8"
             ],
             [
              0.3333333333333333,
              "#9c179e"
             ],
             [
              0.4444444444444444,
              "#bd3786"
             ],
             [
              0.5555555555555556,
              "#d8576b"
             ],
             [
              0.6666666666666666,
              "#ed7953"
             ],
             [
              0.7777777777777778,
              "#fb9f3a"
             ],
             [
              0.8888888888888888,
              "#fdca26"
             ],
             [
              1,
              "#f0f921"
             ]
            ],
            "type": "contour"
           }
          ],
          "contourcarpet": [
           {
            "colorbar": {
             "outlinewidth": 0,
             "ticks": ""
            },
            "type": "contourcarpet"
           }
          ],
          "heatmap": [
           {
            "colorbar": {
             "outlinewidth": 0,
             "ticks": ""
            },
            "colorscale": [
             [
              0,
              "#0d0887"
             ],
             [
              0.1111111111111111,
              "#46039f"
             ],
             [
              0.2222222222222222,
              "#7201a8"
             ],
             [
              0.3333333333333333,
              "#9c179e"
             ],
             [
              0.4444444444444444,
              "#bd3786"
             ],
             [
              0.5555555555555556,
              "#d8576b"
             ],
             [
              0.6666666666666666,
              "#ed7953"
             ],
             [
              0.7777777777777778,
              "#fb9f3a"
             ],
             [
              0.8888888888888888,
              "#fdca26"
             ],
             [
              1,
              "#f0f921"
             ]
            ],
            "type": "heatmap"
           }
          ],
          "heatmapgl": [
           {
            "colorbar": {
             "outlinewidth": 0,
             "ticks": ""
            },
            "colorscale": [
             [
              0,
              "#0d0887"
             ],
             [
              0.1111111111111111,
              "#46039f"
             ],
             [
              0.2222222222222222,
              "#7201a8"
             ],
             [
              0.3333333333333333,
              "#9c179e"
             ],
             [
              0.4444444444444444,
              "#bd3786"
             ],
             [
              0.5555555555555556,
              "#d8576b"
             ],
             [
              0.6666666666666666,
              "#ed7953"
             ],
             [
              0.7777777777777778,
              "#fb9f3a"
             ],
             [
              0.8888888888888888,
              "#fdca26"
             ],
             [
              1,
              "#f0f921"
             ]
            ],
            "type": "heatmapgl"
           }
          ],
          "histogram": [
           {
            "marker": {
             "pattern": {
              "fillmode": "overlay",
              "size": 10,
              "solidity": 0.2
             }
            },
            "type": "histogram"
           }
          ],
          "histogram2d": [
           {
            "colorbar": {
             "outlinewidth": 0,
             "ticks": ""
            },
            "colorscale": [
             [
              0,
              "#0d0887"
             ],
             [
              0.1111111111111111,
              "#46039f"
             ],
             [
              0.2222222222222222,
              "#7201a8"
             ],
             [
              0.3333333333333333,
              "#9c179e"
             ],
             [
              0.4444444444444444,
              "#bd3786"
             ],
             [
              0.5555555555555556,
              "#d8576b"
             ],
             [
              0.6666666666666666,
              "#ed7953"
             ],
             [
              0.7777777777777778,
              "#fb9f3a"
             ],
             [
              0.8888888888888888,
              "#fdca26"
             ],
             [
              1,
              "#f0f921"
             ]
            ],
            "type": "histogram2d"
           }
          ],
          "histogram2dcontour": [
           {
            "colorbar": {
             "outlinewidth": 0,
             "ticks": ""
            },
            "colorscale": [
             [
              0,
              "#0d0887"
             ],
             [
              0.1111111111111111,
              "#46039f"
             ],
             [
              0.2222222222222222,
              "#7201a8"
             ],
             [
              0.3333333333333333,
              "#9c179e"
             ],
             [
              0.4444444444444444,
              "#bd3786"
             ],
             [
              0.5555555555555556,
              "#d8576b"
             ],
             [
              0.6666666666666666,
              "#ed7953"
             ],
             [
              0.7777777777777778,
              "#fb9f3a"
             ],
             [
              0.8888888888888888,
              "#fdca26"
             ],
             [
              1,
              "#f0f921"
             ]
            ],
            "type": "histogram2dcontour"
           }
          ],
          "mesh3d": [
           {
            "colorbar": {
             "outlinewidth": 0,
             "ticks": ""
            },
            "type": "mesh3d"
           }
          ],
          "parcoords": [
           {
            "line": {
             "colorbar": {
              "outlinewidth": 0,
              "ticks": ""
             }
            },
            "type": "parcoords"
           }
          ],
          "pie": [
           {
            "automargin": true,
            "type": "pie"
           }
          ],
          "scatter": [
           {
            "fillpattern": {
             "fillmode": "overlay",
             "size": 10,
             "solidity": 0.2
            },
            "type": "scatter"
           }
          ],
          "scatter3d": [
           {
            "line": {
             "colorbar": {
              "outlinewidth": 0,
              "ticks": ""
             }
            },
            "marker": {
             "colorbar": {
              "outlinewidth": 0,
              "ticks": ""
             }
            },
            "type": "scatter3d"
           }
          ],
          "scattercarpet": [
           {
            "marker": {
             "colorbar": {
              "outlinewidth": 0,
              "ticks": ""
             }
            },
            "type": "scattercarpet"
           }
          ],
          "scattergeo": [
           {
            "marker": {
             "colorbar": {
              "outlinewidth": 0,
              "ticks": ""
             }
            },
            "type": "scattergeo"
           }
          ],
          "scattergl": [
           {
            "marker": {
             "colorbar": {
              "outlinewidth": 0,
              "ticks": ""
             }
            },
            "type": "scattergl"
           }
          ],
          "scattermapbox": [
           {
            "marker": {
             "colorbar": {
              "outlinewidth": 0,
              "ticks": ""
             }
            },
            "type": "scattermapbox"
           }
          ],
          "scatterpolar": [
           {
            "marker": {
             "colorbar": {
              "outlinewidth": 0,
              "ticks": ""
             }
            },
            "type": "scatterpolar"
           }
          ],
          "scatterpolargl": [
           {
            "marker": {
             "colorbar": {
              "outlinewidth": 0,
              "ticks": ""
             }
            },
            "type": "scatterpolargl"
           }
          ],
          "scatterternary": [
           {
            "marker": {
             "colorbar": {
              "outlinewidth": 0,
              "ticks": ""
             }
            },
            "type": "scatterternary"
           }
          ],
          "surface": [
           {
            "colorbar": {
             "outlinewidth": 0,
             "ticks": ""
            },
            "colorscale": [
             [
              0,
              "#0d0887"
             ],
             [
              0.1111111111111111,
              "#46039f"
             ],
             [
              0.2222222222222222,
              "#7201a8"
             ],
             [
              0.3333333333333333,
              "#9c179e"
             ],
             [
              0.4444444444444444,
              "#bd3786"
             ],
             [
              0.5555555555555556,
              "#d8576b"
             ],
             [
              0.6666666666666666,
              "#ed7953"
             ],
             [
              0.7777777777777778,
              "#fb9f3a"
             ],
             [
              0.8888888888888888,
              "#fdca26"
             ],
             [
              1,
              "#f0f921"
             ]
            ],
            "type": "surface"
           }
          ],
          "table": [
           {
            "cells": {
             "fill": {
              "color": "#EBF0F8"
             },
             "line": {
              "color": "white"
             }
            },
            "header": {
             "fill": {
              "color": "#C8D4E3"
             },
             "line": {
              "color": "white"
             }
            },
            "type": "table"
           }
          ]
         },
         "layout": {
          "annotationdefaults": {
           "arrowcolor": "#2a3f5f",
           "arrowhead": 0,
           "arrowwidth": 1
          },
          "autotypenumbers": "strict",
          "coloraxis": {
           "colorbar": {
            "outlinewidth": 0,
            "ticks": ""
           }
          },
          "colorscale": {
           "diverging": [
            [
             0,
             "#8e0152"
            ],
            [
             0.1,
             "#c51b7d"
            ],
            [
             0.2,
             "#de77ae"
            ],
            [
             0.3,
             "#f1b6da"
            ],
            [
             0.4,
             "#fde0ef"
            ],
            [
             0.5,
             "#f7f7f7"
            ],
            [
             0.6,
             "#e6f5d0"
            ],
            [
             0.7,
             "#b8e186"
            ],
            [
             0.8,
             "#7fbc41"
            ],
            [
             0.9,
             "#4d9221"
            ],
            [
             1,
             "#276419"
            ]
           ],
           "sequential": [
            [
             0,
             "#0d0887"
            ],
            [
             0.1111111111111111,
             "#46039f"
            ],
            [
             0.2222222222222222,
             "#7201a8"
            ],
            [
             0.3333333333333333,
             "#9c179e"
            ],
            [
             0.4444444444444444,
             "#bd3786"
            ],
            [
             0.5555555555555556,
             "#d8576b"
            ],
            [
             0.6666666666666666,
             "#ed7953"
            ],
            [
             0.7777777777777778,
             "#fb9f3a"
            ],
            [
             0.8888888888888888,
             "#fdca26"
            ],
            [
             1,
             "#f0f921"
            ]
           ],
           "sequentialminus": [
            [
             0,
             "#0d0887"
            ],
            [
             0.1111111111111111,
             "#46039f"
            ],
            [
             0.2222222222222222,
             "#7201a8"
            ],
            [
             0.3333333333333333,
             "#9c179e"
            ],
            [
             0.4444444444444444,
             "#bd3786"
            ],
            [
             0.5555555555555556,
             "#d8576b"
            ],
            [
             0.6666666666666666,
             "#ed7953"
            ],
            [
             0.7777777777777778,
             "#fb9f3a"
            ],
            [
             0.8888888888888888,
             "#fdca26"
            ],
            [
             1,
             "#f0f921"
            ]
           ]
          },
          "colorway": [
           "#636efa",
           "#EF553B",
           "#00cc96",
           "#ab63fa",
           "#FFA15A",
           "#19d3f3",
           "#FF6692",
           "#B6E880",
           "#FF97FF",
           "#FECB52"
          ],
          "font": {
           "color": "#2a3f5f"
          },
          "geo": {
           "bgcolor": "white",
           "lakecolor": "white",
           "landcolor": "#E5ECF6",
           "showlakes": true,
           "showland": true,
           "subunitcolor": "white"
          },
          "hoverlabel": {
           "align": "left"
          },
          "hovermode": "closest",
          "mapbox": {
           "style": "light"
          },
          "paper_bgcolor": "white",
          "plot_bgcolor": "#E5ECF6",
          "polar": {
           "angularaxis": {
            "gridcolor": "white",
            "linecolor": "white",
            "ticks": ""
           },
           "bgcolor": "#E5ECF6",
           "radialaxis": {
            "gridcolor": "white",
            "linecolor": "white",
            "ticks": ""
           }
          },
          "scene": {
           "xaxis": {
            "backgroundcolor": "#E5ECF6",
            "gridcolor": "white",
            "gridwidth": 2,
            "linecolor": "white",
            "showbackground": true,
            "ticks": "",
            "zerolinecolor": "white"
           },
           "yaxis": {
            "backgroundcolor": "#E5ECF6",
            "gridcolor": "white",
            "gridwidth": 2,
            "linecolor": "white",
            "showbackground": true,
            "ticks": "",
            "zerolinecolor": "white"
           },
           "zaxis": {
            "backgroundcolor": "#E5ECF6",
            "gridcolor": "white",
            "gridwidth": 2,
            "linecolor": "white",
            "showbackground": true,
            "ticks": "",
            "zerolinecolor": "white"
           }
          },
          "shapedefaults": {
           "line": {
            "color": "#2a3f5f"
           }
          },
          "ternary": {
           "aaxis": {
            "gridcolor": "white",
            "linecolor": "white",
            "ticks": ""
           },
           "baxis": {
            "gridcolor": "white",
            "linecolor": "white",
            "ticks": ""
           },
           "bgcolor": "#E5ECF6",
           "caxis": {
            "gridcolor": "white",
            "linecolor": "white",
            "ticks": ""
           }
          },
          "title": {
           "x": 0.05
          },
          "xaxis": {
           "automargin": true,
           "gridcolor": "white",
           "linecolor": "white",
           "ticks": "",
           "title": {
            "standoff": 15
           },
           "zerolinecolor": "white",
           "zerolinewidth": 2
          },
          "yaxis": {
           "automargin": true,
           "gridcolor": "white",
           "linecolor": "white",
           "ticks": "",
           "title": {
            "standoff": 15
           },
           "zerolinecolor": "white",
           "zerolinewidth": 2
          }
         }
        },
        "xaxis": {
         "anchor": "y",
         "autorange": true,
         "domain": [
          0,
          1
         ],
         "range": [
          -0.13347646605751162,
          54.36384364035101
         ],
         "title": {
          "text": "Bill"
         },
         "type": "linear"
        },
        "yaxis": {
         "anchor": "x",
         "autorange": true,
         "domain": [
          0,
          1
         ],
         "range": [
          -0.019513840119661285,
          11.123428391065715
         ],
         "title": {
          "text": "Tip"
         },
         "type": "linear"
        }
       }
      },
      "image/png": "[encoded data removed]",
      "text/html": [
       "<div>                            <div id=\"edd87315-226b-4096-9755-a08fbdec5d8b\" class=\"plotly-graph-div\" style=\"height:525px; width:100%;\"></div>            <script type=\"text/javascript\">                require([\"plotly\"], function(Plotly) {                    window.PLOTLYENV=window.PLOTLYENV || {};                                    if (document.getElementById(\"edd87315-226b-4096-9755-a08fbdec5d8b\")) {                    Plotly.newPlot(                        \"edd87315-226b-4096-9755-a08fbdec5d8b\",                        [{\"hovertemplate\":\"Day=Thur<br>Bill=%{x}<br>Tip=%{y}<br>Guests=%{marker.size}<extra></extra>\",\"legendgroup\":\"Thur\",\"marker\":{\"color\":\"#636efa\",\"size\":[2,2,2,2,2,3,2,2,2,6,2,2,2,2,4,2,2,2,2,2,2,4,2,2,1,2,2,2,2,2,2,2,3,4,2,2,2,3,2,2,4,2,2,2,2,2,2,2,2,2,3,2,2,6,5,6,2,2,2,2,4,2],\"sizemode\":\"area\",\"sizeref\":0.015,\"symbol\":\"circle\"},\"mode\":\"markers\",\"name\":\"Thur\",\"orientation\":\"v\",\"showlegend\":true,\"x\":[13.42,12.26,11.17,20.27,19.08,22.82,11.38,14.52,8.52,29.8,12.48,15.95,14.26,11.69,24.08,12.43,10.65,21.16,24.71,18.28,13.03,34.83,15.98,32.68,10.07,16.66,19.44,17.29,18.26,22.76,8.51,14.15,16.47,20.53,16.4,13.0,12.74,18.71,13.51,13.0,43.11,10.34,7.56,16.58,15.48,28.44,19.81,7.51,9.78,11.87,18.64,8.35,16.43,27.05,41.19,34.3,17.47,13.16,16.0,10.33,27.2,18.78],\"xaxis\":\"x\",\"y\":[1.68,2.0,1.5,2.83,1.5,2.18,2.0,2.0,1.48,4.2,2.52,2.0,2.5,2.31,2.92,1.8,1.5,3.0,5.85,4.0,2.0,5.17,2.03,5.0,1.83,3.4,3.0,2.71,3.25,3.0,1.25,2.0,3.23,4.0,2.5,2.0,2.01,4.0,2.0,2.0,5.0,2.0,1.44,4.0,2.02,2.56,4.19,2.0,1.73,1.63,1.36,1.5,2.3,5.0,5.0,6.7,3.5,2.75,2.0,2.0,4.0,3.0],\"yaxis\":\"y\",\"type\":\"scatter\"},{\"hovertemplate\":\"<b>OLS trendline</b><br>Tip = 0.127764 * Bill + 0.512242<br>R<sup>2</sup>=0.660004<br><br>Day=Thur<br>Bill=%{x}<br>Tip=%{y} <b>(trend)</b><extra></extra>\",\"legendgroup\":\"Thur\",\"marker\":{\"color\":\"#636efa\",\"symbol\":\"circle\"},\"mode\":\"lines\",\"name\":\"Thur\",\"showlegend\":false,\"x\":[7.51,7.56,8.35,8.51,8.52,9.78,10.07,10.33,10.34,10.65,11.17,11.38,11.69,11.87,12.26,12.43,12.48,12.74,13.0,13.0,13.03,13.16,13.42,13.51,14.15,14.26,14.52,15.48,15.95,15.98,16.0,16.4,16.43,16.47,16.58,16.66,17.29,17.47,18.26,18.28,18.64,18.71,18.78,19.08,19.44,19.81,20.27,20.53,21.16,22.76,22.82,24.08,24.71,27.05,27.2,28.44,29.8,32.68,34.3,34.83,41.19,43.11],\"xaxis\":\"x\",\"y\":[1.4717459505375865,1.4781341282315084,1.5790673357954743,1.5995095044160244,1.600787139954809,1.7617692178416409,1.7988206484663878,1.832039172474782,1.8333168080135662,1.872923509715882,1.9393605577326696,1.9661909040471417,2.0057976057494575,2.028795045447576,2.078622831460167,2.1003426356195014,2.1067308133134235,2.1399493373218172,2.1731678613302114,2.1731678613302114,2.177000767946564,2.1936100299507615,2.2268285539591552,2.2383272738082147,2.320095948290415,2.3341499392170433,2.367368463225437,2.4900214749487377,2.550070345271603,2.5539032518879563,2.5564585229655252,2.6075639445169,2.6113968511332537,2.616507393288391,2.630561384215019,2.6407824685252943,2.72127350746871,2.744270947166829,2.845204154730795,2.847759425808364,2.8937543052046015,2.9026977539760925,2.911641202747583,2.9499702689111142,2.995965148307352,3.043237663242374,3.1020088980264555,3.1352274220348497,3.2157184609782656,3.4201401471837665,3.4278059604164723,3.588788038303304,3.6692790772467205,3.9682457933222652,3.987410326404031,4.145837133213295,4.31959556648797,4.6875546016578715,4.89453155894094,4.962246242496513,5.7748224451633785,6.02012846860998],\"yaxis\":\"y\",\"type\":\"scatter\"},{\"hovertemplate\":\"Day=Fri<br>Bill=%{x}<br>Tip=%{y}<br>Guests=%{marker.size}<extra></extra>\",\"legendgroup\":\"Fri\",\"marker\":{\"color\":\"#EF553B\",\"size\":[1,2,2,2,2,2,4,2,2,2,2,2,2,3,2,2,2,2,2],\"sizemode\":\"area\",\"sizeref\":0.015,\"symbol\":\"circle\"},\"mode\":\"markers\",\"name\":\"Fri\",\"orientation\":\"v\",\"showlegend\":true,\"x\":[8.58,28.97,16.27,5.75,16.32,22.75,40.17,13.42,27.28,21.01,12.46,11.35,15.38,15.98,10.09,12.03,12.16,22.49,13.42],\"xaxis\":\"x\",\"y\":[1.92,3.0,2.5,1.0,4.3,3.25,4.73,3.48,4.0,3.0,1.5,2.5,3.0,3.0,2.0,1.5,2.2,3.5,1.58],\"yaxis\":\"y\",\"type\":\"scatter\"},{\"hovertemplate\":\"<b>OLS trendline</b><br>Tip = 0.0947944 * Bill + 1.10886<br>R<sup>2</sup>=0.595882<br><br>Day=Fri<br>Bill=%{x}<br>Tip=%{y} <b>(trend)</b><extra></extra>\",\"legendgroup\":\"Fri\",\"marker\":{\"color\":\"#EF553B\",\"symbol\":\"circle\"},\"mode\":\"lines\",\"name\":\"Fri\",\"showlegend\":false,\"x\":[5.75,8.58,10.09,11.35,12.03,12.16,12.46,13.42,13.42,15.38,15.98,16.27,16.32,21.01,22.49,22.75,27.28,28.97,40.17],\"xaxis\":\"x\",\"y\":[1.6539304698505815,1.9221987551117836,2.0653383702158172,2.18477937354766,2.2492395975680193,2.2615628756895587,2.290001209816188,2.3810038790214016,2.3810038790214016,2.566800995315379,2.6236776635686376,2.651168053224379,2.655907775578817,3.1004937324251207,3.240789514116491,3.26543607035957,3.6948549156716712,3.855057531251683,4.9167553386458405],\"yaxis\":\"y\",\"type\":\"scatter\"},{\"hovertemplate\":\"Day=Sat<br>Bill=%{x}<br>Tip=%{y}<br>Guests=%{marker.size}<extra></extra>\",\"legendgroup\":\"Sat\",\"marker\":{\"color\":\"#00cc96\",\"size\":[2,2,2,2,2,4,2,4,2,3,3,3,3,3,3,3,2,4,2,2,3,4,2,5,3,2,2,2,4,2,2,3,2,4,4,3,2,2,4,2,2,2,4,2,4,2,2,4,2,2,2,2,2,2,3,2,2,2,1,2,3,3,4,2,3,2,2,2,2,4,3,3,2,1,2,2,2,2,2,2,2,2,3,2,2,2,2],\"sizemode\":\"area\",\"sizeref\":0.015,\"symbol\":\"circle\"},\"mode\":\"markers\",\"name\":\"Sat\",\"orientation\":\"v\",\"showlegend\":true,\"x\":[13.37,12.69,21.7,19.65,9.55,18.35,15.06,20.69,17.78,24.06,16.31,16.93,18.69,31.27,16.04,50.81,15.81,17.81,10.63,7.74,26.59,30.14,13.81,28.15,20.65,17.92,20.29,15.77,39.42,11.59,19.82,28.17,13.27,48.33,25.89,30.06,12.76,24.27,38.73,12.9,10.59,11.02,20.45,22.67,38.01,26.41,11.24,48.27,20.29,17.82,10.51,14.73,27.18,25.28,17.07,12.02,15.01,20.23,3.07,16.45,20.08,17.59,18.29,26.86,29.03,17.92,32.83,13.28,22.12,24.01,35.83,15.69,11.61,7.25,14.0,14.31,10.77,25.21,12.6,10.07,15.53,18.24,44.3,20.92,15.36,20.49,22.42],\"xaxis\":\"x\",\"y\":[2.0,2.0,4.3,3.0,1.45,2.5,3.0,2.45,3.27,3.6,2.0,3.07,2.31,5.0,2.24,10.0,3.16,2.34,2.0,1.44,3.41,3.09,2.0,3.0,3.35,4.08,2.75,2.23,7.58,1.5,3.18,6.5,2.5,9.0,5.16,2.0,2.23,2.03,3.0,1.1,1.61,1.98,3.0,2.0,3.0,1.5,1.76,6.73,3.21,1.75,1.25,2.2,2.0,5.0,3.0,1.97,2.09,2.01,1.0,2.47,3.15,2.64,3.76,3.14,5.92,3.08,1.17,2.72,2.88,2.0,4.67,3.0,3.39,1.0,3.0,4.0,1.47,4.29,1.0,1.25,3.0,3.76,2.5,4.08,1.64,4.06,3.48],\"yaxis\":\"y\",\"type\":\"scatter\"},{\"hovertemplate\":\"<b>OLS trendline</b><br>Tip = 0.121053 * Bill + 0.518611<br>R<sup>2</sup>=0.495098<br><br>Day=Sat<br>Bill=%{x}<br>Tip=%{y} <b>(trend)</b><extra></extra>\",\"legendgroup\":\"Sat\",\"marker\":{\"color\":\"#00cc96\",\"symbol\":\"circle\"},\"mode\":\"lines\",\"name\":\"Sat\",\"showlegend\":false,\"x\":[3.07,7.25,7.74,9.55,10.07,10.51,10.59,10.63,10.77,11.02,11.24,11.59,11.61,12.02,12.6,12.69,12.76,12.9,13.27,13.28,13.37,13.81,14.0,14.31,14.73,15.01,15.06,15.36,15.53,15.69,15.77,15.81,16.04,16.31,16.45,16.93,17.07,17.59,17.78,17.81,17.82,17.92,17.92,18.24,18.29,18.35,18.69,19.65,19.82,20.08,20.23,20.29,20.29,20.45,20.49,20.65,20.69,20.92,21.7,22.12,22.42,22.67,24.01,24.06,24.27,25.21,25.28,25.89,26.41,26.59,26.86,27.18,28.15,28.17,29.03,30.06,30.14,31.27,32.83,35.83,38.01,38.73,39.42,44.3,48.27,48.33,50.81],\"xaxis\":\"x\",\"y\":[0.8902441135096938,1.396246075834475,1.455562095341447,1.6746682082141393,1.7376158207521506,1.7908791852073906,1.8005634332901614,1.805405557331547,1.822352991476396,1.8526162667350552,1.8792479489626754,1.921616534324798,1.9240375963454905,1.9736693677696917,2.043880166369781,2.0547749454628983,2.063248662535323,2.0801960966801722,2.124985744062988,2.126196275073334,2.137091054166451,2.1903544186216917,2.2133545078182726,2.25088096913901,2.3017232715735574,2.3356181398632554,2.3416707949149873,2.3779867252253784,2.3985657524012662,2.4179342485668083,2.427618496649579,2.4324606206909647,2.4603028339289312,2.492987171208283,2.509934605353132,2.5680400938497576,2.584987527994607,2.647935140532618,2.670935229729199,2.6745668227602377,2.6757773537705845,2.6878826638740483,2.6878826638740483,2.7266196562051315,2.7326723112568634,2.739935497318942,2.7810935516707183,2.897304528663969,2.9178835558398575,2.949357362108863,2.9675153272640586,2.974778513326137,2.974778513326137,2.9941470094916784,2.998989133533064,3.0183576296986057,3.0231997537399917,3.0510419669779583,3.1454633857849745,3.196305688219522,3.232621618529913,3.262884893788572,3.4250960491749853,3.431148704226717,3.4565698554439908,3.570359770416549,3.578833487488974,3.652675879120102,3.7156234916581132,3.737413049844348,3.7700973871236996,3.808834379454783,3.926255887458381,3.928676949479074,4.032782616368862,4.157467310434537,4.1671515585173085,4.303941562686448,4.49278440030048,4.855943703404391,5.119839463659899,5.206997696404836,5.290524336118737,5.881263469167763,6.361844280275271,6.369107466337349,6.669319156903248],\"yaxis\":\"y\",\"type\":\"scatter\"},{\"hovertemplate\":\"Day=Sun<br>Bill=%{x}<br>Tip=%{y}<br>Guests=%{marker.size}<extra></extra>\",\"legendgroup\":\"Sun\",\"marker\":{\"color\":\"#ab63fa\",\"size\":[3,2,2,4,2,4,2,2,2,2,4,2,4,3,4,3,3,2,5,3,5,2,3,3,3,2,2,2,4,2,2,4,2,4,3,2,3,3,2,2,2,4,2,4,2,2,4,4,5,2,4,3,2,4,2,2,2,2,2,2,2,2,4,2,3,2,2,3,2,4,4,2,4,6,3,2],\"sizemode\":\"area\",\"sizeref\":0.015,\"symbol\":\"circle\"},\"mode\":\"markers\",\"name\":\"Sun\",\"orientation\":\"v\",\"showlegend\":true,\"x\":[23.1,15.69,21.58,35.26,14.83,18.43,15.42,10.27,23.68,15.04,26.88,8.77,25.29,18.15,24.59,21.01,10.34,14.78,30.46,17.26,20.69,14.07,10.33,16.29,16.97,17.46,13.94,9.68,30.4,18.29,22.23,32.4,13.13,29.93,25.71,23.95,38.07,28.55,18.04,12.54,10.29,34.81,9.94,25.56,19.49,17.31,24.55,19.77,29.85,40.55,23.17,45.35,23.33,34.65,34.63,9.6,14.48,17.89,32.9,16.82,31.85,7.25,31.71,20.76,24.52,17.51,13.81,16.21,12.66,21.5,16.49,13.39,25.0,48.17,20.9,16.99],\"xaxis\":\"x\",\"y\":[4.0,1.5,3.92,5.0,3.02,3.0,1.57,1.71,3.31,1.96,3.12,2.0,4.71,3.5,3.61,3.5,1.66,3.23,2.0,2.74,5.0,2.5,1.67,3.71,3.5,2.54,3.06,1.32,5.6,3.0,5.0,6.0,2.0,5.07,4.0,2.55,4.0,2.05,3.0,2.5,2.6,5.2,1.56,4.34,3.51,3.5,2.0,2.0,5.14,3.0,6.5,3.5,5.65,3.68,3.55,4.0,2.0,2.0,3.11,4.0,3.18,5.15,4.5,2.24,3.48,3.0,2.0,2.0,2.5,3.5,2.0,2.61,3.75,5.0,3.5,1.01],\"yaxis\":\"y\",\"type\":\"scatter\"},{\"hovertemplate\":\"<b>OLS trendline</b><br>Tip = 0.0701535 * Bill + 1.75314<br>R<sup>2</sup>=0.251756<br><br>Day=Sun<br>Bill=%{x}<br>Tip=%{y} <b>(trend)</b><extra></extra>\",\"legendgroup\":\"Sun\",\"marker\":{\"color\":\"#ab63fa\",\"symbol\":\"circle\"},\"mode\":\"lines\",\"name\":\"Sun\",\"showlegend\":false,\"x\":[7.25,8.77,9.6,9.68,9.94,10.27,10.29,10.33,10.34,12.54,12.66,13.13,13.39,13.81,13.94,14.07,14.48,14.78,14.83,15.04,15.42,15.69,16.21,16.29,16.49,16.82,16.97,16.99,17.26,17.31,17.46,17.51,17.89,18.04,18.15,18.29,18.43,19.49,19.77,20.69,20.76,20.9,21.01,21.5,21.58,22.23,23.1,23.17,23.33,23.68,23.95,24.52,24.55,24.59,25.0,25.29,25.56,25.71,26.88,28.55,29.85,29.93,30.4,30.46,31.71,31.85,32.4,32.9,34.63,34.65,34.81,35.26,38.07,40.55,45.35,48.17],\"xaxis\":\"x\",\"y\":[2.2617575891083836,2.368390955249292,2.426618385444656,2.4322306678731245,2.4504705857656486,2.4736212507830824,2.4750243213901997,2.477830462604434,2.4785319979079925,2.6328697646908856,2.641288188333589,2.6742603476008435,2.6925002654933667,2.7219647482428284,2.73108470718909,2.740204666135352,2.768967613581255,2.790013672688013,2.7935213492058057,2.8082535905805366,2.8349119321157636,2.853853385311846,2.8903332210968937,2.895945503525362,2.9099762095965342,2.9331268746139685,2.943649904167347,2.9450529747744643,2.963994427970547,2.96750210448834,2.9780251340417188,2.981532810559512,3.0081911520947386,3.018714181648118,3.0264310699872627,3.036252564237083,3.0460740584869033,3.120436800664115,3.1400797891637566,3.2046210370911483,3.2095317842160584,3.2193532784658787,3.2270701668050235,3.2614453966793953,3.2670576791078636,3.312657473839173,3.373691045248772,3.378601792373682,3.3898263572306195,3.414380092855171,3.433321546051253,3.4733090583540935,3.4754136642647695,3.4782198054790037,3.5069827529249062,3.527327276728106,3.546268729924188,3.5567917594775675,3.6388713899939242,3.756027785688211,3.8472273751508297,3.8528396575792985,3.885811816846553,3.8900210286679044,3.97771294161273,3.9875344358625506,4.0261188775582735,4.0611956427362035,4.182561250251842,4.183964320858959,4.195188885715897,4.226757974376035,4.423889394676003,4.597870149958537,4.934607095666666,5.132440051270192],\"yaxis\":\"y\",\"type\":\"scatter\"}],                        {\"template\":{\"data\":{\"histogram2dcontour\":[{\"type\":\"histogram2dcontour\",\"colorbar\":{\"outlinewidth\":0,\"ticks\":\"\"},\"colorscale\":[[0.0,\"#0d0887\"],[0.1111111111111111,\"#46039f\"],[0.2222222222222222,\"#7201a8\"],[0.3333333333333333,\"#9c179e\"],[0.4444444444444444,\"#bd3786\"],[0.5555555555555556,\"#d8576b\"],[0.6666666666666666,\"#ed7953\"],[0.7777777777777778,\"#fb9f3a\"],[0.8888888888888888,\"#fdca26\"],[1.0,\"#f0f921\"]]}],\"choropleth\":[{\"type\":\"choropleth\",\"colorbar\":{\"outlinewidth\":0,\"ticks\":\"\"}}],\"histogram2d\":[{\"type\":\"histogram2d\",\"colorbar\":{\"outlinewidth\":0,\"ticks\":\"\"},\"colorscale\":[[0.0,\"#0d0887\"],[0.1111111111111111,\"#46039f\"],[0.2222222222222222,\"#7201a8\"],[0.3333333333333333,\"#9c179e\"],[0.4444444444444444,\"#bd3786\"],[0.5555555555555556,\"#d8576b\"],[0.6666666666666666,\"#ed7953\"],[0.7777777777777778,\"#fb9f3a\"],[0.8888888888888888,\"#fdca26\"],[1.0,\"#f0f921\"]]}],\"heatmap\":[{\"type\":\"heatmap\",\"colorbar\":{\"outlinewidth\":0,\"ticks\":\"\"},\"colorscale\":[[0.0,\"#0d0887\"],[0.1111111111111111,\"#46039f\"],[0.2222222222222222,\"#7201a8\"],[0.3333333333333333,\"#9c179e\"],[0.4444444444444444,\"#bd3786\"],[0.5555555555555556,\"#d8576b\"],[0.6666666666666666,\"#ed7953\"],[0.7777777777777778,\"#fb9f3a\"],[0.8888888888888888,\"#fdca26\"],[1.0,\"#f0f921\"]]}],\"heatmapgl\":[{\"type\":\"heatmapgl\",\"colorbar\":{\"outlinewidth\":0,\"ticks\":\"\"},\"colorscale\":[[0.0,\"#0d0887\"],[0.1111111111111111,\"#46039f\"],[0.2222222222222222,\"#7201a8\"],[0.3333333333333333,\"#9c179e\"],[0.4444444444444444,\"#bd3786\"],[0.5555555555555556,\"#d8576b\"],[0.6666666666666666,\"#ed7953\"],[0.7777777777777778,\"#fb9f3a\"],[0.8888888888888888,\"#fdca26\"],[1.0,\"#f0f921\"]]}],\"contourcarpet\":[{\"type\":\"contourcarpet\",\"colorbar\":{\"outlinewidth\":0,\"ticks\":\"\"}}],\"contour\":[{\"type\":\"contour\",\"colorbar\":{\"outlinewidth\":0,\"ticks\":\"\"},\"colorscale\":[[0.0,\"#0d0887\"],[0.1111111111111111,\"#46039f\"],[0.2222222222222222,\"#7201a8\"],[0.3333333333333333,\"#9c179e\"],[0.4444444444444444,\"#bd3786\"],[0.5555555555555556,\"#d8576b\"],[0.6666666666666666,\"#ed7953\"],[0.7777777777777778,\"#fb9f3a\"],[0.8888888888888888,\"#fdca26\"],[1.0,\"#f0f921\"]]}],\"surface\":[{\"type\":\"surface\",\"colorbar\":{\"outlinewidth\":0,\"ticks\":\"\"},\"colorscale\":[[0.0,\"#0d0887\"],[0.1111111111111111,\"#46039f\"],[0.2222222222222222,\"#7201a8\"],[0.3333333333333333,\"#9c179e\"],[0.4444444444444444,\"#bd3786\"],[0.5555555555555556,\"#d8576b\"],[0.6666666666666666,\"#ed7953\"],[0.7777777777777778,\"#fb9f3a\"],[0.8888888888888888,\"#fdca26\"],[1.0,\"#f0f921\"]]}],\"mesh3d\":[{\"type\":\"mesh3d\",\"colorbar\":{\"outlinewidth\":0,\"ticks\":\"\"}}],\"scatter\":[{\"fillpattern\":{\"fillmode\":\"overlay\",\"size\":10,\"solidity\":0.2},\"type\":\"scatter\"}],\"parcoords\":[{\"type\":\"parcoords\",\"line\":{\"colorbar\":{\"outlinewidth\":0,\"ticks\":\"\"}}}],\"scatterpolargl\":[{\"type\":\"scatterpolargl\",\"marker\":{\"colorbar\":{\"outlinewidth\":0,\"ticks\":\"\"}}}],\"bar\":[{\"error_x\":{\"color\":\"#2a3f5f\"},\"error_y\":{\"color\":\"#2a3f5f\"},\"marker\":{\"line\":{\"color\":\"#E5ECF6\",\"width\":0.5},\"pattern\":{\"fillmode\":\"overlay\",\"size\":10,\"solidity\":0.2}},\"type\":\"bar\"}],\"scattergeo\":[{\"type\":\"scattergeo\",\"marker\":{\"colorbar\":{\"outlinewidth\":0,\"ticks\":\"\"}}}],\"scatterpolar\":[{\"type\":\"scatterpolar\",\"marker\":{\"colorbar\":{\"outlinewidth\":0,\"ticks\":\"\"}}}],\"histogram\":[{\"marker\":{\"pattern\":{\"fillmode\":\"overlay\",\"size\":10,\"solidity\":0.2}},\"type\":\"histogram\"}],\"scattergl\":[{\"type\":\"scattergl\",\"marker\":{\"colorbar\":{\"outlinewidth\":0,\"ticks\":\"\"}}}],\"scatter3d\":[{\"type\":\"scatter3d\",\"line\":{\"colorbar\":{\"outlinewidth\":0,\"ticks\":\"\"}},\"marker\":{\"colorbar\":{\"outlinewidth\":0,\"ticks\":\"\"}}}],\"scattermapbox\":[{\"type\":\"scattermapbox\",\"marker\":{\"colorbar\":{\"outlinewidth\":0,\"ticks\":\"\"}}}],\"scatterternary\":[{\"type\":\"scatterternary\",\"marker\":{\"colorbar\":{\"outlinewidth\":0,\"ticks\":\"\"}}}],\"scattercarpet\":[{\"type\":\"scattercarpet\",\"marker\":{\"colorbar\":{\"outlinewidth\":0,\"ticks\":\"\"}}}],\"carpet\":[{\"aaxis\":{\"endlinecolor\":\"#2a3f5f\",\"gridcolor\":\"white\",\"linecolor\":\"white\",\"minorgridcolor\":\"white\",\"startlinecolor\":\"#2a3f5f\"},\"baxis\":{\"endlinecolor\":\"#2a3f5f\",\"gridcolor\":\"white\",\"linecolor\":\"white\",\"minorgridcolor\":\"white\",\"startlinecolor\":\"#2a3f5f\"},\"type\":\"carpet\"}],\"table\":[{\"cells\":{\"fill\":{\"color\":\"#EBF0F8\"},\"line\":{\"color\":\"white\"}},\"header\":{\"fill\":{\"color\":\"#C8D4E3\"},\"line\":{\"color\":\"white\"}},\"type\":\"table\"}],\"barpolar\":[{\"marker\":{\"line\":{\"color\":\"#E5ECF6\",\"width\":0.5},\"pattern\":{\"fillmode\":\"overlay\",\"size\":10,\"solidity\":0.2}},\"type\":\"barpolar\"}],\"pie\":[{\"automargin\":true,\"type\":\"pie\"}]},\"layout\":{\"autotypenumbers\":\"strict\",\"colorway\":[\"#636efa\",\"#EF553B\",\"#00cc96\",\"#ab63fa\",\"#FFA15A\",\"#19d3f3\",\"#FF6692\",\"#B6E880\",\"#FF97FF\",\"#FECB52\"],\"font\":{\"color\":\"#2a3f5f\"},\"hovermode\":\"closest\",\"hoverlabel\":{\"align\":\"left\"},\"paper_bgcolor\":\"white\",\"plot_bgcolor\":\"#E5ECF6\",\"polar\":{\"bgcolor\":\"#E5ECF6\",\"angularaxis\":{\"gridcolor\":\"white\",\"linecolor\":\"white\",\"ticks\":\"\"},\"radialaxis\":{\"gridcolor\":\"white\",\"linecolor\":\"white\",\"ticks\":\"\"}},\"ternary\":{\"bgcolor\":\"#E5ECF6\",\"aaxis\":{\"gridcolor\":\"white\",\"linecolor\":\"white\",\"ticks\":\"\"},\"baxis\":{\"gridcolor\":\"white\",\"linecolor\":\"white\",\"ticks\":\"\"},\"caxis\":{\"gridcolor\":\"white\",\"linecolor\":\"white\",\"ticks\":\"\"}},\"coloraxis\":{\"colorbar\":{\"outlinewidth\":0,\"ticks\":\"\"}},\"colorscale\":{\"sequential\":[[0.0,\"#0d0887\"],[0.1111111111111111,\"#46039f\"],[0.2222222222222222,\"#7201a8\"],[0.3333333333333333,\"#9c179e\"],[0.4444444444444444,\"#bd3786\"],[0.5555555555555556,\"#d8576b\"],[0.6666666666666666,\"#ed7953\"],[0.7777777777777778,\"#fb9f3a\"],[0.8888888888888888,\"#fdca26\"],[1.0,\"#f0f921\"]],\"sequentialminus\":[[0.0,\"#0d0887\"],[0.1111111111111111,\"#46039f\"],[0.2222222222222222,\"#7201a8\"],[0.3333333333333333,\"#9c179e\"],[0.4444444444444444,\"#bd3786\"],[0.5555555555555556,\"#d8576b\"],[0.6666666666666666,\"#ed7953\"],[0.7777777777777778,\"#fb9f3a\"],[0.8888888888888888,\"#fdca26\"],[1.0,\"#f0f921\"]],\"diverging\":[[0,\"#8e0152\"],[0.1,\"#c51b7d\"],[0.2,\"#de77ae\"],[0.3,\"#f1b6da\"],[0.4,\"#fde0ef\"],[0.5,\"#f7f7f7\"],[0.6,\"#e6f5d0\"],[0.7,\"#b8e186\"],[0.8,\"#7fbc41\"],[0.9,\"#4d9221\"],[1,\"#276419\"]]},\"xaxis\":{\"gridcolor\":\"white\",\"linecolor\":\"white\",\"ticks\":\"\",\"title\":{\"standoff\":15},\"zerolinecolor\":\"white\",\"automargin\":true,\"zerolinewidth\":2},\"yaxis\":{\"gridcolor\":\"white\",\"linecolor\":\"white\",\"ticks\":\"\",\"title\":{\"standoff\":15},\"zerolinecolor\":\"white\",\"automargin\":true,\"zerolinewidth\":2},\"scene\":{\"xaxis\":{\"backgroundcolor\":\"#E5ECF6\",\"gridcolor\":\"white\",\"linecolor\":\"white\",\"showbackground\":true,\"ticks\":\"\",\"zerolinecolor\":\"white\",\"gridwidth\":2},\"yaxis\":{\"backgroundcolor\":\"#E5ECF6\",\"gridcolor\":\"white\",\"linecolor\":\"white\",\"showbackground\":true,\"ticks\":\"\",\"zerolinecolor\":\"white\",\"gridwidth\":2},\"zaxis\":{\"backgroundcolor\":\"#E5ECF6\",\"gridcolor\":\"white\",\"linecolor\":\"white\",\"showbackground\":true,\"ticks\":\"\",\"zerolinecolor\":\"white\",\"gridwidth\":2}},\"shapedefaults\":{\"line\":{\"color\":\"#2a3f5f\"}},\"annotationdefaults\":{\"arrowcolor\":\"#2a3f5f\",\"arrowhead\":0,\"arrowwidth\":1},\"geo\":{\"bgcolor\":\"white\",\"landcolor\":\"#E5ECF6\",\"subunitcolor\":\"white\",\"showland\":true,\"showlakes\":true,\"lakecolor\":\"white\"},\"title\":{\"x\":0.05},\"mapbox\":{\"style\":\"light\"}}},\"xaxis\":{\"anchor\":\"y\",\"domain\":[0.0,1.0],\"title\":{\"text\":\"Bill\"}},\"yaxis\":{\"anchor\":\"x\",\"domain\":[0.0,1.0],\"title\":{\"text\":\"Tip\"}},\"legend\":{\"title\":{\"text\":\"Day\"},\"tracegroupgap\":0,\"itemsizing\":\"constant\"},\"margin\":{\"t\":60}},                        {\"responsive\": true}                    ).then(function(){\n",
       "                            \n",
       "var gd = document.getElementById('edd87315-226b-4096-9755-a08fbdec5d8b');\n",
       "var x = new MutationObserver(function (mutations, observer) {{\n",
       "        var display = window.getComputedStyle(gd).display;\n",
       "        if (!display || display === 'none') {{\n",
       "            console.log([gd, 'removed!']);\n",
       "            Plotly.purge(gd);\n",
       "            observer.disconnect();\n",
       "        }}\n",
       "}});\n",
       "\n",
       "// Listen for the removal of the full notebook cells\n",
       "var notebookContainer = gd.closest('#notebook-container');\n",
       "if (notebookContainer) {{\n",
       "    x.observe(notebookContainer, {childList: true});\n",
       "}}\n",
       "\n",
       "// Listen for the clearing of the current output cell\n",
       "var outputEl = gd.closest('.output');\n",
       "if (outputEl) {{\n",
       "    x.observe(outputEl, {childList: true});\n",
       "}}\n",
       "\n",
       "                        })                };                });            </script>        </div>"
      ]
     },
     "metadata": {},
     "output_type": "display_data"
    },
    {
     "data": {
      "application/vnd.plotly.v1+json": {
       "config": {
        "plotlyServerURL": "https://plot.ly"
       },
       "data": [
        {
         "hovertemplate": "Day=Thur<br>Bill=%{x}<br>Tip=%{y}<br>PctTips_Guest=%{marker.size}<extra></extra>",
         "legendgroup": "Thur",
         "marker": {
          "color": "#636efa",
          "size": [
           6.2,
           8.2,
           6.7,
           7,
           4,
           3.2,
           8.8,
           6.9,
           8.7,
           2.4,
           10.1,
           6.2,
           8.8,
           9.9,
           3,
           7.2,
           7,
           7.1,
           11.8,
           11,
           7.6,
           3.7,
           6.4,
           7.6,
           18.2,
           10.2,
           7.7,
           7.8,
           8.9,
           6.6,
           7.4,
           7,
           6.5,
           4.9,
           7.6,
           7.7,
           7.9,
           7.1,
           7.4,
           7.7,
           2.9,
           9.6,
           9.5,
           12,
           6.5,
           4.5,
           10.6,
           13.3,
           8.8,
           6.8,
           2.4,
           9,
           7,
           3.1,
           2.4,
           3.2,
           10,
           10.4,
           6.2,
           9.7,
           3.7,
           8
          ],
          "sizemode": "area",
          "sizeref": 0.08875,
          "symbol": "circle"
         },
         "mode": "markers",
         "name": "Thur",
         "orientation": "v",
         "showlegend": true,
         "type": "scatter",
         "x": [
          13.42,
          12.26,
          11.17,
          20.27,
          19.08,
          22.82,
          11.38,
          14.52,
          8.52,
          29.8,
          12.48,
          15.95,
          14.26,
          11.69,
          24.08,
          12.43,
          10.65,
          21.16,
          24.71,
          18.28,
          13.03,
          34.83,
          15.98,
          32.68,
          10.07,
          16.66,
          19.44,
          17.29,
          18.26,
          22.76,
          8.51,
          14.15,
          16.47,
          20.53,
          16.4,
          13,
          12.74,
          18.71,
          13.51,
          13,
          43.11,
          10.34,
          7.56,
          16.58,
          15.48,
          28.44,
          19.81,
          7.51,
          9.78,
          11.87,
          18.64,
          8.35,
          16.43,
          27.05,
          41.19,
          34.3,
          17.47,
          13.16,
          16,
          10.33,
          27.2,
          18.78
         ],
         "xaxis": "x",
         "y": [
          1.68,
          2,
          1.5,
          2.83,
          1.5,
          2.18,
          2,
          2,
          1.48,
          4.2,
          2.52,
          2,
          2.5,
          2.31,
          2.92,
          1.8,
          1.5,
          3,
          5.85,
          4,
          2,
          5.17,
          2.03,
          5,
          1.83,
          3.4,
          3,
          2.71,
          3.25,
          3,
          1.25,
          2,
          3.23,
          4,
          2.5,
          2,
          2.01,
          4,
          2,
          2,
          5,
          2,
          1.44,
          4,
          2.02,
          2.56,
          4.19,
          2,
          1.73,
          1.63,
          1.36,
          1.5,
          2.3,
          5,
          5,
          6.7,
          3.5,
          2.75,
          2,
          2,
          4,
          3
         ],
         "yaxis": "y"
        },
        {
         "hovertemplate": "<b>OLS trendline</b><br>Tip = 0.127764 * Bill + 0.512242<br>R<sup>2</sup>=0.660004<br><br>Day=Thur<br>Bill=%{x}<br>Tip=%{y} <b>(trend)</b><extra></extra>",
         "legendgroup": "Thur",
         "marker": {
          "color": "#636efa",
          "symbol": "circle"
         },
         "mode": "lines",
         "name": "Thur",
         "showlegend": false,
         "type": "scatter",
         "x": [
          7.51,
          7.56,
          8.35,
          8.51,
          8.52,
          9.78,
          10.07,
          10.33,
          10.34,
          10.65,
          11.17,
          11.38,
          11.69,
          11.87,
          12.26,
          12.43,
          12.48,
          12.74,
          13,
          13,
          13.03,
          13.16,
          13.42,
          13.51,
          14.15,
          14.26,
          14.52,
          15.48,
          15.95,
          15.98,
          16,
          16.4,
          16.43,
          16.47,
          16.58,
          16.66,
          17.29,
          17.47,
          18.26,
          18.28,
          18.64,
          18.71,
          18.78,
          19.08,
          19.44,
          19.81,
          20.27,
          20.53,
          21.16,
          22.76,
          22.82,
          24.08,
          24.71,
          27.05,
          27.2,
          28.44,
          29.8,
          32.68,
          34.3,
          34.83,
          41.19,
          43.11
         ],
         "xaxis": "x",
         "y": [
          1.4717459505375865,
          1.4781341282315084,
          1.5790673357954743,
          1.5995095044160244,
          1.600787139954809,
          1.7617692178416409,
          1.7988206484663878,
          1.832039172474782,
          1.8333168080135662,
          1.872923509715882,
          1.9393605577326696,
          1.9661909040471417,
          2.0057976057494575,
          2.028795045447576,
          2.078622831460167,
          2.1003426356195014,
          2.1067308133134235,
          2.1399493373218172,
          2.1731678613302114,
          2.1731678613302114,
          2.177000767946564,
          2.1936100299507615,
          2.2268285539591552,
          2.2383272738082147,
          2.320095948290415,
          2.3341499392170433,
          2.367368463225437,
          2.4900214749487377,
          2.550070345271603,
          2.5539032518879563,
          2.5564585229655252,
          2.6075639445169,
          2.6113968511332537,
          2.616507393288391,
          2.630561384215019,
          2.6407824685252943,
          2.72127350746871,
          2.744270947166829,
          2.845204154730795,
          2.847759425808364,
          2.8937543052046015,
          2.9026977539760925,
          2.911641202747583,
          2.9499702689111142,
          2.995965148307352,
          3.043237663242374,
          3.1020088980264555,
          3.1352274220348497,
          3.2157184609782656,
          3.4201401471837665,
          3.4278059604164723,
          3.588788038303304,
          3.6692790772467205,
          3.9682457933222652,
          3.987410326404031,
          4.145837133213295,
          4.31959556648797,
          4.6875546016578715,
          4.89453155894094,
          4.962246242496513,
          5.7748224451633785,
          6.02012846860998
         ],
         "yaxis": "y"
        },
        {
         "hovertemplate": "Day=Fri<br>Bill=%{x}<br>Tip=%{y}<br>PctTips_Guest=%{marker.size}<extra></extra>",
         "legendgroup": "Fri",
         "marker": {
          "color": "#EF553B",
          "size": [
           22.4,
           5.2,
           7.7,
           8.7,
           13.2,
           7.2,
           3,
           13,
           7.4,
           7.2,
           6,
           11,
           9.8,
           6.3,
           9.9,
           6.2,
           9,
           7.8,
           5.9
          ],
          "sizemode": "area",
          "sizeref": 0.08875,
          "symbol": "circle"
         },
         "mode": "markers",
         "name": "Fri",
         "orientation": "v",
         "showlegend": true,
         "type": "scatter",
         "x": [
          8.58,
          28.97,
          16.27,
          5.75,
          16.32,
          22.75,
          40.17,
          13.42,
          27.28,
          21.01,
          12.46,
          11.35,
          15.38,
          15.98,
          10.09,
          12.03,
          12.16,
          22.49,
          13.42
         ],
         "xaxis": "x",
         "y": [
          1.92,
          3,
          2.5,
          1,
          4.3,
          3.25,
          4.73,
          3.48,
          4,
          3,
          1.5,
          2.5,
          3,
          3,
          2,
          1.5,
          2.2,
          3.5,
          1.58
         ],
         "yaxis": "y"
        },
        {
         "hovertemplate": "<b>OLS trendline</b><br>Tip = 0.0947944 * Bill + 1.10886<br>R<sup>2</sup>=0.595882<br><br>Day=Fri<br>Bill=%{x}<br>Tip=%{y} <b>(trend)</b><extra></extra>",
         "legendgroup": "Fri",
         "marker": {
          "color": "#EF553B",
          "symbol": "circle"
         },
         "mode": "lines",
         "name": "Fri",
         "showlegend": false,
         "type": "scatter",
         "x": [
          5.75,
          8.58,
          10.09,
          11.35,
          12.03,
          12.16,
          12.46,
          13.42,
          13.42,
          15.38,
          15.98,
          16.27,
          16.32,
          21.01,
          22.49,
          22.75,
          27.28,
          28.97,
          40.17
         ],
         "xaxis": "x",
         "y": [
          1.6539304698505815,
          1.9221987551117836,
          2.0653383702158172,
          2.18477937354766,
          2.2492395975680193,
          2.2615628756895587,
          2.290001209816188,
          2.3810038790214016,
          2.3810038790214016,
          2.566800995315379,
          2.6236776635686376,
          2.651168053224379,
          2.655907775578817,
          3.1004937324251207,
          3.240789514116491,
          3.26543607035957,
          3.6948549156716712,
          3.855057531251683,
          4.9167553386458405
         ],
         "yaxis": "y"
        },
        {
         "hovertemplate": "Day=Sat<br>Bill=%{x}<br>Tip=%{y}<br>PctTips_Guest=%{marker.size}<extra></extra>",
         "legendgroup": "Sat",
         "marker": {
          "color": "#00cc96",
          "size": [
           7.5,
           7.9,
           9.9,
           7.6,
           7.6,
           3.4,
           10,
           3,
           9.2,
           5,
           4.1,
           6,
           4.1,
           5.3,
           4.7,
           6.6,
           10,
           3.3,
           9.4,
           9.3,
           4.3,
           2.6,
           7.2,
           2.1,
           5.4,
           11.4,
           6.8,
           7,
           4.8,
           6.4,
           8,
           7.7,
           9.4,
           4.6,
           5,
           2.2,
           8.8,
           4.2,
           1.9,
           4.2,
           7.6,
           9,
           3.7,
           4.4,
           2,
           2.8,
           7.8,
           3.5,
           7.9,
           4.9,
           6,
           7.4,
           3.7,
           9.9,
           5.9,
           8.2,
           7,
           5,
           32.6,
           7.5,
           5.2,
           5,
           5.2,
           5.8,
           6.8,
           8.6,
           1.8,
           10.2,
           6.5,
           2.1,
           4.3,
           6.4,
           14.6,
           13.8,
           10.7,
           14,
           6.8,
           8.5,
           4,
           6.2,
           9.6,
           10.3,
           1.9,
           9.8,
           5.4,
           9.9,
           7.8
          ],
          "sizemode": "area",
          "sizeref": 0.08875,
          "symbol": "circle"
         },
         "mode": "markers",
         "name": "Sat",
         "orientation": "v",
         "showlegend": true,
         "type": "scatter",
         "x": [
          13.37,
          12.69,
          21.7,
          19.65,
          9.55,
          18.35,
          15.06,
          20.69,
          17.78,
          24.06,
          16.31,
          16.93,
          18.69,
          31.27,
          16.04,
          50.81,
          15.81,
          17.81,
          10.63,
          7.74,
          26.59,
          30.14,
          13.81,
          28.15,
          20.65,
          17.92,
          20.29,
          15.77,
          39.42,
          11.59,
          19.82,
          28.17,
          13.27,
          48.33,
          25.89,
          30.06,
          12.76,
          24.27,
          38.73,
          12.9,
          10.59,
          11.02,
          20.45,
          22.67,
          38.01,
          26.41,
          11.24,
          48.27,
          20.29,
          17.82,
          10.51,
          14.73,
          27.18,
          25.28,
          17.07,
          12.02,
          15.01,
          20.23,
          3.07,
          16.45,
          20.08,
          17.59,
          18.29,
          26.86,
          29.03,
          17.92,
          32.83,
          13.28,
          22.12,
          24.01,
          35.83,
          15.69,
          11.61,
          7.25,
          14,
          14.31,
          10.77,
          25.21,
          12.6,
          10.07,
          15.53,
          18.24,
          44.3,
          20.92,
          15.36,
          20.49,
          22.42
         ],
         "xaxis": "x",
         "y": [
          2,
          2,
          4.3,
          3,
          1.45,
          2.5,
          3,
          2.45,
          3.27,
          3.6,
          2,
          3.07,
          2.31,
          5,
          2.24,
          10,
          3.16,
          2.34,
          2,
          1.44,
          3.41,
          3.09,
          2,
          3,
          3.35,
          4.08,
          2.75,
          2.23,
          7.58,
          1.5,
          3.18,
          6.5,
          2.5,
          9,
          5.16,
          2,
          2.23,
          2.03,
          3,
          1.1,
          1.61,
          1.98,
          3,
          2,
          3,
          1.5,
          1.76,
          6.73,
          3.21,
          1.75,
          1.25,
          2.2,
          2,
          5,
          3,
          1.97,
          2.09,
          2.01,
          1,
          2.47,
          3.15,
          2.64,
          3.76,
          3.14,
          5.92,
          3.08,
          1.17,
          2.72,
          2.88,
          2,
          4.67,
          3,
          3.39,
          1,
          3,
          4,
          1.47,
          4.29,
          1,
          1.25,
          3,
          3.76,
          2.5,
          4.08,
          1.64,
          4.06,
          3.48
         ],
         "yaxis": "y"
        },
        {
         "hovertemplate": "<b>OLS trendline</b><br>Tip = 0.121053 * Bill + 0.518611<br>R<sup>2</sup>=0.495098<br><br>Day=Sat<br>Bill=%{x}<br>Tip=%{y} <b>(trend)</b><extra></extra>",
         "legendgroup": "Sat",
         "marker": {
          "color": "#00cc96",
          "symbol": "circle"
         },
         "mode": "lines",
         "name": "Sat",
         "showlegend": false,
         "type": "scatter",
         "x": [
          3.07,
          7.25,
          7.74,
          9.55,
          10.07,
          10.51,
          10.59,
          10.63,
          10.77,
          11.02,
          11.24,
          11.59,
          11.61,
          12.02,
          12.6,
          12.69,
          12.76,
          12.9,
          13.27,
          13.28,
          13.37,
          13.81,
          14,
          14.31,
          14.73,
          15.01,
          15.06,
          15.36,
          15.53,
          15.69,
          15.77,
          15.81,
          16.04,
          16.31,
          16.45,
          16.93,
          17.07,
          17.59,
          17.78,
          17.81,
          17.82,
          17.92,
          17.92,
          18.24,
          18.29,
          18.35,
          18.69,
          19.65,
          19.82,
          20.08,
          20.23,
          20.29,
          20.29,
          20.45,
          20.49,
          20.65,
          20.69,
          20.92,
          21.7,
          22.12,
          22.42,
          22.67,
          24.01,
          24.06,
          24.27,
          25.21,
          25.28,
          25.89,
          26.41,
          26.59,
          26.86,
          27.18,
          28.15,
          28.17,
          29.03,
          30.06,
          30.14,
          31.27,
          32.83,
          35.83,
          38.01,
          38.73,
          39.42,
          44.3,
          48.27,
          48.33,
          50.81
         ],
         "xaxis": "x",
         "y": [
          0.8902441135096938,
          1.396246075834475,
          1.455562095341447,
          1.6746682082141393,
          1.7376158207521506,
          1.7908791852073906,
          1.8005634332901614,
          1.805405557331547,
          1.822352991476396,
          1.8526162667350552,
          1.8792479489626754,
          1.921616534324798,
          1.9240375963454905,
          1.9736693677696917,
          2.043880166369781,
          2.0547749454628983,
          2.063248662535323,
          2.0801960966801722,
          2.124985744062988,
          2.126196275073334,
          2.137091054166451,
          2.1903544186216917,
          2.2133545078182726,
          2.25088096913901,
          2.3017232715735574,
          2.3356181398632554,
          2.3416707949149873,
          2.3779867252253784,
          2.3985657524012662,
          2.4179342485668083,
          2.427618496649579,
          2.4324606206909647,
          2.4603028339289312,
          2.492987171208283,
          2.509934605353132,
          2.5680400938497576,
          2.584987527994607,
          2.647935140532618,
          2.670935229729199,
          2.6745668227602377,
          2.6757773537705845,
          2.6878826638740483,
          2.6878826638740483,
          2.7266196562051315,
          2.7326723112568634,
          2.739935497318942,
          2.7810935516707183,
          2.897304528663969,
          2.9178835558398575,
          2.949357362108863,
          2.9675153272640586,
          2.974778513326137,
          2.974778513326137,
          2.9941470094916784,
          2.998989133533064,
          3.0183576296986057,
          3.0231997537399917,
          3.0510419669779583,
          3.1454633857849745,
          3.196305688219522,
          3.232621618529913,
          3.262884893788572,
          3.4250960491749853,
          3.431148704226717,
          3.4565698554439908,
          3.570359770416549,
          3.578833487488974,
          3.652675879120102,
          3.7156234916581132,
          3.737413049844348,
          3.7700973871236996,
          3.808834379454783,
          3.926255887458381,
          3.928676949479074,
          4.032782616368862,
          4.157467310434537,
          4.1671515585173085,
          4.303941562686448,
          4.49278440030048,
          4.855943703404391,
          5.119839463659899,
          5.206997696404836,
          5.290524336118737,
          5.881263469167763,
          6.361844280275271,
          6.369107466337349,
          6.669319156903248
         ],
         "yaxis": "y"
        },
        {
         "hovertemplate": "Day=Sun<br>Bill=%{x}<br>Tip=%{y}<br>PctTips_Guest=%{marker.size}<extra></extra>",
         "legendgroup": "Sun",
         "marker": {
          "color": "#ab63fa",
          "size": [
           5.8,
           4.8,
           9.1,
           3.6,
           10.2,
           4.1,
           5.1,
           8.4,
           7,
           6.5,
           2.9,
           11.4,
           4.6,
           6.4,
           3.7,
           5.6,
           5.4,
           11,
           1.3,
           5.3,
           4.8,
           8.9,
           5.4,
           7.6,
           6.9,
           7.2,
           11,
           6.8,
           4.6,
           8.2,
           11.2,
           4.6,
           7.6,
           4.2,
           5.2,
           5.3,
           3.5,
           2.4,
           8.3,
           10,
           12.6,
           3.7,
           7.8,
           4.2,
           9,
           10.1,
           2,
           2.5,
           3.4,
           3.7,
           7,
           2.6,
           12.1,
           2.6,
           5.2,
           20.8,
           6.9,
           5.6,
           4.8,
           11.9,
           5,
           35.5,
           3.6,
           5.4,
           4.7,
           8.6,
           7.2,
           4.1,
           9.8,
           4.1,
           3,
           9.8,
           3.8,
           1.7,
           5.6,
           3
          ],
          "sizemode": "area",
          "sizeref": 0.08875,
          "symbol": "circle"
         },
         "mode": "markers",
         "name": "Sun",
         "orientation": "v",
         "showlegend": true,
         "type": "scatter",
         "x": [
          23.1,
          15.69,
          21.58,
          35.26,
          14.83,
          18.43,
          15.42,
          10.27,
          23.68,
          15.04,
          26.88,
          8.77,
          25.29,
          18.15,
          24.59,
          21.01,
          10.34,
          14.78,
          30.46,
          17.26,
          20.69,
          14.07,
          10.33,
          16.29,
          16.97,
          17.46,
          13.94,
          9.68,
          30.4,
          18.29,
          22.23,
          32.4,
          13.13,
          29.93,
          25.71,
          23.95,
          38.07,
          28.55,
          18.04,
          12.54,
          10.29,
          34.81,
          9.94,
          25.56,
          19.49,
          17.31,
          24.55,
          19.77,
          29.85,
          40.55,
          23.17,
          45.35,
          23.33,
          34.65,
          34.63,
          9.6,
          14.48,
          17.89,
          32.9,
          16.82,
          31.85,
          7.25,
          31.71,
          20.76,
          24.52,
          17.51,
          13.81,
          16.21,
          12.66,
          21.5,
          16.49,
          13.39,
          25,
          48.17,
          20.9,
          16.99
         ],
         "xaxis": "x",
         "y": [
          4,
          1.5,
          3.92,
          5,
          3.02,
          3,
          1.57,
          1.71,
          3.31,
          1.96,
          3.12,
          2,
          4.71,
          3.5,
          3.61,
          3.5,
          1.66,
          3.23,
          2,
          2.74,
          5,
          2.5,
          1.67,
          3.71,
          3.5,
          2.54,
          3.06,
          1.32,
          5.6,
          3,
          5,
          6,
          2,
          5.07,
          4,
          2.55,
          4,
          2.05,
          3,
          2.5,
          2.6,
          5.2,
          1.56,
          4.34,
          3.51,
          3.5,
          2,
          2,
          5.14,
          3,
          6.5,
          3.5,
          5.65,
          3.68,
          3.55,
          4,
          2,
          2,
          3.11,
          4,
          3.18,
          5.15,
          4.5,
          2.24,
          3.48,
          3,
          2,
          2,
          2.5,
          3.5,
          2,
          2.61,
          3.75,
          5,
          3.5,
          1.01
         ],
         "yaxis": "y"
        },
        {
         "hovertemplate": "<b>OLS trendline</b><br>Tip = 0.0701535 * Bill + 1.75314<br>R<sup>2</sup>=0.251756<br><br>Day=Sun<br>Bill=%{x}<br>Tip=%{y} <b>(trend)</b><extra></extra>",
         "legendgroup": "Sun",
         "marker": {
          "color": "#ab63fa",
          "symbol": "circle"
         },
         "mode": "lines",
         "name": "Sun",
         "showlegend": false,
         "type": "scatter",
         "x": [
          7.25,
          8.77,
          9.6,
          9.68,
          9.94,
          10.27,
          10.29,
          10.33,
          10.34,
          12.54,
          12.66,
          13.13,
          13.39,
          13.81,
          13.94,
          14.07,
          14.48,
          14.78,
          14.83,
          15.04,
          15.42,
          15.69,
          16.21,
          16.29,
          16.49,
          16.82,
          16.97,
          16.99,
          17.26,
          17.31,
          17.46,
          17.51,
          17.89,
          18.04,
          18.15,
          18.29,
          18.43,
          19.49,
          19.77,
          20.69,
          20.76,
          20.9,
          21.01,
          21.5,
          21.58,
          22.23,
          23.1,
          23.17,
          23.33,
          23.68,
          23.95,
          24.52,
          24.55,
          24.59,
          25,
          25.29,
          25.56,
          25.71,
          26.88,
          28.55,
          29.85,
          29.93,
          30.4,
          30.46,
          31.71,
          31.85,
          32.4,
          32.9,
          34.63,
          34.65,
          34.81,
          35.26,
          38.07,
          40.55,
          45.35,
          48.17
         ],
         "xaxis": "x",
         "y": [
          2.2617575891083836,
          2.368390955249292,
          2.426618385444656,
          2.4322306678731245,
          2.4504705857656486,
          2.4736212507830824,
          2.4750243213901997,
          2.477830462604434,
          2.4785319979079925,
          2.6328697646908856,
          2.641288188333589,
          2.6742603476008435,
          2.6925002654933667,
          2.7219647482428284,
          2.73108470718909,
          2.740204666135352,
          2.768967613581255,
          2.790013672688013,
          2.7935213492058057,
          2.8082535905805366,
          2.8349119321157636,
          2.853853385311846,
          2.8903332210968937,
          2.895945503525362,
          2.9099762095965342,
          2.9331268746139685,
          2.943649904167347,
          2.9450529747744643,
          2.963994427970547,
          2.96750210448834,
          2.9780251340417188,
          2.981532810559512,
          3.0081911520947386,
          3.018714181648118,
          3.0264310699872627,
          3.036252564237083,
          3.0460740584869033,
          3.120436800664115,
          3.1400797891637566,
          3.2046210370911483,
          3.2095317842160584,
          3.2193532784658787,
          3.2270701668050235,
          3.2614453966793953,
          3.2670576791078636,
          3.312657473839173,
          3.373691045248772,
          3.378601792373682,
          3.3898263572306195,
          3.414380092855171,
          3.433321546051253,
          3.4733090583540935,
          3.4754136642647695,
          3.4782198054790037,
          3.5069827529249062,
          3.527327276728106,
          3.546268729924188,
          3.5567917594775675,
          3.6388713899939242,
          3.756027785688211,
          3.8472273751508297,
          3.8528396575792985,
          3.885811816846553,
          3.8900210286679044,
          3.97771294161273,
          3.9875344358625506,
          4.0261188775582735,
          4.0611956427362035,
          4.182561250251842,
          4.183964320858959,
          4.195188885715897,
          4.226757974376035,
          4.423889394676003,
          4.597870149958537,
          4.934607095666666,
          5.132440051270192
         ],
         "yaxis": "y"
        }
       ],
       "layout": {
        "autosize": true,
        "legend": {
         "itemsizing": "constant",
         "title": {
          "text": "Day"
         },
         "tracegroupgap": 0
        },
        "margin": {
         "t": 60
        },
        "template": {
         "data": {
          "bar": [
           {
            "error_x": {
             "color": "#2a3f5f"
            },
            "error_y": {
             "color": "#2a3f5f"
            },
            "marker": {
             "line": {
              "color": "#E5ECF6",
              "width": 0.5
             },
             "pattern": {
              "fillmode": "overlay",
              "size": 10,
              "solidity": 0.2
             }
            },
            "type": "bar"
           }
          ],
          "barpolar": [
           {
            "marker": {
             "line": {
              "color": "#E5ECF6",
              "width": 0.5
             },
             "pattern": {
              "fillmode": "overlay",
              "size": 10,
              "solidity": 0.2
             }
            },
            "type": "barpolar"
           }
          ],
          "carpet": [
           {
            "aaxis": {
             "endlinecolor": "#2a3f5f",
             "gridcolor": "white",
             "linecolor": "white",
             "minorgridcolor": "white",
             "startlinecolor": "#2a3f5f"
            },
            "baxis": {
             "endlinecolor": "#2a3f5f",
             "gridcolor": "white",
             "linecolor": "white",
             "minorgridcolor": "white",
             "startlinecolor": "#2a3f5f"
            },
            "type": "carpet"
           }
          ],
          "choropleth": [
           {
            "colorbar": {
             "outlinewidth": 0,
             "ticks": ""
            },
            "type": "choropleth"
           }
          ],
          "contour": [
           {
            "colorbar": {
             "outlinewidth": 0,
             "ticks": ""
            },
            "colorscale": [
             [
              0,
              "#0d0887"
             ],
             [
              0.1111111111111111,
              "#46039f"
             ],
             [
              0.2222222222222222,
              "#7201a8"
             ],
             [
              0.3333333333333333,
              "#9c179e"
             ],
             [
              0.4444444444444444,
              "#bd3786"
             ],
             [
              0.5555555555555556,
              "#d8576b"
             ],
             [
              0.6666666666666666,
              "#ed7953"
             ],
             [
              0.7777777777777778,
              "#fb9f3a"
             ],
             [
              0.8888888888888888,
              "#fdca26"
             ],
             [
              1,
              "#f0f921"
             ]
            ],
            "type": "contour"
           }
          ],
          "contourcarpet": [
           {
            "colorbar": {
             "outlinewidth": 0,
             "ticks": ""
            },
            "type": "contourcarpet"
           }
          ],
          "heatmap": [
           {
            "colorbar": {
             "outlinewidth": 0,
             "ticks": ""
            },
            "colorscale": [
             [
              0,
              "#0d0887"
             ],
             [
              0.1111111111111111,
              "#46039f"
             ],
             [
              0.2222222222222222,
              "#7201a8"
             ],
             [
              0.3333333333333333,
              "#9c179e"
             ],
             [
              0.4444444444444444,
              "#bd3786"
             ],
             [
              0.5555555555555556,
              "#d8576b"
             ],
             [
              0.6666666666666666,
              "#ed7953"
             ],
             [
              0.7777777777777778,
              "#fb9f3a"
             ],
             [
              0.8888888888888888,
              "#fdca26"
             ],
             [
              1,
              "#f0f921"
             ]
            ],
            "type": "heatmap"
           }
          ],
          "heatmapgl": [
           {
            "colorbar": {
             "outlinewidth": 0,
             "ticks": ""
            },
            "colorscale": [
             [
              0,
              "#0d0887"
             ],
             [
              0.1111111111111111,
              "#46039f"
             ],
             [
              0.2222222222222222,
              "#7201a8"
             ],
             [
              0.3333333333333333,
              "#9c179e"
             ],
             [
              0.4444444444444444,
              "#bd3786"
             ],
             [
              0.5555555555555556,
              "#d8576b"
             ],
             [
              0.6666666666666666,
              "#ed7953"
             ],
             [
              0.7777777777777778,
              "#fb9f3a"
             ],
             [
              0.8888888888888888,
              "#fdca26"
             ],
             [
              1,
              "#f0f921"
             ]
            ],
            "type": "heatmapgl"
           }
          ],
          "histogram": [
           {
            "marker": {
             "pattern": {
              "fillmode": "overlay",
              "size": 10,
              "solidity": 0.2
             }
            },
            "type": "histogram"
           }
          ],
          "histogram2d": [
           {
            "colorbar": {
             "outlinewidth": 0,
             "ticks": ""
            },
            "colorscale": [
             [
              0,
              "#0d0887"
             ],
             [
              0.1111111111111111,
              "#46039f"
             ],
             [
              0.2222222222222222,
              "#7201a8"
             ],
             [
              0.3333333333333333,
              "#9c179e"
             ],
             [
              0.4444444444444444,
              "#bd3786"
             ],
             [
              0.5555555555555556,
              "#d8576b"
             ],
             [
              0.6666666666666666,
              "#ed7953"
             ],
             [
              0.7777777777777778,
              "#fb9f3a"
             ],
             [
              0.8888888888888888,
              "#fdca26"
             ],
             [
              1,
              "#f0f921"
             ]
            ],
            "type": "histogram2d"
           }
          ],
          "histogram2dcontour": [
           {
            "colorbar": {
             "outlinewidth": 0,
             "ticks": ""
            },
            "colorscale": [
             [
              0,
              "#0d0887"
             ],
             [
              0.1111111111111111,
              "#46039f"
             ],
             [
              0.2222222222222222,
              "#7201a8"
             ],
             [
              0.3333333333333333,
              "#9c179e"
             ],
             [
              0.4444444444444444,
              "#bd3786"
             ],
             [
              0.5555555555555556,
              "#d8576b"
             ],
             [
              0.6666666666666666,
              "#ed7953"
             ],
             [
              0.7777777777777778,
              "#fb9f3a"
             ],
             [
              0.8888888888888888,
              "#fdca26"
             ],
             [
              1,
              "#f0f921"
             ]
            ],
            "type": "histogram2dcontour"
           }
          ],
          "mesh3d": [
           {
            "colorbar": {
             "outlinewidth": 0,
             "ticks": ""
            },
            "type": "mesh3d"
           }
          ],
          "parcoords": [
           {
            "line": {
             "colorbar": {
              "outlinewidth": 0,
              "ticks": ""
             }
            },
            "type": "parcoords"
           }
          ],
          "pie": [
           {
            "automargin": true,
            "type": "pie"
           }
          ],
          "scatter": [
           {
            "fillpattern": {
             "fillmode": "overlay",
             "size": 10,
             "solidity": 0.2
            },
            "type": "scatter"
           }
          ],
          "scatter3d": [
           {
            "line": {
             "colorbar": {
              "outlinewidth": 0,
              "ticks": ""
             }
            },
            "marker": {
             "colorbar": {
              "outlinewidth": 0,
              "ticks": ""
             }
            },
            "type": "scatter3d"
           }
          ],
          "scattercarpet": [
           {
            "marker": {
             "colorbar": {
              "outlinewidth": 0,
              "ticks": ""
             }
            },
            "type": "scattercarpet"
           }
          ],
          "scattergeo": [
           {
            "marker": {
             "colorbar": {
              "outlinewidth": 0,
              "ticks": ""
             }
            },
            "type": "scattergeo"
           }
          ],
          "scattergl": [
           {
            "marker": {
             "colorbar": {
              "outlinewidth": 0,
              "ticks": ""
             }
            },
            "type": "scattergl"
           }
          ],
          "scattermapbox": [
           {
            "marker": {
             "colorbar": {
              "outlinewidth": 0,
              "ticks": ""
             }
            },
            "type": "scattermapbox"
           }
          ],
          "scatterpolar": [
           {
            "marker": {
             "colorbar": {
              "outlinewidth": 0,
              "ticks": ""
             }
            },
            "type": "scatterpolar"
           }
          ],
          "scatterpolargl": [
           {
            "marker": {
             "colorbar": {
              "outlinewidth": 0,
              "ticks": ""
             }
            },
            "type": "scatterpolargl"
           }
          ],
          "scatterternary": [
           {
            "marker": {
             "colorbar": {
              "outlinewidth": 0,
              "ticks": ""
             }
            },
            "type": "scatterternary"
           }
          ],
          "surface": [
           {
            "colorbar": {
             "outlinewidth": 0,
             "ticks": ""
            },
            "colorscale": [
             [
              0,
              "#0d0887"
             ],
             [
              0.1111111111111111,
              "#46039f"
             ],
             [
              0.2222222222222222,
              "#7201a8"
             ],
             [
              0.3333333333333333,
              "#9c179e"
             ],
             [
              0.4444444444444444,
              "#bd3786"
             ],
             [
              0.5555555555555556,
              "#d8576b"
             ],
             [
              0.6666666666666666,
              "#ed7953"
             ],
             [
              0.7777777777777778,
              "#fb9f3a"
             ],
             [
              0.8888888888888888,
              "#fdca26"
             ],
             [
              1,
              "#f0f921"
             ]
            ],
            "type": "surface"
           }
          ],
          "table": [
           {
            "cells": {
             "fill": {
              "color": "#EBF0F8"
             },
             "line": {
              "color": "white"
             }
            },
            "header": {
             "fill": {
              "color": "#C8D4E3"
             },
             "line": {
              "color": "white"
             }
            },
            "type": "table"
           }
          ]
         },
         "layout": {
          "annotationdefaults": {
           "arrowcolor": "#2a3f5f",
           "arrowhead": 0,
           "arrowwidth": 1
          },
          "autotypenumbers": "strict",
          "coloraxis": {
           "colorbar": {
            "outlinewidth": 0,
            "ticks": ""
           }
          },
          "colorscale": {
           "diverging": [
            [
             0,
             "#8e0152"
            ],
            [
             0.1,
             "#c51b7d"
            ],
            [
             0.2,
             "#de77ae"
            ],
            [
             0.3,
             "#f1b6da"
            ],
            [
             0.4,
             "#fde0ef"
            ],
            [
             0.5,
             "#f7f7f7"
            ],
            [
             0.6,
             "#e6f5d0"
            ],
            [
             0.7,
             "#b8e186"
            ],
            [
             0.8,
             "#7fbc41"
            ],
            [
             0.9,
             "#4d9221"
            ],
            [
             1,
             "#276419"
            ]
           ],
           "sequential": [
            [
             0,
             "#0d0887"
            ],
            [
             0.1111111111111111,
             "#46039f"
            ],
            [
             0.2222222222222222,
             "#7201a8"
            ],
            [
             0.3333333333333333,
             "#9c179e"
            ],
            [
             0.4444444444444444,
             "#bd3786"
            ],
            [
             0.5555555555555556,
             "#d8576b"
            ],
            [
             0.6666666666666666,
             "#ed7953"
            ],
            [
             0.7777777777777778,
             "#fb9f3a"
            ],
            [
             0.8888888888888888,
             "#fdca26"
            ],
            [
             1,
             "#f0f921"
            ]
           ],
           "sequentialminus": [
            [
             0,
             "#0d0887"
            ],
            [
             0.1111111111111111,
             "#46039f"
            ],
            [
             0.2222222222222222,
             "#7201a8"
            ],
            [
             0.3333333333333333,
             "#9c179e"
            ],
            [
             0.4444444444444444,
             "#bd3786"
            ],
            [
             0.5555555555555556,
             "#d8576b"
            ],
            [
             0.6666666666666666,
             "#ed7953"
            ],
            [
             0.7777777777777778,
             "#fb9f3a"
            ],
            [
             0.8888888888888888,
             "#fdca26"
            ],
            [
             1,
             "#f0f921"
            ]
           ]
          },
          "colorway": [
           "#636efa",
           "#EF553B",
           "#00cc96",
           "#ab63fa",
           "#FFA15A",
           "#19d3f3",
           "#FF6692",
           "#B6E880",
           "#FF97FF",
           "#FECB52"
          ],
          "font": {
           "color": "#2a3f5f"
          },
          "geo": {
           "bgcolor": "white",
           "lakecolor": "white",
           "landcolor": "#E5ECF6",
           "showlakes": true,
           "showland": true,
           "subunitcolor": "white"
          },
          "hoverlabel": {
           "align": "left"
          },
          "hovermode": "closest",
          "mapbox": {
           "style": "light"
          },
          "paper_bgcolor": "white",
          "plot_bgcolor": "#E5ECF6",
          "polar": {
           "angularaxis": {
            "gridcolor": "white",
            "linecolor": "white",
            "ticks": ""
           },
           "bgcolor": "#E5ECF6",
           "radialaxis": {
            "gridcolor": "white",
            "linecolor": "white",
            "ticks": ""
           }
          },
          "scene": {
           "xaxis": {
            "backgroundcolor": "#E5ECF6",
            "gridcolor": "white",
            "gridwidth": 2,
            "linecolor": "white",
            "showbackground": true,
            "ticks": "",
            "zerolinecolor": "white"
           },
           "yaxis": {
            "backgroundcolor": "#E5ECF6",
            "gridcolor": "white",
            "gridwidth": 2,
            "linecolor": "white",
            "showbackground": true,
            "ticks": "",
            "zerolinecolor": "white"
           },
           "zaxis": {
            "backgroundcolor": "#E5ECF6",
            "gridcolor": "white",
            "gridwidth": 2,
            "linecolor": "white",
            "showbackground": true,
            "ticks": "",
            "zerolinecolor": "white"
           }
          },
          "shapedefaults": {
           "line": {
            "color": "#2a3f5f"
           }
          },
          "ternary": {
           "aaxis": {
            "gridcolor": "white",
            "linecolor": "white",
            "ticks": ""
           },
           "baxis": {
            "gridcolor": "white",
            "linecolor": "white",
            "ticks": ""
           },
           "bgcolor": "#E5ECF6",
           "caxis": {
            "gridcolor": "white",
            "linecolor": "white",
            "ticks": ""
           }
          },
          "title": {
           "x": 0.05
          },
          "xaxis": {
           "automargin": true,
           "gridcolor": "white",
           "linecolor": "white",
           "ticks": "",
           "title": {
            "standoff": 15
           },
           "zerolinecolor": "white",
           "zerolinewidth": 2
          },
          "yaxis": {
           "automargin": true,
           "gridcolor": "white",
           "linecolor": "white",
           "ticks": "",
           "title": {
            "standoff": 15
           },
           "zerolinecolor": "white",
           "zerolinewidth": 2
          }
         }
        },
        "xaxis": {
         "anchor": "y",
         "autorange": true,
         "domain": [
          0,
          1
         ],
         "range": [
          -0.8043922865773547,
          54.06225140195058
         ],
         "title": {
          "text": "Bill"
         },
         "type": "linear"
        },
        "yaxis": {
         "anchor": "x",
         "autorange": true,
         "domain": [
          0,
          1
         ],
         "range": [
          -0.3370758589119962,
          10.91096567134329
         ],
         "title": {
          "text": "Tip"
         },
         "type": "linear"
        }
       }
      },
      "image/png": "[encoded data removed]",
      "text/html": [
       "<div>                            <div id=\"4da56844-1416-40cf-998c-f501a97e9f8b\" class=\"plotly-graph-div\" style=\"height:525px; width:100%;\"></div>            <script type=\"text/javascript\">                require([\"plotly\"], function(Plotly) {                    window.PLOTLYENV=window.PLOTLYENV || {};                                    if (document.getElementById(\"4da56844-1416-40cf-998c-f501a97e9f8b\")) {                    Plotly.newPlot(                        \"4da56844-1416-40cf-998c-f501a97e9f8b\",                        [{\"hovertemplate\":\"Day=Thur<br>Bill=%{x}<br>Tip=%{y}<br>PctTips_Guest=%{marker.size}<extra></extra>\",\"legendgroup\":\"Thur\",\"marker\":{\"color\":\"#636efa\",\"size\":[6.2,8.2,6.7,7.0,4.0,3.2,8.8,6.9,8.7,2.4,10.1,6.2,8.8,9.9,3.0,7.2,7.0,7.1,11.8,11.0,7.6,3.7,6.4,7.6,18.2,10.2,7.7,7.8,8.9,6.6,7.4,7.0,6.5,4.9,7.6,7.7,7.9,7.1,7.4,7.7,2.9,9.6,9.5,12.0,6.5,4.5,10.6,13.3,8.8,6.8,2.4,9.0,7.0,3.1,2.4,3.2,10.0,10.4,6.2,9.7,3.7,8.0],\"sizemode\":\"area\",\"sizeref\":0.08875,\"symbol\":\"circle\"},\"mode\":\"markers\",\"name\":\"Thur\",\"orientation\":\"v\",\"showlegend\":true,\"x\":[13.42,12.26,11.17,20.27,19.08,22.82,11.38,14.52,8.52,29.8,12.48,15.95,14.26,11.69,24.08,12.43,10.65,21.16,24.71,18.28,13.03,34.83,15.98,32.68,10.07,16.66,19.44,17.29,18.26,22.76,8.51,14.15,16.47,20.53,16.4,13.0,12.74,18.71,13.51,13.0,43.11,10.34,7.56,16.58,15.48,28.44,19.81,7.51,9.78,11.87,18.64,8.35,16.43,27.05,41.19,34.3,17.47,13.16,16.0,10.33,27.2,18.78],\"xaxis\":\"x\",\"y\":[1.68,2.0,1.5,2.83,1.5,2.18,2.0,2.0,1.48,4.2,2.52,2.0,2.5,2.31,2.92,1.8,1.5,3.0,5.85,4.0,2.0,5.17,2.03,5.0,1.83,3.4,3.0,2.71,3.25,3.0,1.25,2.0,3.23,4.0,2.5,2.0,2.01,4.0,2.0,2.0,5.0,2.0,1.44,4.0,2.02,2.56,4.19,2.0,1.73,1.63,1.36,1.5,2.3,5.0,5.0,6.7,3.5,2.75,2.0,2.0,4.0,3.0],\"yaxis\":\"y\",\"type\":\"scatter\"},{\"hovertemplate\":\"<b>OLS trendline</b><br>Tip = 0.127764 * Bill + 0.512242<br>R<sup>2</sup>=0.660004<br><br>Day=Thur<br>Bill=%{x}<br>Tip=%{y} <b>(trend)</b><extra></extra>\",\"legendgroup\":\"Thur\",\"marker\":{\"color\":\"#636efa\",\"symbol\":\"circle\"},\"mode\":\"lines\",\"name\":\"Thur\",\"showlegend\":false,\"x\":[7.51,7.56,8.35,8.51,8.52,9.78,10.07,10.33,10.34,10.65,11.17,11.38,11.69,11.87,12.26,12.43,12.48,12.74,13.0,13.0,13.03,13.16,13.42,13.51,14.15,14.26,14.52,15.48,15.95,15.98,16.0,16.4,16.43,16.47,16.58,16.66,17.29,17.47,18.26,18.28,18.64,18.71,18.78,19.08,19.44,19.81,20.27,20.53,21.16,22.76,22.82,24.08,24.71,27.05,27.2,28.44,29.8,32.68,34.3,34.83,41.19,43.11],\"xaxis\":\"x\",\"y\":[1.4717459505375865,1.4781341282315084,1.5790673357954743,1.5995095044160244,1.600787139954809,1.7617692178416409,1.7988206484663878,1.832039172474782,1.8333168080135662,1.872923509715882,1.9393605577326696,1.9661909040471417,2.0057976057494575,2.028795045447576,2.078622831460167,2.1003426356195014,2.1067308133134235,2.1399493373218172,2.1731678613302114,2.1731678613302114,2.177000767946564,2.1936100299507615,2.2268285539591552,2.2383272738082147,2.320095948290415,2.3341499392170433,2.367368463225437,2.4900214749487377,2.550070345271603,2.5539032518879563,2.5564585229655252,2.6075639445169,2.6113968511332537,2.616507393288391,2.630561384215019,2.6407824685252943,2.72127350746871,2.744270947166829,2.845204154730795,2.847759425808364,2.8937543052046015,2.9026977539760925,2.911641202747583,2.9499702689111142,2.995965148307352,3.043237663242374,3.1020088980264555,3.1352274220348497,3.2157184609782656,3.4201401471837665,3.4278059604164723,3.588788038303304,3.6692790772467205,3.9682457933222652,3.987410326404031,4.145837133213295,4.31959556648797,4.6875546016578715,4.89453155894094,4.962246242496513,5.7748224451633785,6.02012846860998],\"yaxis\":\"y\",\"type\":\"scatter\"},{\"hovertemplate\":\"Day=Fri<br>Bill=%{x}<br>Tip=%{y}<br>PctTips_Guest=%{marker.size}<extra></extra>\",\"legendgroup\":\"Fri\",\"marker\":{\"color\":\"#EF553B\",\"size\":[22.4,5.2,7.7,8.7,13.2,7.2,3.0,13.0,7.4,7.2,6.0,11.0,9.8,6.3,9.9,6.2,9.0,7.8,5.9],\"sizemode\":\"area\",\"sizeref\":0.08875,\"symbol\":\"circle\"},\"mode\":\"markers\",\"name\":\"Fri\",\"orientation\":\"v\",\"showlegend\":true,\"x\":[8.58,28.97,16.27,5.75,16.32,22.75,40.17,13.42,27.28,21.01,12.46,11.35,15.38,15.98,10.09,12.03,12.16,22.49,13.42],\"xaxis\":\"x\",\"y\":[1.92,3.0,2.5,1.0,4.3,3.25,4.73,3.48,4.0,3.0,1.5,2.5,3.0,3.0,2.0,1.5,2.2,3.5,1.58],\"yaxis\":\"y\",\"type\":\"scatter\"},{\"hovertemplate\":\"<b>OLS trendline</b><br>Tip = 0.0947944 * Bill + 1.10886<br>R<sup>2</sup>=0.595882<br><br>Day=Fri<br>Bill=%{x}<br>Tip=%{y} <b>(trend)</b><extra></extra>\",\"legendgroup\":\"Fri\",\"marker\":{\"color\":\"#EF553B\",\"symbol\":\"circle\"},\"mode\":\"lines\",\"name\":\"Fri\",\"showlegend\":false,\"x\":[5.75,8.58,10.09,11.35,12.03,12.16,12.46,13.42,13.42,15.38,15.98,16.27,16.32,21.01,22.49,22.75,27.28,28.97,40.17],\"xaxis\":\"x\",\"y\":[1.6539304698505815,1.9221987551117836,2.0653383702158172,2.18477937354766,2.2492395975680193,2.2615628756895587,2.290001209816188,2.3810038790214016,2.3810038790214016,2.566800995315379,2.6236776635686376,2.651168053224379,2.655907775578817,3.1004937324251207,3.240789514116491,3.26543607035957,3.6948549156716712,3.855057531251683,4.9167553386458405],\"yaxis\":\"y\",\"type\":\"scatter\"},{\"hovertemplate\":\"Day=Sat<br>Bill=%{x}<br>Tip=%{y}<br>PctTips_Guest=%{marker.size}<extra></extra>\",\"legendgroup\":\"Sat\",\"marker\":{\"color\":\"#00cc96\",\"size\":[7.5,7.9,9.9,7.6,7.6,3.4,10.0,3.0,9.2,5.0,4.1,6.0,4.1,5.3,4.7,6.6,10.0,3.3,9.4,9.3,4.3,2.6,7.2,2.1,5.4,11.4,6.8,7.0,4.8,6.4,8.0,7.7,9.4,4.6,5.0,2.2,8.8,4.2,1.9,4.2,7.6,9.0,3.7,4.4,2.0,2.8,7.8,3.5,7.9,4.9,6.0,7.4,3.7,9.9,5.9,8.2,7.0,5.0,32.6,7.5,5.2,5.0,5.2,5.8,6.8,8.6,1.8,10.2,6.5,2.1,4.3,6.4,14.6,13.8,10.7,14.0,6.8,8.5,4.0,6.2,9.6,10.3,1.9,9.8,5.4,9.9,7.8],\"sizemode\":\"area\",\"sizeref\":0.08875,\"symbol\":\"circle\"},\"mode\":\"markers\",\"name\":\"Sat\",\"orientation\":\"v\",\"showlegend\":true,\"x\":[13.37,12.69,21.7,19.65,9.55,18.35,15.06,20.69,17.78,24.06,16.31,16.93,18.69,31.27,16.04,50.81,15.81,17.81,10.63,7.74,26.59,30.14,13.81,28.15,20.65,17.92,20.29,15.77,39.42,11.59,19.82,28.17,13.27,48.33,25.89,30.06,12.76,24.27,38.73,12.9,10.59,11.02,20.45,22.67,38.01,26.41,11.24,48.27,20.29,17.82,10.51,14.73,27.18,25.28,17.07,12.02,15.01,20.23,3.07,16.45,20.08,17.59,18.29,26.86,29.03,17.92,32.83,13.28,22.12,24.01,35.83,15.69,11.61,7.25,14.0,14.31,10.77,25.21,12.6,10.07,15.53,18.24,44.3,20.92,15.36,20.49,22.42],\"xaxis\":\"x\",\"y\":[2.0,2.0,4.3,3.0,1.45,2.5,3.0,2.45,3.27,3.6,2.0,3.07,2.31,5.0,2.24,10.0,3.16,2.34,2.0,1.44,3.41,3.09,2.0,3.0,3.35,4.08,2.75,2.23,7.58,1.5,3.18,6.5,2.5,9.0,5.16,2.0,2.23,2.03,3.0,1.1,1.61,1.98,3.0,2.0,3.0,1.5,1.76,6.73,3.21,1.75,1.25,2.2,2.0,5.0,3.0,1.97,2.09,2.01,1.0,2.47,3.15,2.64,3.76,3.14,5.92,3.08,1.17,2.72,2.88,2.0,4.67,3.0,3.39,1.0,3.0,4.0,1.47,4.29,1.0,1.25,3.0,3.76,2.5,4.08,1.64,4.06,3.48],\"yaxis\":\"y\",\"type\":\"scatter\"},{\"hovertemplate\":\"<b>OLS trendline</b><br>Tip = 0.121053 * Bill + 0.518611<br>R<sup>2</sup>=0.495098<br><br>Day=Sat<br>Bill=%{x}<br>Tip=%{y} <b>(trend)</b><extra></extra>\",\"legendgroup\":\"Sat\",\"marker\":{\"color\":\"#00cc96\",\"symbol\":\"circle\"},\"mode\":\"lines\",\"name\":\"Sat\",\"showlegend\":false,\"x\":[3.07,7.25,7.74,9.55,10.07,10.51,10.59,10.63,10.77,11.02,11.24,11.59,11.61,12.02,12.6,12.69,12.76,12.9,13.27,13.28,13.37,13.81,14.0,14.31,14.73,15.01,15.06,15.36,15.53,15.69,15.77,15.81,16.04,16.31,16.45,16.93,17.07,17.59,17.78,17.81,17.82,17.92,17.92,18.24,18.29,18.35,18.69,19.65,19.82,20.08,20.23,20.29,20.29,20.45,20.49,20.65,20.69,20.92,21.7,22.12,22.42,22.67,24.01,24.06,24.27,25.21,25.28,25.89,26.41,26.59,26.86,27.18,28.15,28.17,29.03,30.06,30.14,31.27,32.83,35.83,38.01,38.73,39.42,44.3,48.27,48.33,50.81],\"xaxis\":\"x\",\"y\":[0.8902441135096938,1.396246075834475,1.455562095341447,1.6746682082141393,1.7376158207521506,1.7908791852073906,1.8005634332901614,1.805405557331547,1.822352991476396,1.8526162667350552,1.8792479489626754,1.921616534324798,1.9240375963454905,1.9736693677696917,2.043880166369781,2.0547749454628983,2.063248662535323,2.0801960966801722,2.124985744062988,2.126196275073334,2.137091054166451,2.1903544186216917,2.2133545078182726,2.25088096913901,2.3017232715735574,2.3356181398632554,2.3416707949149873,2.3779867252253784,2.3985657524012662,2.4179342485668083,2.427618496649579,2.4324606206909647,2.4603028339289312,2.492987171208283,2.509934605353132,2.5680400938497576,2.584987527994607,2.647935140532618,2.670935229729199,2.6745668227602377,2.6757773537705845,2.6878826638740483,2.6878826638740483,2.7266196562051315,2.7326723112568634,2.739935497318942,2.7810935516707183,2.897304528663969,2.9178835558398575,2.949357362108863,2.9675153272640586,2.974778513326137,2.974778513326137,2.9941470094916784,2.998989133533064,3.0183576296986057,3.0231997537399917,3.0510419669779583,3.1454633857849745,3.196305688219522,3.232621618529913,3.262884893788572,3.4250960491749853,3.431148704226717,3.4565698554439908,3.570359770416549,3.578833487488974,3.652675879120102,3.7156234916581132,3.737413049844348,3.7700973871236996,3.808834379454783,3.926255887458381,3.928676949479074,4.032782616368862,4.157467310434537,4.1671515585173085,4.303941562686448,4.49278440030048,4.855943703404391,5.119839463659899,5.206997696404836,5.290524336118737,5.881263469167763,6.361844280275271,6.369107466337349,6.669319156903248],\"yaxis\":\"y\",\"type\":\"scatter\"},{\"hovertemplate\":\"Day=Sun<br>Bill=%{x}<br>Tip=%{y}<br>PctTips_Guest=%{marker.size}<extra></extra>\",\"legendgroup\":\"Sun\",\"marker\":{\"color\":\"#ab63fa\",\"size\":[5.8,4.8,9.1,3.6,10.2,4.1,5.1,8.4,7.0,6.5,2.9,11.4,4.6,6.4,3.7,5.6,5.4,11.0,1.3,5.3,4.8,8.9,5.4,7.6,6.9,7.2,11.0,6.8,4.6,8.2,11.2,4.6,7.6,4.2,5.2,5.3,3.5,2.4,8.3,10.0,12.6,3.7,7.8,4.2,9.0,10.1,2.0,2.5,3.4,3.7,7.0,2.6,12.1,2.6,5.2,20.8,6.9,5.6,4.8,11.9,5.0,35.5,3.6,5.4,4.7,8.6,7.2,4.1,9.8,4.1,3.0,9.8,3.8,1.7,5.6,3.0],\"sizemode\":\"area\",\"sizeref\":0.08875,\"symbol\":\"circle\"},\"mode\":\"markers\",\"name\":\"Sun\",\"orientation\":\"v\",\"showlegend\":true,\"x\":[23.1,15.69,21.58,35.26,14.83,18.43,15.42,10.27,23.68,15.04,26.88,8.77,25.29,18.15,24.59,21.01,10.34,14.78,30.46,17.26,20.69,14.07,10.33,16.29,16.97,17.46,13.94,9.68,30.4,18.29,22.23,32.4,13.13,29.93,25.71,23.95,38.07,28.55,18.04,12.54,10.29,34.81,9.94,25.56,19.49,17.31,24.55,19.77,29.85,40.55,23.17,45.35,23.33,34.65,34.63,9.6,14.48,17.89,32.9,16.82,31.85,7.25,31.71,20.76,24.52,17.51,13.81,16.21,12.66,21.5,16.49,13.39,25.0,48.17,20.9,16.99],\"xaxis\":\"x\",\"y\":[4.0,1.5,3.92,5.0,3.02,3.0,1.57,1.71,3.31,1.96,3.12,2.0,4.71,3.5,3.61,3.5,1.66,3.23,2.0,2.74,5.0,2.5,1.67,3.71,3.5,2.54,3.06,1.32,5.6,3.0,5.0,6.0,2.0,5.07,4.0,2.55,4.0,2.05,3.0,2.5,2.6,5.2,1.56,4.34,3.51,3.5,2.0,2.0,5.14,3.0,6.5,3.5,5.65,3.68,3.55,4.0,2.0,2.0,3.11,4.0,3.18,5.15,4.5,2.24,3.48,3.0,2.0,2.0,2.5,3.5,2.0,2.61,3.75,5.0,3.5,1.01],\"yaxis\":\"y\",\"type\":\"scatter\"},{\"hovertemplate\":\"<b>OLS trendline</b><br>Tip = 0.0701535 * Bill + 1.75314<br>R<sup>2</sup>=0.251756<br><br>Day=Sun<br>Bill=%{x}<br>Tip=%{y} <b>(trend)</b><extra></extra>\",\"legendgroup\":\"Sun\",\"marker\":{\"color\":\"#ab63fa\",\"symbol\":\"circle\"},\"mode\":\"lines\",\"name\":\"Sun\",\"showlegend\":false,\"x\":[7.25,8.77,9.6,9.68,9.94,10.27,10.29,10.33,10.34,12.54,12.66,13.13,13.39,13.81,13.94,14.07,14.48,14.78,14.83,15.04,15.42,15.69,16.21,16.29,16.49,16.82,16.97,16.99,17.26,17.31,17.46,17.51,17.89,18.04,18.15,18.29,18.43,19.49,19.77,20.69,20.76,20.9,21.01,21.5,21.58,22.23,23.1,23.17,23.33,23.68,23.95,24.52,24.55,24.59,25.0,25.29,25.56,25.71,26.88,28.55,29.85,29.93,30.4,30.46,31.71,31.85,32.4,32.9,34.63,34.65,34.81,35.26,38.07,40.55,45.35,48.17],\"xaxis\":\"x\",\"y\":[2.2617575891083836,2.368390955249292,2.426618385444656,2.4322306678731245,2.4504705857656486,2.4736212507830824,2.4750243213901997,2.477830462604434,2.4785319979079925,2.6328697646908856,2.641288188333589,2.6742603476008435,2.6925002654933667,2.7219647482428284,2.73108470718909,2.740204666135352,2.768967613581255,2.790013672688013,2.7935213492058057,2.8082535905805366,2.8349119321157636,2.853853385311846,2.8903332210968937,2.895945503525362,2.9099762095965342,2.9331268746139685,2.943649904167347,2.9450529747744643,2.963994427970547,2.96750210448834,2.9780251340417188,2.981532810559512,3.0081911520947386,3.018714181648118,3.0264310699872627,3.036252564237083,3.0460740584869033,3.120436800664115,3.1400797891637566,3.2046210370911483,3.2095317842160584,3.2193532784658787,3.2270701668050235,3.2614453966793953,3.2670576791078636,3.312657473839173,3.373691045248772,3.378601792373682,3.3898263572306195,3.414380092855171,3.433321546051253,3.4733090583540935,3.4754136642647695,3.4782198054790037,3.5069827529249062,3.527327276728106,3.546268729924188,3.5567917594775675,3.6388713899939242,3.756027785688211,3.8472273751508297,3.8528396575792985,3.885811816846553,3.8900210286679044,3.97771294161273,3.9875344358625506,4.0261188775582735,4.0611956427362035,4.182561250251842,4.183964320858959,4.195188885715897,4.226757974376035,4.423889394676003,4.597870149958537,4.934607095666666,5.132440051270192],\"yaxis\":\"y\",\"type\":\"scatter\"}],                        {\"template\":{\"data\":{\"histogram2dcontour\":[{\"type\":\"histogram2dcontour\",\"colorbar\":{\"outlinewidth\":0,\"ticks\":\"\"},\"colorscale\":[[0.0,\"#0d0887\"],[0.1111111111111111,\"#46039f\"],[0.2222222222222222,\"#7201a8\"],[0.3333333333333333,\"#9c179e\"],[0.4444444444444444,\"#bd3786\"],[0.5555555555555556,\"#d8576b\"],[0.6666666666666666,\"#ed7953\"],[0.7777777777777778,\"#fb9f3a\"],[0.8888888888888888,\"#fdca26\"],[1.0,\"#f0f921\"]]}],\"choropleth\":[{\"type\":\"choropleth\",\"colorbar\":{\"outlinewidth\":0,\"ticks\":\"\"}}],\"histogram2d\":[{\"type\":\"histogram2d\",\"colorbar\":{\"outlinewidth\":0,\"ticks\":\"\"},\"colorscale\":[[0.0,\"#0d0887\"],[0.1111111111111111,\"#46039f\"],[0.2222222222222222,\"#7201a8\"],[0.3333333333333333,\"#9c179e\"],[0.4444444444444444,\"#bd3786\"],[0.5555555555555556,\"#d8576b\"],[0.6666666666666666,\"#ed7953\"],[0.7777777777777778,\"#fb9f3a\"],[0.8888888888888888,\"#fdca26\"],[1.0,\"#f0f921\"]]}],\"heatmap\":[{\"type\":\"heatmap\",\"colorbar\":{\"outlinewidth\":0,\"ticks\":\"\"},\"colorscale\":[[0.0,\"#0d0887\"],[0.1111111111111111,\"#46039f\"],[0.2222222222222222,\"#7201a8\"],[0.3333333333333333,\"#9c179e\"],[0.4444444444444444,\"#bd3786\"],[0.5555555555555556,\"#d8576b\"],[0.6666666666666666,\"#ed7953\"],[0.7777777777777778,\"#fb9f3a\"],[0.8888888888888888,\"#fdca26\"],[1.0,\"#f0f921\"]]}],\"heatmapgl\":[{\"type\":\"heatmapgl\",\"colorbar\":{\"outlinewidth\":0,\"ticks\":\"\"},\"colorscale\":[[0.0,\"#0d0887\"],[0.1111111111111111,\"#46039f\"],[0.2222222222222222,\"#7201a8\"],[0.3333333333333333,\"#9c179e\"],[0.4444444444444444,\"#bd3786\"],[0.5555555555555556,\"#d8576b\"],[0.6666666666666666,\"#ed7953\"],[0.7777777777777778,\"#fb9f3a\"],[0.8888888888888888,\"#fdca26\"],[1.0,\"#f0f921\"]]}],\"contourcarpet\":[{\"type\":\"contourcarpet\",\"colorbar\":{\"outlinewidth\":0,\"ticks\":\"\"}}],\"contour\":[{\"type\":\"contour\",\"colorbar\":{\"outlinewidth\":0,\"ticks\":\"\"},\"colorscale\":[[0.0,\"#0d0887\"],[0.1111111111111111,\"#46039f\"],[0.2222222222222222,\"#7201a8\"],[0.3333333333333333,\"#9c179e\"],[0.4444444444444444,\"#bd3786\"],[0.5555555555555556,\"#d8576b\"],[0.6666666666666666,\"#ed7953\"],[0.7777777777777778,\"#fb9f3a\"],[0.8888888888888888,\"#fdca26\"],[1.0,\"#f0f921\"]]}],\"surface\":[{\"type\":\"surface\",\"colorbar\":{\"outlinewidth\":0,\"ticks\":\"\"},\"colorscale\":[[0.0,\"#0d0887\"],[0.1111111111111111,\"#46039f\"],[0.2222222222222222,\"#7201a8\"],[0.3333333333333333,\"#9c179e\"],[0.4444444444444444,\"#bd3786\"],[0.5555555555555556,\"#d8576b\"],[0.6666666666666666,\"#ed7953\"],[0.7777777777777778,\"#fb9f3a\"],[0.8888888888888888,\"#fdca26\"],[1.0,\"#f0f921\"]]}],\"mesh3d\":[{\"type\":\"mesh3d\",\"colorbar\":{\"outlinewidth\":0,\"ticks\":\"\"}}],\"scatter\":[{\"fillpattern\":{\"fillmode\":\"overlay\",\"size\":10,\"solidity\":0.2},\"type\":\"scatter\"}],\"parcoords\":[{\"type\":\"parcoords\",\"line\":{\"colorbar\":{\"outlinewidth\":0,\"ticks\":\"\"}}}],\"scatterpolargl\":[{\"type\":\"scatterpolargl\",\"marker\":{\"colorbar\":{\"outlinewidth\":0,\"ticks\":\"\"}}}],\"bar\":[{\"error_x\":{\"color\":\"#2a3f5f\"},\"error_y\":{\"color\":\"#2a3f5f\"},\"marker\":{\"line\":{\"color\":\"#E5ECF6\",\"width\":0.5},\"pattern\":{\"fillmode\":\"overlay\",\"size\":10,\"solidity\":0.2}},\"type\":\"bar\"}],\"scattergeo\":[{\"type\":\"scattergeo\",\"marker\":{\"colorbar\":{\"outlinewidth\":0,\"ticks\":\"\"}}}],\"scatterpolar\":[{\"type\":\"scatterpolar\",\"marker\":{\"colorbar\":{\"outlinewidth\":0,\"ticks\":\"\"}}}],\"histogram\":[{\"marker\":{\"pattern\":{\"fillmode\":\"overlay\",\"size\":10,\"solidity\":0.2}},\"type\":\"histogram\"}],\"scattergl\":[{\"type\":\"scattergl\",\"marker\":{\"colorbar\":{\"outlinewidth\":0,\"ticks\":\"\"}}}],\"scatter3d\":[{\"type\":\"scatter3d\",\"line\":{\"colorbar\":{\"outlinewidth\":0,\"ticks\":\"\"}},\"marker\":{\"colorbar\":{\"outlinewidth\":0,\"ticks\":\"\"}}}],\"scattermapbox\":[{\"type\":\"scattermapbox\",\"marker\":{\"colorbar\":{\"outlinewidth\":0,\"ticks\":\"\"}}}],\"scatterternary\":[{\"type\":\"scatterternary\",\"marker\":{\"colorbar\":{\"outlinewidth\":0,\"ticks\":\"\"}}}],\"scattercarpet\":[{\"type\":\"scattercarpet\",\"marker\":{\"colorbar\":{\"outlinewidth\":0,\"ticks\":\"\"}}}],\"carpet\":[{\"aaxis\":{\"endlinecolor\":\"#2a3f5f\",\"gridcolor\":\"white\",\"linecolor\":\"white\",\"minorgridcolor\":\"white\",\"startlinecolor\":\"#2a3f5f\"},\"baxis\":{\"endlinecolor\":\"#2a3f5f\",\"gridcolor\":\"white\",\"linecolor\":\"white\",\"minorgridcolor\":\"white\",\"startlinecolor\":\"#2a3f5f\"},\"type\":\"carpet\"}],\"table\":[{\"cells\":{\"fill\":{\"color\":\"#EBF0F8\"},\"line\":{\"color\":\"white\"}},\"header\":{\"fill\":{\"color\":\"#C8D4E3\"},\"line\":{\"color\":\"white\"}},\"type\":\"table\"}],\"barpolar\":[{\"marker\":{\"line\":{\"color\":\"#E5ECF6\",\"width\":0.5},\"pattern\":{\"fillmode\":\"overlay\",\"size\":10,\"solidity\":0.2}},\"type\":\"barpolar\"}],\"pie\":[{\"automargin\":true,\"type\":\"pie\"}]},\"layout\":{\"autotypenumbers\":\"strict\",\"colorway\":[\"#636efa\",\"#EF553B\",\"#00cc96\",\"#ab63fa\",\"#FFA15A\",\"#19d3f3\",\"#FF6692\",\"#B6E880\",\"#FF97FF\",\"#FECB52\"],\"font\":{\"color\":\"#2a3f5f\"},\"hovermode\":\"closest\",\"hoverlabel\":{\"align\":\"left\"},\"paper_bgcolor\":\"white\",\"plot_bgcolor\":\"#E5ECF6\",\"polar\":{\"bgcolor\":\"#E5ECF6\",\"angularaxis\":{\"gridcolor\":\"white\",\"linecolor\":\"white\",\"ticks\":\"\"},\"radialaxis\":{\"gridcolor\":\"white\",\"linecolor\":\"white\",\"ticks\":\"\"}},\"ternary\":{\"bgcolor\":\"#E5ECF6\",\"aaxis\":{\"gridcolor\":\"white\",\"linecolor\":\"white\",\"ticks\":\"\"},\"baxis\":{\"gridcolor\":\"white\",\"linecolor\":\"white\",\"ticks\":\"\"},\"caxis\":{\"gridcolor\":\"white\",\"linecolor\":\"white\",\"ticks\":\"\"}},\"coloraxis\":{\"colorbar\":{\"outlinewidth\":0,\"ticks\":\"\"}},\"colorscale\":{\"sequential\":[[0.0,\"#0d0887\"],[0.1111111111111111,\"#46039f\"],[0.2222222222222222,\"#7201a8\"],[0.3333333333333333,\"#9c179e\"],[0.4444444444444444,\"#bd3786\"],[0.5555555555555556,\"#d8576b\"],[0.6666666666666666,\"#ed7953\"],[0.7777777777777778,\"#fb9f3a\"],[0.8888888888888888,\"#fdca26\"],[1.0,\"#f0f921\"]],\"sequentialminus\":[[0.0,\"#0d0887\"],[0.1111111111111111,\"#46039f\"],[0.2222222222222222,\"#7201a8\"],[0.3333333333333333,\"#9c179e\"],[0.4444444444444444,\"#bd3786\"],[0.5555555555555556,\"#d8576b\"],[0.6666666666666666,\"#ed7953\"],[0.7777777777777778,\"#fb9f3a\"],[0.8888888888888888,\"#fdca26\"],[1.0,\"#f0f921\"]],\"diverging\":[[0,\"#8e0152\"],[0.1,\"#c51b7d\"],[0.2,\"#de77ae\"],[0.3,\"#f1b6da\"],[0.4,\"#fde0ef\"],[0.5,\"#f7f7f7\"],[0.6,\"#e6f5d0\"],[0.7,\"#b8e186\"],[0.8,\"#7fbc41\"],[0.9,\"#4d9221\"],[1,\"#276419\"]]},\"xaxis\":{\"gridcolor\":\"white\",\"linecolor\":\"white\",\"ticks\":\"\",\"title\":{\"standoff\":15},\"zerolinecolor\":\"white\",\"automargin\":true,\"zerolinewidth\":2},\"yaxis\":{\"gridcolor\":\"white\",\"linecolor\":\"white\",\"ticks\":\"\",\"title\":{\"standoff\":15},\"zerolinecolor\":\"white\",\"automargin\":true,\"zerolinewidth\":2},\"scene\":{\"xaxis\":{\"backgroundcolor\":\"#E5ECF6\",\"gridcolor\":\"white\",\"linecolor\":\"white\",\"showbackground\":true,\"ticks\":\"\",\"zerolinecolor\":\"white\",\"gridwidth\":2},\"yaxis\":{\"backgroundcolor\":\"#E5ECF6\",\"gridcolor\":\"white\",\"linecolor\":\"white\",\"showbackground\":true,\"ticks\":\"\",\"zerolinecolor\":\"white\",\"gridwidth\":2},\"zaxis\":{\"backgroundcolor\":\"#E5ECF6\",\"gridcolor\":\"white\",\"linecolor\":\"white\",\"showbackground\":true,\"ticks\":\"\",\"zerolinecolor\":\"white\",\"gridwidth\":2}},\"shapedefaults\":{\"line\":{\"color\":\"#2a3f5f\"}},\"annotationdefaults\":{\"arrowcolor\":\"#2a3f5f\",\"arrowhead\":0,\"arrowwidth\":1},\"geo\":{\"bgcolor\":\"white\",\"landcolor\":\"#E5ECF6\",\"subunitcolor\":\"white\",\"showland\":true,\"showlakes\":true,\"lakecolor\":\"white\"},\"title\":{\"x\":0.05},\"mapbox\":{\"style\":\"light\"}}},\"xaxis\":{\"anchor\":\"y\",\"domain\":[0.0,1.0],\"title\":{\"text\":\"Bill\"}},\"yaxis\":{\"anchor\":\"x\",\"domain\":[0.0,1.0],\"title\":{\"text\":\"Tip\"}},\"legend\":{\"title\":{\"text\":\"Day\"},\"tracegroupgap\":0,\"itemsizing\":\"constant\"},\"margin\":{\"t\":60}},                        {\"responsive\": true}                    ).then(function(){\n",
       "                            \n",
       "var gd = document.getElementById('4da56844-1416-40cf-998c-f501a97e9f8b');\n",
       "var x = new MutationObserver(function (mutations, observer) {{\n",
       "        var display = window.getComputedStyle(gd).display;\n",
       "        if (!display || display === 'none') {{\n",
       "            console.log([gd, 'removed!']);\n",
       "            Plotly.purge(gd);\n",
       "            observer.disconnect();\n",
       "        }}\n",
       "}});\n",
       "\n",
       "// Listen for the removal of the full notebook cells\n",
       "var notebookContainer = gd.closest('#notebook-container');\n",
       "if (notebookContainer) {{\n",
       "    x.observe(notebookContainer, {childList: true});\n",
       "}}\n",
       "\n",
       "// Listen for the clearing of the current output cell\n",
       "var outputEl = gd.closest('.output');\n",
       "if (outputEl) {{\n",
       "    x.observe(outputEl, {childList: true});\n",
       "}}\n",
       "\n",
       "                        })                };                });            </script>        </div>"
      ]
     },
     "metadata": {},
     "output_type": "display_data"
    },
    {
     "name": "stdout",
     "output_type": "stream",
     "text": [
      "The average percentage tips per person is: 7.097540983606552\n",
      "count    244.000000\n",
      "mean       7.097541\n",
      "std        4.008334\n",
      "min        1.300000\n",
      "25%        4.600000\n",
      "50%        6.850000\n",
      "75%        8.800000\n",
      "max       35.500000\n",
      "Name: PctTips_Guest, dtype: float64\n",
      "\n",
      " \n",
      " \n",
      " ////////////////////////////////// Machine Learning Section ////////////////////////////////// \n",
      " \n",
      " \n",
      "\n",
      "Testing first dataset\n",
      "Mean Squared Error: 0.4384057604414206\n",
      "Mean Absolute Error: 0.4391886177014744\n",
      "R-squared: 0.9127245950195849\n"
     ]
    },
    {
     "data": {
      "text/html": [
       "<div>\n",
       "<style scoped>\n",
       "    .dataframe tbody tr th:only-of-type {\n",
       "        vertical-align: middle;\n",
       "    }\n",
       "\n",
       "    .dataframe tbody tr th {\n",
       "        vertical-align: top;\n",
       "    }\n",
       "\n",
       "    .dataframe thead th {\n",
       "        text-align: right;\n",
       "    }\n",
       "</style>\n",
       "<table border=\"1\" class=\"dataframe\">\n",
       "  <thead>\n",
       "    <tr style=\"text-align: right;\">\n",
       "      <th></th>\n",
       "      <th>actual</th>\n",
       "      <th>predictions</th>\n",
       "    </tr>\n",
       "  </thead>\n",
       "  <tbody>\n",
       "    <tr>\n",
       "      <th>0</th>\n",
       "      <td>5.00</td>\n",
       "      <td>2.569937</td>\n",
       "    </tr>\n",
       "    <tr>\n",
       "      <th>1</th>\n",
       "      <td>7.04</td>\n",
       "      <td>7.647447</td>\n",
       "    </tr>\n",
       "    <tr>\n",
       "      <th>2</th>\n",
       "      <td>7.00</td>\n",
       "      <td>6.298159</td>\n",
       "    </tr>\n",
       "    <tr>\n",
       "      <th>3</th>\n",
       "      <td>3.44</td>\n",
       "      <td>3.637805</td>\n",
       "    </tr>\n",
       "    <tr>\n",
       "      <th>4</th>\n",
       "      <td>4.00</td>\n",
       "      <td>3.822806</td>\n",
       "    </tr>\n",
       "  </tbody>\n",
       "</table>\n",
       "</div>"
      ],
      "text/plain": [
       "   actual  predictions\n",
       "0    5.00     2.569937\n",
       "1    7.04     7.647447\n",
       "2    7.00     6.298159\n",
       "3    3.44     3.637805\n",
       "4    4.00     3.822806"
      ]
     },
     "metadata": {},
     "output_type": "display_data"
    },
    {
     "name": "stdout",
     "output_type": "stream",
     "text": [
      "\n",
      " \n",
      " Testing second dataset\n",
      "Mean Squared Error: 1.3549340013156126\n",
      "Mean Absolute Error: 0.8539096188096914\n",
      "R-squared: 0.40063621631351864\n"
     ]
    },
    {
     "data": {
      "text/html": [
       "<div>\n",
       "<style scoped>\n",
       "    .dataframe tbody tr th:only-of-type {\n",
       "        vertical-align: middle;\n",
       "    }\n",
       "\n",
       "    .dataframe tbody tr th {\n",
       "        vertical-align: top;\n",
       "    }\n",
       "\n",
       "    .dataframe thead th {\n",
       "        text-align: right;\n",
       "    }\n",
       "</style>\n",
       "<table border=\"1\" class=\"dataframe\">\n",
       "  <thead>\n",
       "    <tr style=\"text-align: right;\">\n",
       "      <th></th>\n",
       "      <th>actual</th>\n",
       "      <th>predictions</th>\n",
       "    </tr>\n",
       "  </thead>\n",
       "  <tbody>\n",
       "    <tr>\n",
       "      <th>0</th>\n",
       "      <td>1.83</td>\n",
       "      <td>1.680328</td>\n",
       "    </tr>\n",
       "    <tr>\n",
       "      <th>1</th>\n",
       "      <td>2.00</td>\n",
       "      <td>2.029344</td>\n",
       "    </tr>\n",
       "    <tr>\n",
       "      <th>2</th>\n",
       "      <td>3.39</td>\n",
       "      <td>2.082152</td>\n",
       "    </tr>\n",
       "    <tr>\n",
       "      <th>3</th>\n",
       "      <td>4.34</td>\n",
       "      <td>3.815345</td>\n",
       "    </tr>\n",
       "    <tr>\n",
       "      <th>4</th>\n",
       "      <td>5.00</td>\n",
       "      <td>3.053451</td>\n",
       "    </tr>\n",
       "  </tbody>\n",
       "</table>\n",
       "</div>"
      ],
      "text/plain": [
       "   actual  predictions\n",
       "0    1.83     1.680328\n",
       "1    2.00     2.029344\n",
       "2    3.39     2.082152\n",
       "3    4.34     3.815345\n",
       "4    5.00     3.053451"
      ]
     },
     "metadata": {},
     "output_type": "display_data"
    },
    {
     "name": "stdout",
     "output_type": "stream",
     "text": [
      "\n",
      " \n",
      " \n",
      " ////////////////////////////////// Combined Dataset Machine Learning Section ////////////////////////////////// \n",
      " \n",
      " \n",
      "\n",
      "Testing combined dataset\n",
      "Mean Squared Error: 0.8649821580196282\n",
      "Mean Absolute Error: 0.6762051161524949\n",
      "R-squared: 0.7176904417466412\n",
      "\n",
      " \n",
      " \n",
      " ////////////////////////////////// Train one Dataset and Test Other Dataset Machine Learning Section ////////////////////////////////// \n",
      " \n",
      " \n",
      "\n",
      "Testing Second dataset with first dataset\n",
      "Mean Squared Error: 1.5770666316175572\n",
      "Mean Absolute Error: 0.8707981159003166\n",
      "R-squared: 0.302374416367005\n",
      "\n",
      " \n",
      " Testing First dataset with Second dataset\n",
      "Mean Squared Error: 1.5470594318700193\n",
      "Mean Absolute Error: 0.900609053402327\n",
      "R-squared: 0.6920199262225065\n"
     ]
    }
   ],
   "source": [
    "import pandas as pd\n",
    "import numpy as np\n",
    "import matplotlib.pyplot as plt\n",
    "import plotly.express as px\n",
    "from sklearn.model_selection import train_test_split\n",
    "from sklearn.linear_model import LinearRegression\n",
    "from sklearn.metrics import mean_squared_error, mean_absolute_error, r2_score\n",
    "\n",
    "\n",
    "def import_dataset(file):\n",
    "    df = pd.read_csv(file) \n",
    "    return df\n",
    "\n",
    "\n",
    "#### Clean Section\n",
    "\n",
    "# Columns to keep: Total Bill, Tip, Guests, Day\n",
    "# Columns to remove: Credit, Server, Sex, Smoker, Time\n",
    "# Columns to add: PctTip\n",
    "def df1_edit(df):\n",
    "    df = df.drop(columns=['Credit','Server'])  \n",
    "    new_cols = [\"Bill\",\"Tip\", \"Day\", \"Guests\", \"PctTip\"]\n",
    "    df = df.reindex(columns=new_cols)\n",
    "    \n",
    "    df['Day'] = df['Day'].replace({'f': 'Fri', 'm': 'Mon', 't':'Tue', 'w':'Wed', 'th':\"Thur\"}) \n",
    "    days = [\"Mon\", 'Tue', 'Wed', 'Thur', 'Fri']\n",
    "    \n",
    "    df['Day'] = pd.Categorical(df['Day'], categories=days, ordered=True)\n",
    "    df = df.sort_values(by = 'Day')\n",
    "    \n",
    "    df[\"PctTips_Guest\"] = df[\"PctTip\"] / df[\"Guests\"]\n",
    "    df['PctTips_Guest'] = df['PctTips_Guest'].round(1)\n",
    "    return df\n",
    "\n",
    "def df2_edit(df):\n",
    "    df = df.rename(columns={'total_bill': 'Bill', 'tip': 'Tip', 'day': 'Day', 'size': \"Guests\"})\n",
    "    df = df.drop(columns=['sex','smoker', 'time'])\n",
    "    df['PctTip'] = (df['Tip'] / df['Bill'])*100\n",
    "    df['PctTip'] = df['PctTip'].round(1)\n",
    "    \n",
    "    days = ['Thur', 'Fri', 'Sat', 'Sun']\n",
    "    \n",
    "    df['Day'] = pd.Categorical(df['Day'], categories=days, ordered=True)\n",
    "    df = df.sort_values(by = 'Day')\n",
    "    \n",
    "    df[\"PctTips_Guest\"] = df[\"PctTip\"] / df[\"Guests\"] \n",
    "    df['PctTips_Guest'] = df['PctTips_Guest'].round(1)\n",
    "    return df\n",
    "\n",
    " \n",
    "    \n",
    "    \n",
    "#### Analysis Section\n",
    "\n",
    "def group(df):\n",
    "    avg_tip_day = df.groupby(\"Day\")[\"PctTip\"].mean()\n",
    "    return avg_tip_day\n",
    "\n",
    "    \n",
    "def plot(avg_tip_day):\n",
    "    plt.plot(avg_tip_day)\n",
    "    plt.yticks([16.0,16.5,17,17.5,18])\n",
    "    plt.title(\"Tips by Day\")\n",
    "    plt.show()\n",
    "    \n",
    "\n",
    "def graphs(df):\n",
    "    figure = px.scatter(data_frame = df, x=\"Bill\", y=\"Tip\", size=\"Guests\", color= \"Day\", trendline=\"ols\")\n",
    "    figure.show()\n",
    "    \n",
    "    figure = px.scatter(data_frame = df, x=\"Bill\", y=\"Tip\", size=\"PctTips_Guest\", color= \"Day\", trendline=\"ols\")\n",
    "    figure.show()\n",
    "\n",
    "def stats(df):\n",
    "    print(\"The average percentage tips per person is:\",df[\"PctTips_Guest\"].mean())\n",
    "    stats = df[\"PctTips_Guest\"].describe()\n",
    "    print(stats)\n",
    "    \n",
    "    \n",
    "    \n",
    "    \n",
    "###### Machine Learning Section\n",
    "    \n",
    "def df1_prepare_ML(df): \n",
    "    df[\"Day\"] = df[\"Day\"].map({\"Mon\": 1, \"Tue\": 2, \"Wed\": 3, \"Thur\": 4, \"Fri\": 5})\n",
    "\n",
    "    \n",
    "def df2_prepare_ML(df):  \n",
    "    df[\"Day\"] = df[\"Day\"].map({\"Thur\": 4, \"Fri\": 5, \"Sat\": 6, \"Sun\": 7})\n",
    "\n",
    "\n",
    "def split_data(df):\n",
    "    x = np.array(df[[\"Bill\", \"Day\", \"Guests\"]])\n",
    "    y = np.array(df[\"Tip\"])\n",
    "\n",
    "    xtrain, xtest, ytrain, ytest = train_test_split(x, y, test_size=0.2, random_state=42)\n",
    "    return xtrain, xtest, ytrain, ytest\n",
    "    \n",
    "    \n",
    "def train_model(xtrain, ytrain):\n",
    "    model = LinearRegression()\n",
    "    model.fit(xtrain, ytrain)\n",
    "    return model\n",
    "\n",
    "\n",
    "def test_model(model, xtest, ytest):\n",
    "    predictions = model.predict(xtest)\n",
    "\n",
    "    mse = mean_squared_error(ytest, predictions)\n",
    "    mae = mean_absolute_error(ytest, predictions)\n",
    "    r_squared = r2_score(ytest, predictions)\n",
    "\n",
    "    print(\"Mean Squared Error:\", mse)\n",
    "    print(\"Mean Absolute Error:\", mae)\n",
    "    print(\"R-squared:\", r_squared)\n",
    "    \n",
    "    return predictions\n",
    "    \n",
    "    \n",
    "\n",
    "############ Combine both datasets then use machine learning to predict tips\n",
    "\n",
    "def combine_df(df1, df2):\n",
    "    combined_df = pd.concat([df1, df2], ignore_index=True)\n",
    "    return combined_df\n",
    "    \n",
    "def combined_split_data(combined_df):\n",
    "    x = np.array(df[[\"Bill\", \"Day\", \"Guests\"]])\n",
    "    y = np.array(df[\"Tip\"])\n",
    "\n",
    "    xtrain, xtest, ytrain, ytest = train_test_split(x, y, test_size=0.2, random_state=42)\n",
    "    return xtrain, xtest, ytrain, ytest\n",
    "    \n",
    "    \n",
    "def combined_train_model(xtrain, ytrain):\n",
    "    model = LinearRegression()\n",
    "    model.fit(xtrain, ytrain)\n",
    "    return model\n",
    "\n",
    "\n",
    "def combined_test_model(model, xtest, ytest):\n",
    "    predictions = model.predict(xtest)\n",
    "    \n",
    "    mse = mean_squared_error(ytest, predictions)\n",
    "    mae = mean_absolute_error(ytest, predictions)\n",
    "    r_squared = r2_score(ytest, predictions)\n",
    "\n",
    "    print(\"Mean Squared Error:\", mse)\n",
    "    print(\"Mean Absolute Error:\", mae)\n",
    "    print(\"R-squared:\", r_squared)\n",
    "    \n",
    "    \n",
    "\n",
    "# Compare Predictions with actual value\n",
    "\n",
    "def compare_result(predictions, ytest):\n",
    "    compare_result = pd.concat([pd.Series(ytest), pd.Series(predictions)], axis=1)\n",
    "    compare_result.columns = [\"actual\", \"predictions\"]\n",
    "    display(compare_result.head())\n",
    "    \n",
    "    \n",
    "    \n",
    "    \n",
    "    \n",
    "def main():\n",
    "    #First dataset\n",
    "    file1 = \"RestaurantTips.csv\"\n",
    "    df1 = import_dataset(file1)\n",
    "    print(\"Dataset 1\")\n",
    "    display(df1.head())\n",
    "    display(df1.info())\n",
    "    \n",
    "    # Second dataset\n",
    "    file2 = \"tips.csv\"\n",
    "    print(\"\\n\",\"Dataset 2\")\n",
    "    df2 = import_dataset(file2)\n",
    "    display(df2.head())\n",
    "    display(df2.info())\n",
    "    \n",
    "    print(\"\\n\",\"\\n\",\"\\n\",\"Edited version of datasets\",\"\\n\")\n",
    "    \n",
    "    print(\"Dataset 1\")\n",
    "    df1 = df1_edit(df1)\n",
    "    print('Days Recorded:', '\\n', df1['Day'].value_counts())\n",
    "    display(df1.head())\n",
    "    df1_avg_tip_day = group(df1)\n",
    "    print(df1_avg_tip_day)\n",
    "    plot(df1_avg_tip_day)\n",
    "    graphs(df1)\n",
    "    stats(df1)\n",
    "    \n",
    "    print('\\n', '\\n',\"Dataset 2\")\n",
    "    df2 = df2_edit(df2)\n",
    "    print('Days Recorded :', '\\n', df2['Day'].value_counts())\n",
    "    display(df2.head())\n",
    "    df2_avg_tip_day = group(df2)\n",
    "    print(df2_avg_tip_day)\n",
    "    plot(df2_avg_tip_day)\n",
    "    graphs(df2)\n",
    "    stats(df2)\n",
    "    \n",
    "    \n",
    "    print(\"\\n\",\"\\n\",\"\\n\",\"////////////////////////////////// Machine Learning Section //////////////////////////////////\",\"\\n\",\"\\n\",\"\\n\")\n",
    "    \n",
    "    df1_prepare_ML(df1)\n",
    "    df1_xtrain, df1_xtest, df1_ytrain, df1_ytest = split_data(df1)\n",
    "    df1_model = train_model(df1_xtrain, df1_ytrain)\n",
    "    print(\"Testing first dataset\")\n",
    "    df1_predictions = test_model(df1_model, df1_xtest, df1_ytest)\n",
    "    compare_result(df1_predictions, df1_ytest)\n",
    "    \n",
    "    df2_prepare_ML(df2)\n",
    "    df2_xtrain, df2_xtest, df2_ytrain, df2_ytest = split_data(df2)\n",
    "    df2_model = train_model(df2_xtrain, df2_ytrain)\n",
    "    print(\"\\n\",\"\\n\",\"Testing second dataset\")\n",
    "    df2_predictions = test_model(df2_model, df2_xtest, df2_ytest)\n",
    "    compare_result(df2_predictions, df2_ytest)\n",
    "    \n",
    "    \n",
    "    print(\"\\n\",\"\\n\",\"\\n\",\"////////////////////////////////// Combined Dataset Machine Learning Section //////////////////////////////////\",\"\\n\",\"\\n\",\"\\n\")\n",
    "\n",
    "    combined_df = combine_df(df1,df2)\n",
    "    combined_xtrain, combined_xtest, combined_ytrain, combined_ytest = split_data(combined_df)\n",
    "    combined_model = train_model(combined_xtrain, combined_ytrain)\n",
    "    print(\"Testing combined dataset\")\n",
    "    test_model(combined_model, combined_xtest, combined_ytest)\n",
    "    \n",
    "    \n",
    "    print(\"\\n\",\"\\n\",\"\\n\",\"////////////////////////////////// Train one Dataset and Test Other Dataset Machine Learning Section //////////////////////////////////\",\"\\n\",\"\\n\",\"\\n\")\n",
    "    \n",
    "    print(\"Testing Second dataset with first dataset\")\n",
    "    test_model(df1_model, df2_xtest, df2_ytest)\n",
    "    \n",
    "    print(\"\\n\",\"\\n\",\"Testing First dataset with Second dataset\")\n",
    "    test_model(df2_model, df1_xtest, df1_ytest)\n",
    "    \n",
    "    \n",
    "main()"
   ]
  },
  {
   "cell_type": "code",
   "execution_count": null,
   "id": "58da6b7e-4913-45a4-93aa-6706a8e4f266",
   "metadata": {},
   "outputs": [],
   "source": []
  }
 ],
 "metadata": {
  "kernelspec": {
   "display_name": "Python 3 (ipykernel)",
   "language": "python",
   "name": "python3"
  },
  "language_info": {
   "codemirror_mode": {
    "name": "ipython",
    "version": 3
   },
   "file_extension": ".py",
   "mimetype": "text/x-python",
   "name": "python",
   "nbconvert_exporter": "python",
   "pygments_lexer": "ipython3",
   "version": "3.9.13"
  }
 },
 "nbformat": 4,
 "nbformat_minor": 5
}
